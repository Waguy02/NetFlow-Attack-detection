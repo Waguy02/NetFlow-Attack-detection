{
 "cells": [
  {
   "cell_type": "code",
   "execution_count": 1,
   "metadata": {},
   "outputs": [
    {
     "name": "stdout",
     "output_type": "stream",
     "text": [
      "Requirement already satisfied: torchvision in c:\\users\\cmaig\\appdata\\local\\programs\\python\\python310\\lib\\site-packages (0.19.1+cu118)\n",
      "Requirement already satisfied: pillow!=8.3.*,>=5.3.0 in c:\\users\\cmaig\\appdata\\local\\programs\\python\\python310\\lib\\site-packages (from torchvision) (9.2.0)\n",
      "Requirement already satisfied: torch==2.4.1+cu118 in c:\\users\\cmaig\\appdata\\local\\programs\\python\\python310\\lib\\site-packages (from torchvision) (2.4.1+cu118)\n",
      "Requirement already satisfied: numpy in c:\\users\\cmaig\\appdata\\local\\programs\\python\\python310\\lib\\site-packages (from torchvision) (1.22.4)\n",
      "Requirement already satisfied: filelock in c:\\users\\cmaig\\appdata\\local\\programs\\python\\python310\\lib\\site-packages (from torch==2.4.1+cu118->torchvision) (3.16.1)\n",
      "Requirement already satisfied: sympy in c:\\users\\cmaig\\appdata\\local\\programs\\python\\python310\\lib\\site-packages (from torch==2.4.1+cu118->torchvision) (1.13.3)\n",
      "Requirement already satisfied: typing-extensions>=4.8.0 in c:\\users\\cmaig\\appdata\\local\\programs\\python\\python310\\lib\\site-packages (from torch==2.4.1+cu118->torchvision) (4.12.2)\n",
      "Requirement already satisfied: jinja2 in c:\\users\\cmaig\\appdata\\local\\programs\\python\\python310\\lib\\site-packages (from torch==2.4.1+cu118->torchvision) (3.1.2)\n",
      "Requirement already satisfied: networkx in c:\\users\\cmaig\\appdata\\local\\programs\\python\\python310\\lib\\site-packages (from torch==2.4.1+cu118->torchvision) (2.8.4)\n",
      "Requirement already satisfied: fsspec in c:\\users\\cmaig\\appdata\\local\\programs\\python\\python310\\lib\\site-packages (from torch==2.4.1+cu118->torchvision) (2024.9.0)\n",
      "Requirement already satisfied: MarkupSafe>=2.0 in c:\\users\\cmaig\\appdata\\local\\programs\\python\\python310\\lib\\site-packages (from jinja2->torch==2.4.1+cu118->torchvision) (2.1.1)\n",
      "Requirement already satisfied: mpmath<1.4,>=1.1.0 in c:\\users\\cmaig\\appdata\\local\\programs\\python\\python310\\lib\\site-packages (from sympy->torch==2.4.1+cu118->torchvision) (1.3.0)\n"
     ]
    },
    {
     "name": "stderr",
     "output_type": "stream",
     "text": [
      "WARNING: You are using pip version 22.0.4; however, version 24.2 is available.\n",
      "You should consider upgrading via the 'C:\\Users\\cmaig\\AppData\\Local\\Programs\\Python\\Python310\\python.exe -m pip install --upgrade pip' command.\n"
     ]
    }
   ],
   "source": [
    "! pip install torchvision"
   ]
  },
  {
   "cell_type": "code",
   "execution_count": 3,
   "metadata": {
    "pycharm": {
     "is_executing": true,
     "name": "#%%\n"
    }
   },
   "outputs": [],
   "source": [
    "import torch\n",
    "import torch.nn as nn\n",
    "from torch.autograd import Variable\n",
    "import torchvision.datasets as dset\n",
    "import torchvision.transforms as transforms\n",
    "import torch.nn.functional as F\n",
    "import torch.optim as optim"
   ]
  },
  {
   "cell_type": "markdown",
   "metadata": {
    "pycharm": {
     "name": "#%% md\n"
    }
   },
   "source": [
    "# Load MNIST Dataset"
   ]
  },
  {
   "cell_type": "code",
   "execution_count": 4,
   "metadata": {
    "pycharm": {
     "name": "#%%\n"
    }
   },
   "outputs": [
    {
     "name": "stdout",
     "output_type": "stream",
     "text": [
      "Downloading http://yann.lecun.com/exdb/mnist/train-images-idx3-ubyte.gz\n",
      "Failed to download (trying next):\n",
      "HTTP Error 403: Forbidden\n",
      "\n",
      "Downloading https://ossci-datasets.s3.amazonaws.com/mnist/train-images-idx3-ubyte.gz\n",
      "Downloading https://ossci-datasets.s3.amazonaws.com/mnist/train-images-idx3-ubyte.gz to ./data\\MNIST\\raw\\train-images-idx3-ubyte.gz\n"
     ]
    },
    {
     "name": "stderr",
     "output_type": "stream",
     "text": [
      "100%|███████████████████████████████████████████████████████████████████| 9912422/9912422 [00:05<00:00, 1705271.36it/s]\n"
     ]
    },
    {
     "name": "stdout",
     "output_type": "stream",
     "text": [
      "Extracting ./data\\MNIST\\raw\\train-images-idx3-ubyte.gz to ./data\\MNIST\\raw\n",
      "\n",
      "Downloading http://yann.lecun.com/exdb/mnist/train-labels-idx1-ubyte.gz\n",
      "Failed to download (trying next):\n",
      "HTTP Error 403: Forbidden\n",
      "\n",
      "Downloading https://ossci-datasets.s3.amazonaws.com/mnist/train-labels-idx1-ubyte.gz\n",
      "Downloading https://ossci-datasets.s3.amazonaws.com/mnist/train-labels-idx1-ubyte.gz to ./data\\MNIST\\raw\\train-labels-idx1-ubyte.gz\n"
     ]
    },
    {
     "name": "stderr",
     "output_type": "stream",
     "text": [
      "100%|████████████████████████████████████████████████████████████████████████| 28881/28881 [00:00<00:00, 248908.28it/s]\n"
     ]
    },
    {
     "name": "stdout",
     "output_type": "stream",
     "text": [
      "Extracting ./data\\MNIST\\raw\\train-labels-idx1-ubyte.gz to ./data\\MNIST\\raw\n",
      "\n",
      "Downloading http://yann.lecun.com/exdb/mnist/t10k-images-idx3-ubyte.gz\n",
      "Failed to download (trying next):\n",
      "HTTP Error 403: Forbidden\n",
      "\n",
      "Downloading https://ossci-datasets.s3.amazonaws.com/mnist/t10k-images-idx3-ubyte.gz\n",
      "Downloading https://ossci-datasets.s3.amazonaws.com/mnist/t10k-images-idx3-ubyte.gz to ./data\\MNIST\\raw\\t10k-images-idx3-ubyte.gz\n"
     ]
    },
    {
     "name": "stderr",
     "output_type": "stream",
     "text": [
      "100%|███████████████████████████████████████████████████████████████████| 1648877/1648877 [00:01<00:00, 1508397.28it/s]\n"
     ]
    },
    {
     "name": "stdout",
     "output_type": "stream",
     "text": [
      "Extracting ./data\\MNIST\\raw\\t10k-images-idx3-ubyte.gz to ./data\\MNIST\\raw\n",
      "\n",
      "Downloading http://yann.lecun.com/exdb/mnist/t10k-labels-idx1-ubyte.gz\n",
      "Failed to download (trying next):\n",
      "HTTP Error 403: Forbidden\n",
      "\n",
      "Downloading https://ossci-datasets.s3.amazonaws.com/mnist/t10k-labels-idx1-ubyte.gz\n",
      "Downloading https://ossci-datasets.s3.amazonaws.com/mnist/t10k-labels-idx1-ubyte.gz to ./data\\MNIST\\raw\\t10k-labels-idx1-ubyte.gz\n"
     ]
    },
    {
     "name": "stderr",
     "output_type": "stream",
     "text": [
      "100%|█████████████████████████████████████████████████████████████████████████| 4542/4542 [00:00<00:00, 4548836.86it/s]"
     ]
    },
    {
     "name": "stdout",
     "output_type": "stream",
     "text": [
      "Extracting ./data\\MNIST\\raw\\t10k-labels-idx1-ubyte.gz to ./data\\MNIST\\raw\n",
      "\n"
     ]
    },
    {
     "name": "stderr",
     "output_type": "stream",
     "text": [
      "\n"
     ]
    }
   ],
   "source": [
    "trans = transforms.Compose([transforms.ToTensor(), transforms.Normalize((0.5,), (1.0,))])\n",
    "train_set = dset.MNIST(root='./data', train=True, transform=trans, download=True)\n",
    "test_set = dset.MNIST(root='./data', train=False, transform=trans)\n",
    "\n",
    "batch_size = 128\n",
    "\n",
    "train_loader = torch.utils.data.DataLoader(\n",
    "                 dataset=train_set,\n",
    "                 batch_size=batch_size,\n",
    "                 shuffle=True)\n",
    "test_loader = torch.utils.data.DataLoader(\n",
    "                dataset=test_set,\n",
    "                batch_size=batch_size,\n",
    "                shuffle=False)\n"
   ]
  },
  {
   "cell_type": "markdown",
   "metadata": {
    "pycharm": {
     "name": "#%% md\n"
    }
   },
   "source": [
    "# Build MLP Model\n",
    "![](images/MLP.png)"
   ]
  },
  {
   "cell_type": "code",
   "execution_count": 3,
   "metadata": {
    "pycharm": {
     "name": "#%%\n"
    }
   },
   "outputs": [],
   "source": [
    "class MLP(nn.Module):\n",
    "    def __init__(self,n_class=10):\n",
    "        super(MLP, self).__init__()\n",
    "        \n",
    "        self.fc = nn.Sequential(\n",
    "            nn.Linear(28*28,64),\n",
    "            nn.ReLU(inplace=True),\n",
    "            nn.Linear(64,n_class)\n",
    "        )\n",
    "        \n",
    "        \"\"\"\n",
    "        self.fc1 = nn.Linear(28*28,64)\n",
    "        self.relu = nn.ReLU(inplace=True)\n",
    "        slef.fc2 = nn.Linear(64,n_class)\n",
    "        \"\"\"\n",
    "        \n",
    "    def forward(self, x):\n",
    "        x = x.view(-1,28*28)      # x:(batch_size,1,28,28) => x:(batch_size,28*28)\n",
    "        logits = self.fc(x)\n",
    "        return logits\n"
   ]
  },
  {
   "cell_type": "markdown",
   "metadata": {
    "pycharm": {
     "name": "#%% md\n"
    }
   },
   "source": [
    "# Training"
   ]
  },
  {
   "cell_type": "code",
   "execution_count": 4,
   "metadata": {
    "pycharm": {
     "name": "#%%\n"
    },
    "scrolled": true
   },
   "outputs": [
    {
     "name": "stdout",
     "output_type": "stream",
     "text": [
      "==>>> epoch: 0, batch index: 100, train loss: 0.599243\n",
      "==>>> epoch: 0, batch index: 200, train loss: 0.370671\n",
      "==>>> epoch: 0, batch index: 300, train loss: 0.356554\n",
      "==>>> epoch: 0, batch index: 400, train loss: 0.363393\n",
      "==>>> epoch: 0, batch index: 469, train loss: 0.328055\n",
      "==>>> epoch: 0, batch index: 79, test loss: 0.258991, acc: 0.904\n",
      "==>>> epoch: 1, batch index: 100, train loss: 0.330634\n",
      "==>>> epoch: 1, batch index: 200, train loss: 0.321183\n",
      "==>>> epoch: 1, batch index: 300, train loss: 0.289736\n",
      "==>>> epoch: 1, batch index: 400, train loss: 0.268071\n",
      "==>>> epoch: 1, batch index: 469, train loss: 0.252494\n",
      "==>>> epoch: 1, batch index: 79, test loss: 0.196113, acc: 0.928\n",
      "==>>> epoch: 2, batch index: 100, train loss: 0.245743\n",
      "==>>> epoch: 2, batch index: 200, train loss: 0.261259\n",
      "==>>> epoch: 2, batch index: 300, train loss: 0.216066\n",
      "==>>> epoch: 2, batch index: 400, train loss: 0.228394\n",
      "==>>> epoch: 2, batch index: 469, train loss: 0.218366\n",
      "==>>> epoch: 2, batch index: 79, test loss: 0.174592, acc: 0.940\n",
      "==>>> epoch: 3, batch index: 100, train loss: 0.211513\n",
      "==>>> epoch: 3, batch index: 200, train loss: 0.202970\n",
      "==>>> epoch: 3, batch index: 300, train loss: 0.208592\n",
      "==>>> epoch: 3, batch index: 400, train loss: 0.194829\n",
      "==>>> epoch: 3, batch index: 469, train loss: 0.205181\n",
      "==>>> epoch: 3, batch index: 79, test loss: 0.153898, acc: 0.946\n",
      "==>>> epoch: 4, batch index: 100, train loss: 0.187758\n",
      "==>>> epoch: 4, batch index: 200, train loss: 0.180585\n",
      "==>>> epoch: 4, batch index: 300, train loss: 0.159085\n",
      "==>>> epoch: 4, batch index: 400, train loss: 0.167744\n",
      "==>>> epoch: 4, batch index: 469, train loss: 0.169181\n",
      "==>>> epoch: 4, batch index: 79, test loss: 0.135267, acc: 0.953\n",
      "==>>> epoch: 5, batch index: 100, train loss: 0.159098\n",
      "==>>> epoch: 5, batch index: 200, train loss: 0.164427\n",
      "==>>> epoch: 5, batch index: 300, train loss: 0.139629\n",
      "==>>> epoch: 5, batch index: 400, train loss: 0.140556\n",
      "==>>> epoch: 5, batch index: 469, train loss: 0.125588\n",
      "==>>> epoch: 5, batch index: 79, test loss: 0.116259, acc: 0.955\n",
      "==>>> epoch: 6, batch index: 100, train loss: 0.148984\n",
      "==>>> epoch: 6, batch index: 200, train loss: 0.135226\n",
      "==>>> epoch: 6, batch index: 300, train loss: 0.133943\n",
      "==>>> epoch: 6, batch index: 400, train loss: 0.122036\n",
      "==>>> epoch: 6, batch index: 469, train loss: 0.143205\n",
      "==>>> epoch: 6, batch index: 79, test loss: 0.105893, acc: 0.961\n",
      "==>>> epoch: 7, batch index: 100, train loss: 0.133927\n",
      "==>>> epoch: 7, batch index: 200, train loss: 0.123254\n",
      "==>>> epoch: 7, batch index: 300, train loss: 0.121076\n",
      "==>>> epoch: 7, batch index: 400, train loss: 0.122905\n",
      "==>>> epoch: 7, batch index: 469, train loss: 0.104411\n",
      "==>>> epoch: 7, batch index: 79, test loss: 0.102268, acc: 0.964\n",
      "==>>> epoch: 8, batch index: 100, train loss: 0.115793\n",
      "==>>> epoch: 8, batch index: 200, train loss: 0.096669\n",
      "==>>> epoch: 8, batch index: 300, train loss: 0.113776\n",
      "==>>> epoch: 8, batch index: 400, train loss: 0.105894\n",
      "==>>> epoch: 8, batch index: 469, train loss: 0.123020\n",
      "==>>> epoch: 8, batch index: 79, test loss: 0.093373, acc: 0.964\n",
      "==>>> epoch: 9, batch index: 100, train loss: 0.113643\n",
      "==>>> epoch: 9, batch index: 200, train loss: 0.082132\n",
      "==>>> epoch: 9, batch index: 300, train loss: 0.088241\n",
      "==>>> epoch: 9, batch index: 400, train loss: 0.110494\n",
      "==>>> epoch: 9, batch index: 469, train loss: 0.114367\n",
      "==>>> epoch: 9, batch index: 79, test loss: 0.094177, acc: 0.963\n"
     ]
    }
   ],
   "source": [
    "model = MLP()\n",
    "criterion = nn.CrossEntropyLoss()\n",
    "optimizer = optim.Adam(model.parameters(), lr=1e-3)\n",
    "\n",
    "for epoch in range(10):\n",
    "    # trainning\n",
    "    ave_loss = 0\n",
    "    for batch_idx, (x, target) in enumerate(train_loader):\n",
    "        optimizer.zero_grad()\n",
    "        x, target = Variable(x), Variable(target)\n",
    "        logits = model(x)\n",
    "        loss = criterion(logits, target)\n",
    "        ave_loss = ave_loss * 0.9 + loss * 0.1\n",
    "        loss.backward()\n",
    "        optimizer.step()\n",
    "        if (batch_idx+1) % 100 == 0 or (batch_idx+1) == len(train_loader):\n",
    "            print ('==>>> epoch: {}, batch index: {}, train loss: {:.6f}').format(\n",
    "                epoch, batch_idx+1, ave_loss)\n",
    "    # testing\n",
    "    correct_cnt, ave_loss = 0, 0\n",
    "    total_cnt = 0\n",
    "    for batch_idx, (x, target) in enumerate(test_loader):\n",
    "        x, target = Variable(x, volatile=True), Variable(target, volatile=True)\n",
    "        logits = model(x)\n",
    "        loss = criterion(logits, target)\n",
    "        _, pred_label = torch.max(logits.data, 1)\n",
    "        total_cnt += x.data.size()[0]\n",
    "        correct_cnt += (pred_label == target.data).sum()\n",
    "        # smooth average\n",
    "        ave_loss = ave_loss * 0.9 + loss * 0.1\n",
    "        \n",
    "        if(batch_idx+1) % 100 == 0 or (batch_idx+1) == len(test_loader):\n",
    "            print('==>>> epoch: {}, batch index: {}, test loss: {:.6f}, acc: {:.3f}'.format(\n",
    "                epoch, batch_idx+1, ave_loss, correct_cnt * 1.0 / total_cnt))"
   ]
  }
 ],
 "metadata": {
  "celltoolbar": "Tags",
  "kernelspec": {
   "display_name": "Python 3 (ipykernel)",
   "language": "python",
   "name": "python3"
  },
  "language_info": {
   "codemirror_mode": {
    "name": "ipython",
    "version": 3
   },
   "file_extension": ".py",
   "mimetype": "text/x-python",
   "name": "python",
   "nbconvert_exporter": "python",
   "pygments_lexer": "ipython3",
   "version": "3.10.5"
  }
 },
 "nbformat": 4,
 "nbformat_minor": 4
}