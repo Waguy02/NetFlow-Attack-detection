{
 "cells": [
  {
   "cell_type": "code",
   "execution_count": 1,
   "metadata": {
    "collapsed": false,
    "jupyter": {
     "outputs_hidden": false
    },
    "pycharm": {
     "name": "#%%\n"
    }
   },
   "outputs": [],
   "source": [
    "import sys\n",
    "sys.path.append(\"../..\")"
   ]
  },
  {
   "cell_type": "markdown",
   "metadata": {
    "collapsed": false,
    "jupyter": {
     "outputs_hidden": false
    },
    "pycharm": {
     "name": "#%% md\n"
    }
   },
   "source": [
    "# Exploratory Data Analysis (EDA)\n",
    "-------------------------\n",
    "- This notebook is dedicated to the exploratory data analysis of the dataset\n",
    "raw/NF-UNSW-NB15-v2 which contains the network traffic data in the netflow format.\n",
    "- The dataset contains *43* etflow features and a total of *2390275* records.\n",
    "\n"
   ]
  },
  {
   "cell_type": "code",
   "execution_count": 2,
   "metadata": {
    "collapsed": false,
    "jupyter": {
     "outputs_hidden": false
    },
    "pycharm": {
     "name": "#%%\n"
    }
   },
   "outputs": [],
   "source": [
    "import pandas as pd\n",
    "import numpy as np\n",
    "#Libraries for graph visualization\n",
    "import networkx as nx"
   ]
  },
  {
   "cell_type": "code",
   "execution_count": 3,
   "metadata": {
    "collapsed": false,
    "jupyter": {
     "outputs_hidden": false
    },
    "pycharm": {
     "name": "#%%\n"
    }
   },
   "outputs": [],
   "source": [
    "from network_ad.config import DATA_PATH\n",
    "import matplotlib.pyplot as plt\n",
    "import seaborn as sns"
   ]
  },
  {
   "cell_type": "markdown",
   "metadata": {
    "collapsed": false,
    "jupyter": {
     "outputs_hidden": false
    },
    "pycharm": {
     "name": "#%% md\n"
    }
   },
   "source": [
    "# 1. Data Loading"
   ]
  },
  {
   "cell_type": "code",
   "execution_count": 4,
   "metadata": {
    "collapsed": false,
    "jupyter": {
     "outputs_hidden": false
    },
    "pycharm": {
     "name": "#%%\n"
    }
   },
   "outputs": [],
   "source": [
    "from network_ad.config import RAW_DATA_FILE\n",
    "def load_data():\n",
    "    return pd.read_csv(DATA_PATH / RAW_DATA_FILE)\n",
    "data_df = load_data()"
   ]
  },
  {
   "cell_type": "code",
   "execution_count": 5,
   "metadata": {
    "collapsed": false,
    "jupyter": {
     "outputs_hidden": false
    },
    "pycharm": {
     "name": "#%%\n"
    }
   },
   "outputs": [],
   "source": [
    "data_df =data_df.sample(frac=0.1)"
   ]
  },
  {
   "cell_type": "code",
   "execution_count": 6,
   "metadata": {
    "collapsed": false,
    "jupyter": {
     "outputs_hidden": false
    },
    "pycharm": {
     "name": "#%%\n"
    }
   },
   "outputs": [
    {
     "name": "stdout",
     "output_type": "stream",
     "text": [
      "<class 'pandas.core.frame.DataFrame'>\n",
      "Int64Index: 239028 entries, 1082976 to 1644753\n",
      "Data columns (total 45 columns):\n",
      " #   Column                       Non-Null Count   Dtype  \n",
      "---  ------                       --------------   -----  \n",
      " 0   IPV4_SRC_ADDR                239028 non-null  object \n",
      " 1   L4_SRC_PORT                  239028 non-null  int64  \n",
      " 2   IPV4_DST_ADDR                239028 non-null  object \n",
      " 3   L4_DST_PORT                  239028 non-null  int64  \n",
      " 4   PROTOCOL                     239028 non-null  int64  \n",
      " 5   L7_PROTO                     239028 non-null  float64\n",
      " 6   IN_BYTES                     239028 non-null  int64  \n",
      " 7   IN_PKTS                      239028 non-null  int64  \n",
      " 8   OUT_BYTES                    239028 non-null  int64  \n",
      " 9   OUT_PKTS                     239028 non-null  int64  \n",
      " 10  TCP_FLAGS                    239028 non-null  int64  \n",
      " 11  CLIENT_TCP_FLAGS             239028 non-null  int64  \n",
      " 12  SERVER_TCP_FLAGS             239028 non-null  int64  \n",
      " 13  FLOW_DURATION_MILLISECONDS   239028 non-null  int64  \n",
      " 14  DURATION_IN                  239028 non-null  int64  \n",
      " 15  DURATION_OUT                 239028 non-null  int64  \n",
      " 16  MIN_TTL                      239028 non-null  int64  \n",
      " 17  MAX_TTL                      239028 non-null  int64  \n",
      " 18  LONGEST_FLOW_PKT             239028 non-null  int64  \n",
      " 19  SHORTEST_FLOW_PKT            239028 non-null  int64  \n",
      " 20  MIN_IP_PKT_LEN               239028 non-null  int64  \n",
      " 21  MAX_IP_PKT_LEN               239028 non-null  int64  \n",
      " 22  SRC_TO_DST_SECOND_BYTES      239028 non-null  float64\n",
      " 23  DST_TO_SRC_SECOND_BYTES      239028 non-null  float64\n",
      " 24  RETRANSMITTED_IN_BYTES       239028 non-null  int64  \n",
      " 25  RETRANSMITTED_IN_PKTS        239028 non-null  int64  \n",
      " 26  RETRANSMITTED_OUT_BYTES      239028 non-null  int64  \n",
      " 27  RETRANSMITTED_OUT_PKTS       239028 non-null  int64  \n",
      " 28  SRC_TO_DST_AVG_THROUGHPUT    239028 non-null  int64  \n",
      " 29  DST_TO_SRC_AVG_THROUGHPUT    239028 non-null  int64  \n",
      " 30  NUM_PKTS_UP_TO_128_BYTES     239028 non-null  int64  \n",
      " 31  NUM_PKTS_128_TO_256_BYTES    239028 non-null  int64  \n",
      " 32  NUM_PKTS_256_TO_512_BYTES    239028 non-null  int64  \n",
      " 33  NUM_PKTS_512_TO_1024_BYTES   239028 non-null  int64  \n",
      " 34  NUM_PKTS_1024_TO_1514_BYTES  239028 non-null  int64  \n",
      " 35  TCP_WIN_MAX_IN               239028 non-null  int64  \n",
      " 36  TCP_WIN_MAX_OUT              239028 non-null  int64  \n",
      " 37  ICMP_TYPE                    239028 non-null  int64  \n",
      " 38  ICMP_IPV4_TYPE               239028 non-null  int64  \n",
      " 39  DNS_QUERY_ID                 239028 non-null  int64  \n",
      " 40  DNS_QUERY_TYPE               239028 non-null  int64  \n",
      " 41  DNS_TTL_ANSWER               239028 non-null  int64  \n",
      " 42  FTP_COMMAND_RET_CODE         239028 non-null  float64\n",
      " 43  Label                        239028 non-null  int64  \n",
      " 44  Attack                       239028 non-null  object \n",
      "dtypes: float64(4), int64(38), object(3)\n",
      "memory usage: 83.9+ MB\n"
     ]
    }
   ],
   "source": [
    "data_df.info()"
   ]
  },
  {
   "cell_type": "code",
   "execution_count": 7,
   "metadata": {
    "collapsed": false,
    "jupyter": {
     "outputs_hidden": false
    },
    "pycharm": {
     "name": "#%%\n"
    }
   },
   "outputs": [
    {
     "data": {
      "text/html": [
       "<div>\n",
       "<style scoped>\n",
       "    .dataframe tbody tr th:only-of-type {\n",
       "        vertical-align: middle;\n",
       "    }\n",
       "\n",
       "    .dataframe tbody tr th {\n",
       "        vertical-align: top;\n",
       "    }\n",
       "\n",
       "    .dataframe thead th {\n",
       "        text-align: right;\n",
       "    }\n",
       "</style>\n",
       "<table border=\"1\" class=\"dataframe\">\n",
       "  <thead>\n",
       "    <tr style=\"text-align: right;\">\n",
       "      <th></th>\n",
       "      <th>IPV4_SRC_ADDR</th>\n",
       "      <th>L4_SRC_PORT</th>\n",
       "      <th>IPV4_DST_ADDR</th>\n",
       "      <th>L4_DST_PORT</th>\n",
       "      <th>PROTOCOL</th>\n",
       "      <th>L7_PROTO</th>\n",
       "      <th>IN_BYTES</th>\n",
       "      <th>IN_PKTS</th>\n",
       "      <th>OUT_BYTES</th>\n",
       "      <th>OUT_PKTS</th>\n",
       "      <th>...</th>\n",
       "      <th>TCP_WIN_MAX_IN</th>\n",
       "      <th>TCP_WIN_MAX_OUT</th>\n",
       "      <th>ICMP_TYPE</th>\n",
       "      <th>ICMP_IPV4_TYPE</th>\n",
       "      <th>DNS_QUERY_ID</th>\n",
       "      <th>DNS_QUERY_TYPE</th>\n",
       "      <th>DNS_TTL_ANSWER</th>\n",
       "      <th>FTP_COMMAND_RET_CODE</th>\n",
       "      <th>Label</th>\n",
       "      <th>Attack</th>\n",
       "    </tr>\n",
       "  </thead>\n",
       "  <tbody>\n",
       "    <tr>\n",
       "      <th>1082976</th>\n",
       "      <td>59.166.0.8</td>\n",
       "      <td>56780</td>\n",
       "      <td>149.171.126.3</td>\n",
       "      <td>21</td>\n",
       "      <td>6</td>\n",
       "      <td>1.0</td>\n",
       "      <td>2059</td>\n",
       "      <td>37</td>\n",
       "      <td>2816</td>\n",
       "      <td>39</td>\n",
       "      <td>...</td>\n",
       "      <td>21720</td>\n",
       "      <td>18824</td>\n",
       "      <td>63744</td>\n",
       "      <td>249</td>\n",
       "      <td>0</td>\n",
       "      <td>0</td>\n",
       "      <td>0</td>\n",
       "      <td>125.0</td>\n",
       "      <td>0</td>\n",
       "      <td>Benign</td>\n",
       "    </tr>\n",
       "    <tr>\n",
       "      <th>1839468</th>\n",
       "      <td>175.45.176.0</td>\n",
       "      <td>20168</td>\n",
       "      <td>149.171.126.19</td>\n",
       "      <td>1723</td>\n",
       "      <td>6</td>\n",
       "      <td>0.0</td>\n",
       "      <td>2504</td>\n",
       "      <td>10</td>\n",
       "      <td>336</td>\n",
       "      <td>8</td>\n",
       "      <td>...</td>\n",
       "      <td>16383</td>\n",
       "      <td>16383</td>\n",
       "      <td>13312</td>\n",
       "      <td>52</td>\n",
       "      <td>0</td>\n",
       "      <td>0</td>\n",
       "      <td>0</td>\n",
       "      <td>0.0</td>\n",
       "      <td>1</td>\n",
       "      <td>Fuzzers</td>\n",
       "    </tr>\n",
       "    <tr>\n",
       "      <th>1338379</th>\n",
       "      <td>59.166.0.3</td>\n",
       "      <td>4154</td>\n",
       "      <td>149.171.126.9</td>\n",
       "      <td>5915</td>\n",
       "      <td>6</td>\n",
       "      <td>0.0</td>\n",
       "      <td>2334</td>\n",
       "      <td>36</td>\n",
       "      <td>16528</td>\n",
       "      <td>38</td>\n",
       "      <td>...</td>\n",
       "      <td>21720</td>\n",
       "      <td>14480</td>\n",
       "      <td>6912</td>\n",
       "      <td>27</td>\n",
       "      <td>0</td>\n",
       "      <td>0</td>\n",
       "      <td>0</td>\n",
       "      <td>0.0</td>\n",
       "      <td>0</td>\n",
       "      <td>Benign</td>\n",
       "    </tr>\n",
       "    <tr>\n",
       "      <th>1405381</th>\n",
       "      <td>59.166.0.0</td>\n",
       "      <td>16605</td>\n",
       "      <td>149.171.126.1</td>\n",
       "      <td>15450</td>\n",
       "      <td>6</td>\n",
       "      <td>0.0</td>\n",
       "      <td>3390</td>\n",
       "      <td>56</td>\n",
       "      <td>41008</td>\n",
       "      <td>58</td>\n",
       "      <td>...</td>\n",
       "      <td>36200</td>\n",
       "      <td>14480</td>\n",
       "      <td>8960</td>\n",
       "      <td>35</td>\n",
       "      <td>0</td>\n",
       "      <td>0</td>\n",
       "      <td>0</td>\n",
       "      <td>0.0</td>\n",
       "      <td>0</td>\n",
       "      <td>Benign</td>\n",
       "    </tr>\n",
       "    <tr>\n",
       "      <th>983503</th>\n",
       "      <td>59.166.0.5</td>\n",
       "      <td>19396</td>\n",
       "      <td>149.171.126.3</td>\n",
       "      <td>21</td>\n",
       "      <td>6</td>\n",
       "      <td>1.0</td>\n",
       "      <td>1817</td>\n",
       "      <td>33</td>\n",
       "      <td>2512</td>\n",
       "      <td>35</td>\n",
       "      <td>...</td>\n",
       "      <td>20272</td>\n",
       "      <td>17376</td>\n",
       "      <td>46080</td>\n",
       "      <td>180</td>\n",
       "      <td>0</td>\n",
       "      <td>0</td>\n",
       "      <td>0</td>\n",
       "      <td>229.0</td>\n",
       "      <td>0</td>\n",
       "      <td>Benign</td>\n",
       "    </tr>\n",
       "    <tr>\n",
       "      <th>1544137</th>\n",
       "      <td>59.166.0.9</td>\n",
       "      <td>1944</td>\n",
       "      <td>149.171.126.2</td>\n",
       "      <td>7862</td>\n",
       "      <td>6</td>\n",
       "      <td>0.0</td>\n",
       "      <td>3806</td>\n",
       "      <td>64</td>\n",
       "      <td>51558</td>\n",
       "      <td>66</td>\n",
       "      <td>...</td>\n",
       "      <td>41992</td>\n",
       "      <td>14480</td>\n",
       "      <td>8960</td>\n",
       "      <td>35</td>\n",
       "      <td>0</td>\n",
       "      <td>0</td>\n",
       "      <td>0</td>\n",
       "      <td>0.0</td>\n",
       "      <td>0</td>\n",
       "      <td>Benign</td>\n",
       "    </tr>\n",
       "    <tr>\n",
       "      <th>293382</th>\n",
       "      <td>59.166.0.6</td>\n",
       "      <td>61316</td>\n",
       "      <td>149.171.126.6</td>\n",
       "      <td>22432</td>\n",
       "      <td>6</td>\n",
       "      <td>0.0</td>\n",
       "      <td>320</td>\n",
       "      <td>6</td>\n",
       "      <td>1886</td>\n",
       "      <td>8</td>\n",
       "      <td>...</td>\n",
       "      <td>7240</td>\n",
       "      <td>5792</td>\n",
       "      <td>0</td>\n",
       "      <td>0</td>\n",
       "      <td>0</td>\n",
       "      <td>0</td>\n",
       "      <td>0</td>\n",
       "      <td>0.0</td>\n",
       "      <td>0</td>\n",
       "      <td>Benign</td>\n",
       "    </tr>\n",
       "    <tr>\n",
       "      <th>265708</th>\n",
       "      <td>59.166.0.6</td>\n",
       "      <td>30705</td>\n",
       "      <td>149.171.126.7</td>\n",
       "      <td>21</td>\n",
       "      <td>6</td>\n",
       "      <td>1.0</td>\n",
       "      <td>1251</td>\n",
       "      <td>23</td>\n",
       "      <td>1752</td>\n",
       "      <td>25</td>\n",
       "      <td>...</td>\n",
       "      <td>15928</td>\n",
       "      <td>14480</td>\n",
       "      <td>13568</td>\n",
       "      <td>53</td>\n",
       "      <td>0</td>\n",
       "      <td>0</td>\n",
       "      <td>0</td>\n",
       "      <td>229.0</td>\n",
       "      <td>0</td>\n",
       "      <td>Benign</td>\n",
       "    </tr>\n",
       "    <tr>\n",
       "      <th>543179</th>\n",
       "      <td>59.166.0.1</td>\n",
       "      <td>8315</td>\n",
       "      <td>149.171.126.3</td>\n",
       "      <td>7644</td>\n",
       "      <td>6</td>\n",
       "      <td>0.0</td>\n",
       "      <td>320</td>\n",
       "      <td>6</td>\n",
       "      <td>1922</td>\n",
       "      <td>8</td>\n",
       "      <td>...</td>\n",
       "      <td>7240</td>\n",
       "      <td>5792</td>\n",
       "      <td>0</td>\n",
       "      <td>0</td>\n",
       "      <td>0</td>\n",
       "      <td>0</td>\n",
       "      <td>0</td>\n",
       "      <td>0.0</td>\n",
       "      <td>0</td>\n",
       "      <td>Benign</td>\n",
       "    </tr>\n",
       "    <tr>\n",
       "      <th>501169</th>\n",
       "      <td>59.166.0.9</td>\n",
       "      <td>57404</td>\n",
       "      <td>149.171.126.5</td>\n",
       "      <td>21</td>\n",
       "      <td>6</td>\n",
       "      <td>1.0</td>\n",
       "      <td>701</td>\n",
       "      <td>13</td>\n",
       "      <td>1054</td>\n",
       "      <td>15</td>\n",
       "      <td>...</td>\n",
       "      <td>11584</td>\n",
       "      <td>11584</td>\n",
       "      <td>48640</td>\n",
       "      <td>190</td>\n",
       "      <td>0</td>\n",
       "      <td>0</td>\n",
       "      <td>0</td>\n",
       "      <td>125.0</td>\n",
       "      <td>0</td>\n",
       "      <td>Benign</td>\n",
       "    </tr>\n",
       "  </tbody>\n",
       "</table>\n",
       "<p>10 rows × 45 columns</p>\n",
       "</div>"
      ],
      "text/plain": [
       "        IPV4_SRC_ADDR  L4_SRC_PORT   IPV4_DST_ADDR  L4_DST_PORT  PROTOCOL  \\\n",
       "1082976    59.166.0.8        56780   149.171.126.3           21         6   \n",
       "1839468  175.45.176.0        20168  149.171.126.19         1723         6   \n",
       "1338379    59.166.0.3         4154   149.171.126.9         5915         6   \n",
       "1405381    59.166.0.0        16605   149.171.126.1        15450         6   \n",
       "983503     59.166.0.5        19396   149.171.126.3           21         6   \n",
       "1544137    59.166.0.9         1944   149.171.126.2         7862         6   \n",
       "293382     59.166.0.6        61316   149.171.126.6        22432         6   \n",
       "265708     59.166.0.6        30705   149.171.126.7           21         6   \n",
       "543179     59.166.0.1         8315   149.171.126.3         7644         6   \n",
       "501169     59.166.0.9        57404   149.171.126.5           21         6   \n",
       "\n",
       "         L7_PROTO  IN_BYTES  IN_PKTS  OUT_BYTES  OUT_PKTS  ...  \\\n",
       "1082976       1.0      2059       37       2816        39  ...   \n",
       "1839468       0.0      2504       10        336         8  ...   \n",
       "1338379       0.0      2334       36      16528        38  ...   \n",
       "1405381       0.0      3390       56      41008        58  ...   \n",
       "983503        1.0      1817       33       2512        35  ...   \n",
       "1544137       0.0      3806       64      51558        66  ...   \n",
       "293382        0.0       320        6       1886         8  ...   \n",
       "265708        1.0      1251       23       1752        25  ...   \n",
       "543179        0.0       320        6       1922         8  ...   \n",
       "501169        1.0       701       13       1054        15  ...   \n",
       "\n",
       "         TCP_WIN_MAX_IN  TCP_WIN_MAX_OUT  ICMP_TYPE  ICMP_IPV4_TYPE  \\\n",
       "1082976           21720            18824      63744             249   \n",
       "1839468           16383            16383      13312              52   \n",
       "1338379           21720            14480       6912              27   \n",
       "1405381           36200            14480       8960              35   \n",
       "983503            20272            17376      46080             180   \n",
       "1544137           41992            14480       8960              35   \n",
       "293382             7240             5792          0               0   \n",
       "265708            15928            14480      13568              53   \n",
       "543179             7240             5792          0               0   \n",
       "501169            11584            11584      48640             190   \n",
       "\n",
       "         DNS_QUERY_ID  DNS_QUERY_TYPE  DNS_TTL_ANSWER  FTP_COMMAND_RET_CODE  \\\n",
       "1082976             0               0               0                 125.0   \n",
       "1839468             0               0               0                   0.0   \n",
       "1338379             0               0               0                   0.0   \n",
       "1405381             0               0               0                   0.0   \n",
       "983503              0               0               0                 229.0   \n",
       "1544137             0               0               0                   0.0   \n",
       "293382              0               0               0                   0.0   \n",
       "265708              0               0               0                 229.0   \n",
       "543179              0               0               0                   0.0   \n",
       "501169              0               0               0                 125.0   \n",
       "\n",
       "         Label   Attack  \n",
       "1082976      0   Benign  \n",
       "1839468      1  Fuzzers  \n",
       "1338379      0   Benign  \n",
       "1405381      0   Benign  \n",
       "983503       0   Benign  \n",
       "1544137      0   Benign  \n",
       "293382       0   Benign  \n",
       "265708       0   Benign  \n",
       "543179       0   Benign  \n",
       "501169       0   Benign  \n",
       "\n",
       "[10 rows x 45 columns]"
      ]
     },
     "execution_count": 7,
     "metadata": {},
     "output_type": "execute_result"
    }
   ],
   "source": [
    "data_df.head(n=10)"
   ]
  },
  {
   "cell_type": "code",
   "execution_count": 8,
   "metadata": {
    "collapsed": false,
    "jupyter": {
     "outputs_hidden": false
    },
    "pycharm": {
     "name": "#%%\n"
    }
   },
   "outputs": [
    {
     "data": {
      "text/html": [
       "<div>\n",
       "<style scoped>\n",
       "    .dataframe tbody tr th:only-of-type {\n",
       "        vertical-align: middle;\n",
       "    }\n",
       "\n",
       "    .dataframe tbody tr th {\n",
       "        vertical-align: top;\n",
       "    }\n",
       "\n",
       "    .dataframe thead th {\n",
       "        text-align: right;\n",
       "    }\n",
       "</style>\n",
       "<table border=\"1\" class=\"dataframe\">\n",
       "  <thead>\n",
       "    <tr style=\"text-align: right;\">\n",
       "      <th></th>\n",
       "      <th>L4_SRC_PORT</th>\n",
       "      <th>L4_DST_PORT</th>\n",
       "      <th>PROTOCOL</th>\n",
       "      <th>L7_PROTO</th>\n",
       "      <th>IN_BYTES</th>\n",
       "      <th>IN_PKTS</th>\n",
       "      <th>OUT_BYTES</th>\n",
       "      <th>OUT_PKTS</th>\n",
       "      <th>TCP_FLAGS</th>\n",
       "      <th>CLIENT_TCP_FLAGS</th>\n",
       "      <th>...</th>\n",
       "      <th>NUM_PKTS_1024_TO_1514_BYTES</th>\n",
       "      <th>TCP_WIN_MAX_IN</th>\n",
       "      <th>TCP_WIN_MAX_OUT</th>\n",
       "      <th>ICMP_TYPE</th>\n",
       "      <th>ICMP_IPV4_TYPE</th>\n",
       "      <th>DNS_QUERY_ID</th>\n",
       "      <th>DNS_QUERY_TYPE</th>\n",
       "      <th>DNS_TTL_ANSWER</th>\n",
       "      <th>FTP_COMMAND_RET_CODE</th>\n",
       "      <th>Label</th>\n",
       "    </tr>\n",
       "  </thead>\n",
       "  <tbody>\n",
       "    <tr>\n",
       "      <th>count</th>\n",
       "      <td>239028.000000</td>\n",
       "      <td>239028.000000</td>\n",
       "      <td>239028.000000</td>\n",
       "      <td>239028.000000</td>\n",
       "      <td>2.390280e+05</td>\n",
       "      <td>239028.000000</td>\n",
       "      <td>2.390280e+05</td>\n",
       "      <td>239028.000000</td>\n",
       "      <td>239028.000000</td>\n",
       "      <td>239028.000000</td>\n",
       "      <td>...</td>\n",
       "      <td>239028.000000</td>\n",
       "      <td>239028.000000</td>\n",
       "      <td>239028.000000</td>\n",
       "      <td>239028.000000</td>\n",
       "      <td>239028.000000</td>\n",
       "      <td>239028.000000</td>\n",
       "      <td>239028.000000</td>\n",
       "      <td>2.390280e+05</td>\n",
       "      <td>239028.000000</td>\n",
       "      <td>239028.000000</td>\n",
       "    </tr>\n",
       "    <tr>\n",
       "      <th>mean</th>\n",
       "      <td>32611.777913</td>\n",
       "      <td>11442.379491</td>\n",
       "      <td>9.151723</td>\n",
       "      <td>3.021159</td>\n",
       "      <td>4.909451e+03</td>\n",
       "      <td>36.504171</td>\n",
       "      <td>3.595682e+04</td>\n",
       "      <td>46.230567</td>\n",
       "      <td>19.921064</td>\n",
       "      <td>19.633650</td>\n",
       "      <td>...</td>\n",
       "      <td>24.448307</td>\n",
       "      <td>17442.129378</td>\n",
       "      <td>12238.894761</td>\n",
       "      <td>18908.042715</td>\n",
       "      <td>73.859188</td>\n",
       "      <td>4926.603846</td>\n",
       "      <td>3.195023</td>\n",
       "      <td>5.678524e+04</td>\n",
       "      <td>37.668909</td>\n",
       "      <td>0.039878</td>\n",
       "    </tr>\n",
       "    <tr>\n",
       "      <th>std</th>\n",
       "      <td>19166.295426</td>\n",
       "      <td>18544.595842</td>\n",
       "      <td>11.050475</td>\n",
       "      <td>13.531083</td>\n",
       "      <td>1.166444e+05</td>\n",
       "      <td>106.576896</td>\n",
       "      <td>1.597332e+05</td>\n",
       "      <td>120.294032</td>\n",
       "      <td>11.123424</td>\n",
       "      <td>11.041058</td>\n",
       "      <td>...</td>\n",
       "      <td>128.348191</td>\n",
       "      <td>16973.095524</td>\n",
       "      <td>10996.506800</td>\n",
       "      <td>20354.222310</td>\n",
       "      <td>79.508409</td>\n",
       "      <td>13722.769848</td>\n",
       "      <td>151.836402</td>\n",
       "      <td>1.421751e+07</td>\n",
       "      <td>84.443830</td>\n",
       "      <td>0.195673</td>\n",
       "    </tr>\n",
       "    <tr>\n",
       "      <th>min</th>\n",
       "      <td>0.000000</td>\n",
       "      <td>0.000000</td>\n",
       "      <td>0.000000</td>\n",
       "      <td>0.000000</td>\n",
       "      <td>1.000000e+00</td>\n",
       "      <td>1.000000</td>\n",
       "      <td>0.000000e+00</td>\n",
       "      <td>0.000000</td>\n",
       "      <td>0.000000</td>\n",
       "      <td>0.000000</td>\n",
       "      <td>...</td>\n",
       "      <td>0.000000</td>\n",
       "      <td>0.000000</td>\n",
       "      <td>0.000000</td>\n",
       "      <td>0.000000</td>\n",
       "      <td>0.000000</td>\n",
       "      <td>0.000000</td>\n",
       "      <td>0.000000</td>\n",
       "      <td>0.000000e+00</td>\n",
       "      <td>0.000000</td>\n",
       "      <td>0.000000</td>\n",
       "    </tr>\n",
       "    <tr>\n",
       "      <th>25%</th>\n",
       "      <td>15867.000000</td>\n",
       "      <td>25.000000</td>\n",
       "      <td>6.000000</td>\n",
       "      <td>0.000000</td>\n",
       "      <td>4.810000e+02</td>\n",
       "      <td>4.000000</td>\n",
       "      <td>3.120000e+02</td>\n",
       "      <td>4.000000</td>\n",
       "      <td>19.000000</td>\n",
       "      <td>19.000000</td>\n",
       "      <td>...</td>\n",
       "      <td>0.000000</td>\n",
       "      <td>0.000000</td>\n",
       "      <td>5792.000000</td>\n",
       "      <td>0.000000</td>\n",
       "      <td>0.000000</td>\n",
       "      <td>0.000000</td>\n",
       "      <td>0.000000</td>\n",
       "      <td>0.000000e+00</td>\n",
       "      <td>0.000000</td>\n",
       "      <td>0.000000</td>\n",
       "    </tr>\n",
       "    <tr>\n",
       "      <th>50%</th>\n",
       "      <td>32778.500000</td>\n",
       "      <td>80.000000</td>\n",
       "      <td>6.000000</td>\n",
       "      <td>0.000000</td>\n",
       "      <td>1.684000e+03</td>\n",
       "      <td>18.000000</td>\n",
       "      <td>2.464000e+03</td>\n",
       "      <td>18.000000</td>\n",
       "      <td>27.000000</td>\n",
       "      <td>27.000000</td>\n",
       "      <td>...</td>\n",
       "      <td>0.000000</td>\n",
       "      <td>14480.000000</td>\n",
       "      <td>13032.000000</td>\n",
       "      <td>11008.000000</td>\n",
       "      <td>43.000000</td>\n",
       "      <td>0.000000</td>\n",
       "      <td>0.000000</td>\n",
       "      <td>0.000000e+00</td>\n",
       "      <td>0.000000</td>\n",
       "      <td>0.000000</td>\n",
       "    </tr>\n",
       "    <tr>\n",
       "      <th>75%</th>\n",
       "      <td>49162.000000</td>\n",
       "      <td>16014.000000</td>\n",
       "      <td>6.000000</td>\n",
       "      <td>1.000000</td>\n",
       "      <td>3.302000e+03</td>\n",
       "      <td>44.000000</td>\n",
       "      <td>1.503200e+04</td>\n",
       "      <td>44.000000</td>\n",
       "      <td>27.000000</td>\n",
       "      <td>27.000000</td>\n",
       "      <td>...</td>\n",
       "      <td>12.000000</td>\n",
       "      <td>24616.000000</td>\n",
       "      <td>14480.000000</td>\n",
       "      <td>33792.000000</td>\n",
       "      <td>132.000000</td>\n",
       "      <td>0.000000</td>\n",
       "      <td>0.000000</td>\n",
       "      <td>0.000000e+00</td>\n",
       "      <td>0.000000</td>\n",
       "      <td>0.000000</td>\n",
       "    </tr>\n",
       "    <tr>\n",
       "      <th>max</th>\n",
       "      <td>65535.000000</td>\n",
       "      <td>65535.000000</td>\n",
       "      <td>255.000000</td>\n",
       "      <td>231.000000</td>\n",
       "      <td>3.022936e+07</td>\n",
       "      <td>22594.000000</td>\n",
       "      <td>1.465675e+07</td>\n",
       "      <td>11024.000000</td>\n",
       "      <td>30.000000</td>\n",
       "      <td>27.000000</td>\n",
       "      <td>...</td>\n",
       "      <td>19562.000000</td>\n",
       "      <td>65402.000000</td>\n",
       "      <td>65305.000000</td>\n",
       "      <td>65316.000000</td>\n",
       "      <td>255.000000</td>\n",
       "      <td>65535.000000</td>\n",
       "      <td>32769.000000</td>\n",
       "      <td>4.283358e+09</td>\n",
       "      <td>501.000000</td>\n",
       "      <td>1.000000</td>\n",
       "    </tr>\n",
       "  </tbody>\n",
       "</table>\n",
       "<p>8 rows × 42 columns</p>\n",
       "</div>"
      ],
      "text/plain": [
       "         L4_SRC_PORT    L4_DST_PORT       PROTOCOL       L7_PROTO  \\\n",
       "count  239028.000000  239028.000000  239028.000000  239028.000000   \n",
       "mean    32611.777913   11442.379491       9.151723       3.021159   \n",
       "std     19166.295426   18544.595842      11.050475      13.531083   \n",
       "min         0.000000       0.000000       0.000000       0.000000   \n",
       "25%     15867.000000      25.000000       6.000000       0.000000   \n",
       "50%     32778.500000      80.000000       6.000000       0.000000   \n",
       "75%     49162.000000   16014.000000       6.000000       1.000000   \n",
       "max     65535.000000   65535.000000     255.000000     231.000000   \n",
       "\n",
       "           IN_BYTES        IN_PKTS     OUT_BYTES       OUT_PKTS  \\\n",
       "count  2.390280e+05  239028.000000  2.390280e+05  239028.000000   \n",
       "mean   4.909451e+03      36.504171  3.595682e+04      46.230567   \n",
       "std    1.166444e+05     106.576896  1.597332e+05     120.294032   \n",
       "min    1.000000e+00       1.000000  0.000000e+00       0.000000   \n",
       "25%    4.810000e+02       4.000000  3.120000e+02       4.000000   \n",
       "50%    1.684000e+03      18.000000  2.464000e+03      18.000000   \n",
       "75%    3.302000e+03      44.000000  1.503200e+04      44.000000   \n",
       "max    3.022936e+07   22594.000000  1.465675e+07   11024.000000   \n",
       "\n",
       "           TCP_FLAGS  CLIENT_TCP_FLAGS  ...  NUM_PKTS_1024_TO_1514_BYTES  \\\n",
       "count  239028.000000     239028.000000  ...                239028.000000   \n",
       "mean       19.921064         19.633650  ...                    24.448307   \n",
       "std        11.123424         11.041058  ...                   128.348191   \n",
       "min         0.000000          0.000000  ...                     0.000000   \n",
       "25%        19.000000         19.000000  ...                     0.000000   \n",
       "50%        27.000000         27.000000  ...                     0.000000   \n",
       "75%        27.000000         27.000000  ...                    12.000000   \n",
       "max        30.000000         27.000000  ...                 19562.000000   \n",
       "\n",
       "       TCP_WIN_MAX_IN  TCP_WIN_MAX_OUT      ICMP_TYPE  ICMP_IPV4_TYPE  \\\n",
       "count   239028.000000    239028.000000  239028.000000   239028.000000   \n",
       "mean     17442.129378     12238.894761   18908.042715       73.859188   \n",
       "std      16973.095524     10996.506800   20354.222310       79.508409   \n",
       "min          0.000000         0.000000       0.000000        0.000000   \n",
       "25%          0.000000      5792.000000       0.000000        0.000000   \n",
       "50%      14480.000000     13032.000000   11008.000000       43.000000   \n",
       "75%      24616.000000     14480.000000   33792.000000      132.000000   \n",
       "max      65402.000000     65305.000000   65316.000000      255.000000   \n",
       "\n",
       "        DNS_QUERY_ID  DNS_QUERY_TYPE  DNS_TTL_ANSWER  FTP_COMMAND_RET_CODE  \\\n",
       "count  239028.000000   239028.000000    2.390280e+05         239028.000000   \n",
       "mean     4926.603846        3.195023    5.678524e+04             37.668909   \n",
       "std     13722.769848      151.836402    1.421751e+07             84.443830   \n",
       "min         0.000000        0.000000    0.000000e+00              0.000000   \n",
       "25%         0.000000        0.000000    0.000000e+00              0.000000   \n",
       "50%         0.000000        0.000000    0.000000e+00              0.000000   \n",
       "75%         0.000000        0.000000    0.000000e+00              0.000000   \n",
       "max     65535.000000    32769.000000    4.283358e+09            501.000000   \n",
       "\n",
       "               Label  \n",
       "count  239028.000000  \n",
       "mean        0.039878  \n",
       "std         0.195673  \n",
       "min         0.000000  \n",
       "25%         0.000000  \n",
       "50%         0.000000  \n",
       "75%         0.000000  \n",
       "max         1.000000  \n",
       "\n",
       "[8 rows x 42 columns]"
      ]
     },
     "execution_count": 8,
     "metadata": {},
     "output_type": "execute_result"
    }
   ],
   "source": [
    "data_df.describe()"
   ]
  },
  {
   "cell_type": "markdown",
   "metadata": {
    "collapsed": false,
    "jupyter": {
     "outputs_hidden": false
    },
    "pycharm": {
     "name": "#%% md\n"
    }
   },
   "source": [
    "## Query with Dataframes"
   ]
  },
  {
   "cell_type": "markdown",
   "metadata": {
    "collapsed": false,
    "jupyter": {
     "outputs_hidden": false
    },
    "pycharm": {
     "name": "#%% md\n"
    }
   },
   "source": [
    "## 1. Number of flows OUT_BYTES !=0"
   ]
  },
  {
   "cell_type": "code",
   "execution_count": 9,
   "metadata": {
    "collapsed": false,
    "jupyter": {
     "outputs_hidden": false
    },
    "pycharm": {
     "name": "#%%\n"
    }
   },
   "outputs": [
    {
     "name": "stdout",
     "output_type": "stream",
     "text": [
      "Size of original dataframe 239028\n",
      "Number of flow with OUT_BYTES !=0 : 233722\n"
     ]
    }
   ],
   "source": [
    "print(\"Size of original dataframe\", len(data_df))\n",
    "\n",
    "data_df_with_outbytes = data_df.query(\"OUT_BYTES != 0\")\n",
    "print(\"Number of flow with OUT_BYTES !=0 :\", len(data_df_with_outbytes))"
   ]
  },
  {
   "cell_type": "markdown",
   "metadata": {
    "collapsed": false,
    "jupyter": {
     "outputs_hidden": false
    },
    "pycharm": {
     "name": "#%% md\n"
    }
   },
   "source": [
    "# 2.  Statistcal Analysis of the dataset"
   ]
  },
  {
   "cell_type": "markdown",
   "metadata": {
    "collapsed": false,
    "jupyter": {
     "outputs_hidden": false
    },
    "pycharm": {
     "name": "#%% md\n"
    }
   },
   "source": [
    "## 2.1.  Distribution of sources and destination adresses\n",
    "-------------------------\n",
    "Note that 75% of source IP appear less than 6 times and 75% of destination IP appear less than 9 times."
   ]
  },
  {
   "cell_type": "code",
   "execution_count": 10,
   "metadata": {
    "collapsed": false,
    "jupyter": {
     "outputs_hidden": false
    },
    "pycharm": {
     "name": "#%%\n"
    }
   },
   "outputs": [
    {
     "name": "stdout",
     "output_type": "stream",
     "text": [
      "Number of distinct source IP : 37\n",
      "['59.166.0.8' '175.45.176.0' '59.166.0.3' '59.166.0.0' '59.166.0.5'\n",
      " '59.166.0.9' '59.166.0.6' '59.166.0.1' '59.166.0.2' '175.45.176.1'\n",
      " '175.45.176.2' '59.166.0.4' '59.166.0.7' '149.171.126.4' '175.45.176.3'\n",
      " '149.171.126.10' '149.171.126.14' '149.171.126.18' '10.40.85.10'\n",
      " '149.171.126.15' '149.171.126.1' '149.171.126.12' '10.40.85.1'\n",
      " '149.171.126.5' '149.171.126.7' '149.171.126.6' '149.171.126.2'\n",
      " '149.171.126.0' '149.171.126.8' '149.171.126.17' '10.40.182.1'\n",
      " '149.171.126.9' '149.171.126.16' '149.171.126.3' '149.171.126.11'\n",
      " '149.171.126.13' '149.171.126.19']\n"
     ]
    }
   ],
   "source": [
    "print(\"Number of distinct source IP :\", data_df[\"IPV4_SRC_ADDR\"].nunique())\n",
    "#Those values are \n",
    "print(data_df[\"IPV4_SRC_ADDR\"].unique())"
   ]
  },
  {
   "cell_type": "code",
   "execution_count": 11,
   "metadata": {
    "collapsed": false,
    "jupyter": {
     "outputs_hidden": false
    },
    "pycharm": {
     "name": "#%%\n"
    }
   },
   "outputs": [
    {
     "name": "stdout",
     "output_type": "stream",
     "text": [
      "Number of distinct destination IP :  37\n",
      "['149.171.126.3' '149.171.126.19' '149.171.126.9' '149.171.126.1'\n",
      " '149.171.126.2' '149.171.126.6' '149.171.126.7' '149.171.126.5'\n",
      " '149.171.126.8' '149.171.126.13' '149.171.126.10' '149.171.126.0'\n",
      " '149.171.126.4' '149.171.126.15' '149.171.126.16' '149.171.126.11'\n",
      " '59.166.0.1' '149.171.126.17' '175.45.176.0' '175.45.176.1'\n",
      " '149.171.126.18' '175.45.176.3' '149.171.126.12' '149.171.126.14'\n",
      " '192.168.241.50' '59.166.0.4' '59.166.0.7' '224.0.0.5' '59.166.0.5'\n",
      " '59.166.0.3' '59.166.0.2' '59.166.0.6' '59.166.0.9' '59.166.0.8'\n",
      " '59.166.0.0' '175.45.176.2' '10.40.198.10']\n"
     ]
    }
   ],
   "source": [
    "print(\"Number of distinct destination IP : \", data_df[\"IPV4_DST_ADDR\"].nunique())\n",
    "#Those values are \n",
    "print(data_df[\"IPV4_DST_ADDR\"].unique())"
   ]
  },
  {
   "cell_type": "markdown",
   "metadata": {
    "collapsed": false,
    "jupyter": {
     "outputs_hidden": false
    },
    "pycharm": {
     "name": "#%% md\n"
    }
   },
   "source": [
    "### Sources addresses"
   ]
  },
  {
   "cell_type": "code",
   "execution_count": 12,
   "metadata": {
    "collapsed": false,
    "jupyter": {
     "outputs_hidden": false
    },
    "pycharm": {
     "name": "#%%\n"
    }
   },
   "outputs": [
    {
     "data": {
      "text/html": [
       "<div>\n",
       "<style scoped>\n",
       "    .dataframe tbody tr th:only-of-type {\n",
       "        vertical-align: middle;\n",
       "    }\n",
       "\n",
       "    .dataframe tbody tr th {\n",
       "        vertical-align: top;\n",
       "    }\n",
       "\n",
       "    .dataframe thead th {\n",
       "        text-align: right;\n",
       "    }\n",
       "</style>\n",
       "<table border=\"1\" class=\"dataframe\">\n",
       "  <thead>\n",
       "    <tr style=\"text-align: right;\">\n",
       "      <th></th>\n",
       "      <th>IPV4_SRC_ADDR</th>\n",
       "      <th>L4_SRC_PORT</th>\n",
       "      <th>IPV4_DST_ADDR</th>\n",
       "      <th>L4_DST_PORT</th>\n",
       "      <th>PROTOCOL</th>\n",
       "      <th>L7_PROTO</th>\n",
       "      <th>IN_BYTES</th>\n",
       "      <th>IN_PKTS</th>\n",
       "      <th>OUT_BYTES</th>\n",
       "      <th>OUT_PKTS</th>\n",
       "      <th>...</th>\n",
       "      <th>TCP_WIN_MAX_IN</th>\n",
       "      <th>TCP_WIN_MAX_OUT</th>\n",
       "      <th>ICMP_TYPE</th>\n",
       "      <th>ICMP_IPV4_TYPE</th>\n",
       "      <th>DNS_QUERY_ID</th>\n",
       "      <th>DNS_QUERY_TYPE</th>\n",
       "      <th>DNS_TTL_ANSWER</th>\n",
       "      <th>FTP_COMMAND_RET_CODE</th>\n",
       "      <th>Label</th>\n",
       "      <th>Attack</th>\n",
       "    </tr>\n",
       "  </thead>\n",
       "  <tbody>\n",
       "    <tr>\n",
       "      <th>1082976</th>\n",
       "      <td>59.166.0.8</td>\n",
       "      <td>56780</td>\n",
       "      <td>149.171.126.3</td>\n",
       "      <td>21</td>\n",
       "      <td>6</td>\n",
       "      <td>1.0</td>\n",
       "      <td>2059</td>\n",
       "      <td>37</td>\n",
       "      <td>2816</td>\n",
       "      <td>39</td>\n",
       "      <td>...</td>\n",
       "      <td>21720</td>\n",
       "      <td>18824</td>\n",
       "      <td>63744</td>\n",
       "      <td>249</td>\n",
       "      <td>0</td>\n",
       "      <td>0</td>\n",
       "      <td>0</td>\n",
       "      <td>125.0</td>\n",
       "      <td>0</td>\n",
       "      <td>Benign</td>\n",
       "    </tr>\n",
       "    <tr>\n",
       "      <th>1839468</th>\n",
       "      <td>175.45.176.0</td>\n",
       "      <td>20168</td>\n",
       "      <td>149.171.126.19</td>\n",
       "      <td>1723</td>\n",
       "      <td>6</td>\n",
       "      <td>0.0</td>\n",
       "      <td>2504</td>\n",
       "      <td>10</td>\n",
       "      <td>336</td>\n",
       "      <td>8</td>\n",
       "      <td>...</td>\n",
       "      <td>16383</td>\n",
       "      <td>16383</td>\n",
       "      <td>13312</td>\n",
       "      <td>52</td>\n",
       "      <td>0</td>\n",
       "      <td>0</td>\n",
       "      <td>0</td>\n",
       "      <td>0.0</td>\n",
       "      <td>1</td>\n",
       "      <td>Fuzzers</td>\n",
       "    </tr>\n",
       "    <tr>\n",
       "      <th>1338379</th>\n",
       "      <td>59.166.0.3</td>\n",
       "      <td>4154</td>\n",
       "      <td>149.171.126.9</td>\n",
       "      <td>5915</td>\n",
       "      <td>6</td>\n",
       "      <td>0.0</td>\n",
       "      <td>2334</td>\n",
       "      <td>36</td>\n",
       "      <td>16528</td>\n",
       "      <td>38</td>\n",
       "      <td>...</td>\n",
       "      <td>21720</td>\n",
       "      <td>14480</td>\n",
       "      <td>6912</td>\n",
       "      <td>27</td>\n",
       "      <td>0</td>\n",
       "      <td>0</td>\n",
       "      <td>0</td>\n",
       "      <td>0.0</td>\n",
       "      <td>0</td>\n",
       "      <td>Benign</td>\n",
       "    </tr>\n",
       "    <tr>\n",
       "      <th>1405381</th>\n",
       "      <td>59.166.0.0</td>\n",
       "      <td>16605</td>\n",
       "      <td>149.171.126.1</td>\n",
       "      <td>15450</td>\n",
       "      <td>6</td>\n",
       "      <td>0.0</td>\n",
       "      <td>3390</td>\n",
       "      <td>56</td>\n",
       "      <td>41008</td>\n",
       "      <td>58</td>\n",
       "      <td>...</td>\n",
       "      <td>36200</td>\n",
       "      <td>14480</td>\n",
       "      <td>8960</td>\n",
       "      <td>35</td>\n",
       "      <td>0</td>\n",
       "      <td>0</td>\n",
       "      <td>0</td>\n",
       "      <td>0.0</td>\n",
       "      <td>0</td>\n",
       "      <td>Benign</td>\n",
       "    </tr>\n",
       "    <tr>\n",
       "      <th>983503</th>\n",
       "      <td>59.166.0.5</td>\n",
       "      <td>19396</td>\n",
       "      <td>149.171.126.3</td>\n",
       "      <td>21</td>\n",
       "      <td>6</td>\n",
       "      <td>1.0</td>\n",
       "      <td>1817</td>\n",
       "      <td>33</td>\n",
       "      <td>2512</td>\n",
       "      <td>35</td>\n",
       "      <td>...</td>\n",
       "      <td>20272</td>\n",
       "      <td>17376</td>\n",
       "      <td>46080</td>\n",
       "      <td>180</td>\n",
       "      <td>0</td>\n",
       "      <td>0</td>\n",
       "      <td>0</td>\n",
       "      <td>229.0</td>\n",
       "      <td>0</td>\n",
       "      <td>Benign</td>\n",
       "    </tr>\n",
       "    <tr>\n",
       "      <th>...</th>\n",
       "      <td>...</td>\n",
       "      <td>...</td>\n",
       "      <td>...</td>\n",
       "      <td>...</td>\n",
       "      <td>...</td>\n",
       "      <td>...</td>\n",
       "      <td>...</td>\n",
       "      <td>...</td>\n",
       "      <td>...</td>\n",
       "      <td>...</td>\n",
       "      <td>...</td>\n",
       "      <td>...</td>\n",
       "      <td>...</td>\n",
       "      <td>...</td>\n",
       "      <td>...</td>\n",
       "      <td>...</td>\n",
       "      <td>...</td>\n",
       "      <td>...</td>\n",
       "      <td>...</td>\n",
       "      <td>...</td>\n",
       "      <td>...</td>\n",
       "    </tr>\n",
       "    <tr>\n",
       "      <th>2386771</th>\n",
       "      <td>59.166.0.2</td>\n",
       "      <td>29138</td>\n",
       "      <td>149.171.126.4</td>\n",
       "      <td>53</td>\n",
       "      <td>17</td>\n",
       "      <td>0.0</td>\n",
       "      <td>146</td>\n",
       "      <td>2</td>\n",
       "      <td>178</td>\n",
       "      <td>2</td>\n",
       "      <td>...</td>\n",
       "      <td>0</td>\n",
       "      <td>0</td>\n",
       "      <td>0</td>\n",
       "      <td>0</td>\n",
       "      <td>54391</td>\n",
       "      <td>1</td>\n",
       "      <td>60</td>\n",
       "      <td>0.0</td>\n",
       "      <td>0</td>\n",
       "      <td>Benign</td>\n",
       "    </tr>\n",
       "    <tr>\n",
       "      <th>706513</th>\n",
       "      <td>59.166.0.9</td>\n",
       "      <td>37194</td>\n",
       "      <td>149.171.126.3</td>\n",
       "      <td>39261</td>\n",
       "      <td>6</td>\n",
       "      <td>0.0</td>\n",
       "      <td>424</td>\n",
       "      <td>8</td>\n",
       "      <td>8824</td>\n",
       "      <td>12</td>\n",
       "      <td>...</td>\n",
       "      <td>10136</td>\n",
       "      <td>5792</td>\n",
       "      <td>0</td>\n",
       "      <td>0</td>\n",
       "      <td>0</td>\n",
       "      <td>0</td>\n",
       "      <td>0</td>\n",
       "      <td>0.0</td>\n",
       "      <td>0</td>\n",
       "      <td>Benign</td>\n",
       "    </tr>\n",
       "    <tr>\n",
       "      <th>1896389</th>\n",
       "      <td>59.166.0.8</td>\n",
       "      <td>59850</td>\n",
       "      <td>149.171.126.4</td>\n",
       "      <td>53</td>\n",
       "      <td>17</td>\n",
       "      <td>0.0</td>\n",
       "      <td>146</td>\n",
       "      <td>2</td>\n",
       "      <td>178</td>\n",
       "      <td>2</td>\n",
       "      <td>...</td>\n",
       "      <td>0</td>\n",
       "      <td>0</td>\n",
       "      <td>0</td>\n",
       "      <td>0</td>\n",
       "      <td>19567</td>\n",
       "      <td>1</td>\n",
       "      <td>60</td>\n",
       "      <td>0.0</td>\n",
       "      <td>0</td>\n",
       "      <td>Benign</td>\n",
       "    </tr>\n",
       "    <tr>\n",
       "      <th>1580831</th>\n",
       "      <td>59.166.0.8</td>\n",
       "      <td>35176</td>\n",
       "      <td>149.171.126.6</td>\n",
       "      <td>41895</td>\n",
       "      <td>6</td>\n",
       "      <td>0.0</td>\n",
       "      <td>2542</td>\n",
       "      <td>40</td>\n",
       "      <td>21848</td>\n",
       "      <td>42</td>\n",
       "      <td>...</td>\n",
       "      <td>24616</td>\n",
       "      <td>14480</td>\n",
       "      <td>6912</td>\n",
       "      <td>27</td>\n",
       "      <td>0</td>\n",
       "      <td>0</td>\n",
       "      <td>0</td>\n",
       "      <td>0.0</td>\n",
       "      <td>0</td>\n",
       "      <td>Benign</td>\n",
       "    </tr>\n",
       "    <tr>\n",
       "      <th>1644753</th>\n",
       "      <td>59.166.0.0</td>\n",
       "      <td>39517</td>\n",
       "      <td>149.171.126.4</td>\n",
       "      <td>21</td>\n",
       "      <td>6</td>\n",
       "      <td>1.0</td>\n",
       "      <td>9</td>\n",
       "      <td>1</td>\n",
       "      <td>193</td>\n",
       "      <td>3</td>\n",
       "      <td>...</td>\n",
       "      <td>0</td>\n",
       "      <td>7240</td>\n",
       "      <td>0</td>\n",
       "      <td>0</td>\n",
       "      <td>0</td>\n",
       "      <td>0</td>\n",
       "      <td>0</td>\n",
       "      <td>331.0</td>\n",
       "      <td>0</td>\n",
       "      <td>Benign</td>\n",
       "    </tr>\n",
       "  </tbody>\n",
       "</table>\n",
       "<p>239028 rows × 45 columns</p>\n",
       "</div>"
      ],
      "text/plain": [
       "        IPV4_SRC_ADDR  L4_SRC_PORT   IPV4_DST_ADDR  L4_DST_PORT  PROTOCOL  \\\n",
       "1082976    59.166.0.8        56780   149.171.126.3           21         6   \n",
       "1839468  175.45.176.0        20168  149.171.126.19         1723         6   \n",
       "1338379    59.166.0.3         4154   149.171.126.9         5915         6   \n",
       "1405381    59.166.0.0        16605   149.171.126.1        15450         6   \n",
       "983503     59.166.0.5        19396   149.171.126.3           21         6   \n",
       "...               ...          ...             ...          ...       ...   \n",
       "2386771    59.166.0.2        29138   149.171.126.4           53        17   \n",
       "706513     59.166.0.9        37194   149.171.126.3        39261         6   \n",
       "1896389    59.166.0.8        59850   149.171.126.4           53        17   \n",
       "1580831    59.166.0.8        35176   149.171.126.6        41895         6   \n",
       "1644753    59.166.0.0        39517   149.171.126.4           21         6   \n",
       "\n",
       "         L7_PROTO  IN_BYTES  IN_PKTS  OUT_BYTES  OUT_PKTS  ...  \\\n",
       "1082976       1.0      2059       37       2816        39  ...   \n",
       "1839468       0.0      2504       10        336         8  ...   \n",
       "1338379       0.0      2334       36      16528        38  ...   \n",
       "1405381       0.0      3390       56      41008        58  ...   \n",
       "983503        1.0      1817       33       2512        35  ...   \n",
       "...           ...       ...      ...        ...       ...  ...   \n",
       "2386771       0.0       146        2        178         2  ...   \n",
       "706513        0.0       424        8       8824        12  ...   \n",
       "1896389       0.0       146        2        178         2  ...   \n",
       "1580831       0.0      2542       40      21848        42  ...   \n",
       "1644753       1.0         9        1        193         3  ...   \n",
       "\n",
       "         TCP_WIN_MAX_IN  TCP_WIN_MAX_OUT  ICMP_TYPE  ICMP_IPV4_TYPE  \\\n",
       "1082976           21720            18824      63744             249   \n",
       "1839468           16383            16383      13312              52   \n",
       "1338379           21720            14480       6912              27   \n",
       "1405381           36200            14480       8960              35   \n",
       "983503            20272            17376      46080             180   \n",
       "...                 ...              ...        ...             ...   \n",
       "2386771               0                0          0               0   \n",
       "706513            10136             5792          0               0   \n",
       "1896389               0                0          0               0   \n",
       "1580831           24616            14480       6912              27   \n",
       "1644753               0             7240          0               0   \n",
       "\n",
       "         DNS_QUERY_ID  DNS_QUERY_TYPE  DNS_TTL_ANSWER  FTP_COMMAND_RET_CODE  \\\n",
       "1082976             0               0               0                 125.0   \n",
       "1839468             0               0               0                   0.0   \n",
       "1338379             0               0               0                   0.0   \n",
       "1405381             0               0               0                   0.0   \n",
       "983503              0               0               0                 229.0   \n",
       "...               ...             ...             ...                   ...   \n",
       "2386771         54391               1              60                   0.0   \n",
       "706513              0               0               0                   0.0   \n",
       "1896389         19567               1              60                   0.0   \n",
       "1580831             0               0               0                   0.0   \n",
       "1644753             0               0               0                 331.0   \n",
       "\n",
       "         Label   Attack  \n",
       "1082976      0   Benign  \n",
       "1839468      1  Fuzzers  \n",
       "1338379      0   Benign  \n",
       "1405381      0   Benign  \n",
       "983503       0   Benign  \n",
       "...        ...      ...  \n",
       "2386771      0   Benign  \n",
       "706513       0   Benign  \n",
       "1896389      0   Benign  \n",
       "1580831      0   Benign  \n",
       "1644753      0   Benign  \n",
       "\n",
       "[239028 rows x 45 columns]"
      ]
     },
     "execution_count": 12,
     "metadata": {},
     "output_type": "execute_result"
    }
   ],
   "source": [
    "data_df #equivalent to : display(data_df)"
   ]
  },
  {
   "cell_type": "code",
   "execution_count": null,
   "metadata": {
    "collapsed": false,
    "jupyter": {
     "outputs_hidden": false
    },
    "pycharm": {
     "name": "#%%\n"
    }
   },
   "outputs": [],
   "source": []
  },
  {
   "cell_type": "code",
   "execution_count": 13,
   "metadata": {
    "collapsed": false,
    "jupyter": {
     "outputs_hidden": false
    },
    "pycharm": {
     "name": "#%%\n"
    }
   },
   "outputs": [
    {
     "data": {
      "text/plain": [
       "count       37.000000\n",
       "mean      6460.216216\n",
       "std       9990.941475\n",
       "min          1.000000\n",
       "25%         47.000000\n",
       "50%        184.000000\n",
       "75%      21857.000000\n",
       "max      23312.000000\n",
       "Name: IPV4_SRC_ADDR, dtype: float64"
      ]
     },
     "metadata": {},
     "output_type": "display_data"
    },
    {
     "data": {
      "image/png": "[encoded data removed]",
      "text/plain": [
       "<Figure size 720x360 with 1 Axes>"
      ]
     },
     "metadata": {
      "needs_background": "light"
     },
     "output_type": "display_data"
    }
   ],
   "source": [
    "display(data_df['IPV4_SRC_ADDR'].value_counts().describe())\n",
    "\n",
    "# plt.figure(figsize=(20,5))\n",
    "# plt.xticks(rotation=45)  # Rotate tick labels by 45 degrees\n",
    "# plt.show()\n",
    "\n",
    "plt.figure(figsize=(10,5))\n",
    "plt.plot(data_df['IPV4_SRC_ADDR'].value_counts().sort_values())\n",
    "# Remove xticks\n",
    "plt.xticks([])\n",
    "plt.show()"
   ]
  },
  {
   "cell_type": "markdown",
   "metadata": {
    "collapsed": false,
    "jupyter": {
     "outputs_hidden": false
    },
    "pycharm": {
     "name": "#%% md\n"
    }
   },
   "source": [
    "### Destination addresses"
   ]
  },
  {
   "cell_type": "code",
   "execution_count": 14,
   "metadata": {
    "collapsed": false,
    "jupyter": {
     "outputs_hidden": false
    },
    "pycharm": {
     "name": "#%%\n"
    }
   },
   "outputs": [
    {
     "data": {
      "text/plain": [
       "count       37.000000\n",
       "mean      6460.216216\n",
       "std       9963.779844\n",
       "min          6.000000\n",
       "25%         51.000000\n",
       "50%        971.000000\n",
       "75%      21613.000000\n",
       "max      23107.000000\n",
       "Name: IPV4_DST_ADDR, dtype: float64"
      ]
     },
     "metadata": {},
     "output_type": "display_data"
    },
    {
     "data": {
      "image/png": "[encoded data removed]",
      "text/plain": [
       "<Figure size 1440x360 with 1 Axes>"
      ]
     },
     "metadata": {
      "needs_background": "light"
     },
     "output_type": "display_data"
    },
    {
     "data": {
      "image/png": "[encoded data removed]",
      "text/plain": [
       "<Figure size 720x360 with 1 Axes>"
      ]
     },
     "metadata": {
      "needs_background": "light"
     },
     "output_type": "display_data"
    }
   ],
   "source": [
    "display(data_df['IPV4_DST_ADDR'].value_counts().describe())\n",
    "\n",
    "#Bar plot\n",
    "plt.figure(figsize=(20,5))\n",
    "data_df['IPV4_DST_ADDR'].value_counts().plot(kind=\"bar\")\n",
    "plt.xticks(rotation=45)  # Rotate tick labels by 45 degrees\n",
    "plt.show()\n",
    "\n",
    "#Pie plot (unappropriated)\n",
    "# plt.figure(figsize=(5,5))\n",
    "# data_df['IPV4_DST_ADDR'].value_counts().plot(kind=\"pie\")\n",
    "# plt.xticks(rotation=45)  # Rotate tick labels by 45 degrees\n",
    "# plt.show()\n",
    "\n",
    "\n",
    "plt.figure(figsize=(10,5))\n",
    "plt.plot(data_df['IPV4_DST_ADDR'].value_counts().sort_values())\n",
    "# Remove xticks\n",
    "plt.xticks([])\n",
    "plt.show()"
   ]
  },
  {
   "cell_type": "markdown",
   "metadata": {
    "collapsed": false,
    "jupyter": {
     "outputs_hidden": false
    },
    "pycharm": {
     "name": "#%% md\n"
    }
   },
   "source": [
    "## 2.2. Protocols\n",
    "--------------------\n",
    "The protocol MAPPING is:\n",
    "6 : TCP\n",
    "17 : UDP\n"
   ]
  },
  {
   "cell_type": "code",
   "execution_count": 15,
   "metadata": {
    "collapsed": false,
    "jupyter": {
     "outputs_hidden": false
    },
    "pycharm": {
     "name": "#%%\n"
    }
   },
   "outputs": [
    {
     "data": {
      "text/html": [
       "<div>\n",
       "<style scoped>\n",
       "    .dataframe tbody tr th:only-of-type {\n",
       "        vertical-align: middle;\n",
       "    }\n",
       "\n",
       "    .dataframe tbody tr th {\n",
       "        vertical-align: top;\n",
       "    }\n",
       "\n",
       "    .dataframe thead th {\n",
       "        text-align: right;\n",
       "    }\n",
       "</style>\n",
       "<table border=\"1\" class=\"dataframe\">\n",
       "  <thead>\n",
       "    <tr style=\"text-align: right;\">\n",
       "      <th></th>\n",
       "      <th>PROTOCOL</th>\n",
       "      <th>COUNT</th>\n",
       "    </tr>\n",
       "  </thead>\n",
       "  <tbody>\n",
       "    <tr>\n",
       "      <th>0</th>\n",
       "      <td>6</td>\n",
       "      <td>183274</td>\n",
       "    </tr>\n",
       "    <tr>\n",
       "      <th>1</th>\n",
       "      <td>17</td>\n",
       "      <td>54243</td>\n",
       "    </tr>\n",
       "    <tr>\n",
       "      <th>2</th>\n",
       "      <td>1</td>\n",
       "      <td>169</td>\n",
       "    </tr>\n",
       "    <tr>\n",
       "      <th>3</th>\n",
       "      <td>89</td>\n",
       "      <td>130</td>\n",
       "    </tr>\n",
       "    <tr>\n",
       "      <th>4</th>\n",
       "      <td>103</td>\n",
       "      <td>16</td>\n",
       "    </tr>\n",
       "    <tr>\n",
       "      <th>...</th>\n",
       "      <td>...</td>\n",
       "      <td>...</td>\n",
       "    </tr>\n",
       "    <tr>\n",
       "      <th>248</th>\n",
       "      <td>239</td>\n",
       "      <td>1</td>\n",
       "    </tr>\n",
       "    <tr>\n",
       "      <th>249</th>\n",
       "      <td>67</td>\n",
       "      <td>1</td>\n",
       "    </tr>\n",
       "    <tr>\n",
       "      <th>250</th>\n",
       "      <td>26</td>\n",
       "      <td>1</td>\n",
       "    </tr>\n",
       "    <tr>\n",
       "      <th>251</th>\n",
       "      <td>208</td>\n",
       "      <td>1</td>\n",
       "    </tr>\n",
       "    <tr>\n",
       "      <th>252</th>\n",
       "      <td>194</td>\n",
       "      <td>1</td>\n",
       "    </tr>\n",
       "  </tbody>\n",
       "</table>\n",
       "<p>253 rows × 2 columns</p>\n",
       "</div>"
      ],
      "text/plain": [
       "     PROTOCOL   COUNT\n",
       "0           6  183274\n",
       "1          17   54243\n",
       "2           1     169\n",
       "3          89     130\n",
       "4         103      16\n",
       "..        ...     ...\n",
       "248       239       1\n",
       "249        67       1\n",
       "250        26       1\n",
       "251       208       1\n",
       "252       194       1\n",
       "\n",
       "[253 rows x 2 columns]"
      ]
     },
     "metadata": {},
     "output_type": "display_data"
    },
    {
     "data": {
      "text/plain": [
       "<AxesSubplot:ylabel='PROTOCOL'>"
      ]
     },
     "execution_count": 15,
     "metadata": {},
     "output_type": "execute_result"
    },
    {
     "data": {
      "image/png": "[encoded data removed]",
      "text/plain": [
       "<Figure size 720x720 with 1 Axes>"
      ]
     },
     "metadata": {},
     "output_type": "display_data"
    }
   ],
   "source": [
    "# Count of each protocol (as df)\n",
    "df_proto = data_df['PROTOCOL'].value_counts().reset_index()\n",
    "df_proto.columns = ['PROTOCOL', 'COUNT']\n",
    "display(df_proto)\n",
    "\n",
    "plt.figure(figsize=(10,10))\n",
    "df_proto = data_df[['PROTOCOL']].copy()\n",
    "df_proto.loc[~(df_proto.PROTOCOL.isin([6,17])),'PROTOCOL']=-1\n",
    "df_proto[\"PROTOCOL\"].value_counts().plot.pie(autopct='%1.1f%%')\n"
   ]
  },
  {
   "cell_type": "markdown",
   "metadata": {
    "collapsed": false,
    "jupyter": {
     "outputs_hidden": false
    },
    "pycharm": {
     "name": "#%% md\n"
    }
   },
   "source": [
    "## 2.3. Distribution of labels\n",
    "-------------------------\n",
    "We can see that there are 96.4% of normal traffic and 3.6% of malicious traffic."
   ]
  },
  {
   "cell_type": "markdown",
   "metadata": {
    "collapsed": false,
    "jupyter": {
     "outputs_hidden": false
    },
    "pycharm": {
     "name": "#%% md\n"
    }
   },
   "source": [
    "### Binary labels"
   ]
  },
  {
   "cell_type": "code",
   "execution_count": 16,
   "metadata": {
    "collapsed": false,
    "jupyter": {
     "outputs_hidden": false
    },
    "pycharm": {
     "name": "#%%\n"
    }
   },
   "outputs": [
    {
     "data": {
      "text/plain": [
       "0    229496\n",
       "1      9532\n",
       "Name: Label, dtype: int64"
      ]
     },
     "execution_count": 16,
     "metadata": {},
     "output_type": "execute_result"
    }
   ],
   "source": [
    "data_df['Label'].value_counts()"
   ]
  },
  {
   "cell_type": "code",
   "execution_count": 17,
   "metadata": {
    "collapsed": false,
    "jupyter": {
     "outputs_hidden": false
    },
    "pycharm": {
     "name": "#%%\n"
    }
   },
   "outputs": [
    {
     "data": {
      "text/plain": [
       "<AxesSubplot:ylabel='Label'>"
      ]
     },
     "execution_count": 17,
     "metadata": {},
     "output_type": "execute_result"
    },
    {
     "data": {
      "image/png": "[encoded data removed]",
      "text/plain": [
       "<Figure size 1440x504 with 2 Axes>"
      ]
     },
     "metadata": {
      "needs_background": "light"
     },
     "output_type": "display_data"
    }
   ],
   "source": [
    "# Left right subplot (left bar right pie)\n",
    "fig, ax = plt.subplots(1, 2, figsize=(20, 7))\n",
    "data_df['Label'].value_counts().plot(kind='bar', ax=ax[0])\n",
    "data_df['Label'].value_counts().plot.pie(autopct='%1.1f%%', ax=ax[1])"
   ]
  },
  {
   "cell_type": "markdown",
   "metadata": {
    "collapsed": false,
    "jupyter": {
     "outputs_hidden": false
    },
    "pycharm": {
     "name": "#%% md\n"
    }
   },
   "source": [
    "### Multiclass labels\n",
    "-------------------------\n",
    "# Types d'attaques\n",
    "\n",
    "1. **Benign**\n",
    "   - **Benin** : Cela représente un trafic réseau normal et sans danger, sans aucune activité malveillante.\n",
    "\n",
    "2. **Fuzzers**\n",
    "   - **Fuzzers** : Technique d'attaque qui envoie des entrées aléatoires ou malformées à un programme ou à un service pour détecter des failles ou des comportements anormaux.\n",
    "\n",
    "3. **Generic**\n",
    "   - **Générique** : Catégorie d'attaques qui ne rentre pas dans une classe spécifique ou qui affecte plusieurs types de systèmes, comme des attaques universelles contre les systèmes de cryptographie.\n",
    "\n",
    "4. **Reconnaissance**\n",
    "   - **Reconnaissance** : Activité visant à recueillir des informations sur une cible avant de lancer une attaque plus ciblée. Cela inclut des actions telles que l'analyse de port, la détection de services ou la cartographie du réseau.\n",
    "\n",
    "5. **Exploits**\n",
    "   - **Exploits** : Attaques qui tirent parti de vulnérabilités logicielles ou matérielles pour compromettre un système, comme les failles de sécurité ou les faiblesses dans les protocoles.\n",
    "\n",
    "6. **Analysis**\n",
    "   - **Analyse** : Catégorie d'attaques qui implique la collecte et l'examen des données du réseau pour obtenir des informations sensibles, par exemple par l'analyse du trafic pour intercepter des mots de passe ou des informations privées.\n",
    "\n",
    "7. **Backdoor**\n",
    "   - **Porte dérobée** : Méthode par laquelle un attaquant contourne les mesures de sécurité pour accéder à un système ou un réseau de manière furtive. Les backdoors sont souvent laissées par des logiciels malveillants ou lors de l'installation de logiciels compromis.\n",
    "\n",
    "8. **DoS**\n",
    "   - **Déni de service (DoS)** : Attaque visant à rendre un service ou un réseau indisponible en le saturant de requêtes ou en exploitant des failles de saturation des ressources.\n",
    "\n",
    "9. **Shellcode**\n",
    "   - **Shellcode** : Séquence de code utilisée pour prendre le contrôle d'un programme ou d'un système lors de l'exploitation d'une vulnérabilité. Elle est souvent utilisée pour obtenir un accès à distance ou ouvrir une session de commande (shell).\n",
    "\n",
    "10. **Worms**\n",
    "   - **Vers** : Logiciels malveillants qui se propagent automatiquement à travers les réseaux en exploitant des vulnérabilités. Contrairement aux virus, les vers n'ont pas besoin d'un fichier hôte pour se propager.\n"
   ]
  },
  {
   "cell_type": "code",
   "execution_count": 18,
   "metadata": {
    "collapsed": false,
    "jupyter": {
     "outputs_hidden": false
    },
    "pycharm": {
     "name": "#%%\n"
    }
   },
   "outputs": [
    {
     "data": {
      "text/plain": [
       "Exploits          3122\n",
       "Fuzzers           2244\n",
       "Generic           1657\n",
       "Reconnaissance    1298\n",
       "DoS                595\n",
       "Analysis           244\n",
       "Backdoor           226\n",
       "Shellcode          133\n",
       "Worms               13\n",
       "Name: Attack, dtype: int64"
      ]
     },
     "metadata": {},
     "output_type": "display_data"
    },
    {
     "data": {
      "text/plain": [
       "<AxesSubplot:ylabel='Attack'>"
      ]
     },
     "execution_count": 18,
     "metadata": {},
     "output_type": "execute_result"
    },
    {
     "data": {
      "image/png": "[encoded data removed]",
      "text/plain": [
       "<Figure size 1440x504 with 2 Axes>"
      ]
     },
     "metadata": {
      "needs_background": "light"
     },
     "output_type": "display_data"
    }
   ],
   "source": [
    "fig, ax  = plt.subplots(1, 2, figsize=(20, 7))\n",
    "\n",
    "# Subfigure 1 for Bar Plot\n",
    "display(data_df.query('Label != 0')['Attack'].value_counts())\n",
    "data_df.query('Label != 0')['Attack'].value_counts().plot(kind='bar', ax=ax[0], color='skyblue')\n",
    "data_df.query('Label != 0')['Attack'].value_counts().plot.pie(autopct='%1.1f%%', ax=ax[1])\n"
   ]
  },
  {
   "cell_type": "markdown",
   "metadata": {
    "collapsed": false,
    "jupyter": {
     "outputs_hidden": false
    },
    "pycharm": {
     "name": "#%% md\n"
    }
   },
   "source": []
  },
  {
   "cell_type": "markdown",
   "metadata": {
    "collapsed": false,
    "jupyter": {
     "outputs_hidden": false
    },
    "pycharm": {
     "name": "#%% md\n"
    }
   },
   "source": [
    "## 2.4. Flow duration"
   ]
  },
  {
   "cell_type": "code",
   "execution_count": 19,
   "metadata": {
    "collapsed": false,
    "jupyter": {
     "outputs_hidden": false
    },
    "pycharm": {
     "name": "#%%\n"
    }
   },
   "outputs": [
    {
     "data": {
      "text/plain": [
       "count    2.390280e+05\n",
       "mean     2.627336e+05\n",
       "std      1.029273e+06\n",
       "min      0.000000e+00\n",
       "25%      0.000000e+00\n",
       "50%      0.000000e+00\n",
       "75%      0.000000e+00\n",
       "max      4.294965e+06\n",
       "Name: FLOW_DURATION_MILLISECONDS, dtype: float64"
      ]
     },
     "metadata": {},
     "output_type": "display_data"
    },
    {
     "data": {
      "text/plain": [
       "<seaborn.axisgrid.FacetGrid at 0x18675afded0>"
      ]
     },
     "execution_count": 19,
     "metadata": {},
     "output_type": "execute_result"
    },
    {
     "data": {
      "text/plain": [
       "<Figure size 720x360 with 0 Axes>"
      ]
     },
     "metadata": {},
     "output_type": "display_data"
    },
    {
     "data": {
      "image/png": "[encoded data removed]",
      "text/plain": [
       "<Figure size 360x360 with 1 Axes>"
      ]
     },
     "metadata": {
      "needs_background": "light"
     },
     "output_type": "display_data"
    }
   ],
   "source": [
    "display(data_df['FLOW_DURATION_MILLISECONDS'].describe())\n",
    "\n",
    "plt.figure(figsize=(10,5))\n",
    "sns.displot(data_df['FLOW_DURATION_MILLISECONDS'])"
   ]
  },
  {
   "cell_type": "code",
   "execution_count": 20,
   "metadata": {
    "collapsed": false,
    "jupyter": {
     "outputs_hidden": false
    },
    "pycharm": {
     "name": "#%%\n"
    }
   },
   "outputs": [
    {
     "name": "stdout",
     "output_type": "stream",
     "text": [
      "224406\n"
     ]
    }
   ],
   "source": [
    "data_df_short_flow = data_df.query(\"FLOW_DURATION_MILLISECONDS < 4e6\").copy()\n",
    "print(len(data_df_short_flow))"
   ]
  },
  {
   "cell_type": "code",
   "execution_count": 21,
   "metadata": {
    "collapsed": false,
    "jupyter": {
     "outputs_hidden": false
    },
    "pycharm": {
     "name": "#%%\n"
    }
   },
   "outputs": [
    {
     "data": {
      "text/plain": [
       "array([0], dtype=int64)"
      ]
     },
     "execution_count": 21,
     "metadata": {},
     "output_type": "execute_result"
    }
   ],
   "source": [
    "data_df_short_flow['FLOW_DURATION_MILLISECONDS'].unique()"
   ]
  },
  {
   "cell_type": "code",
   "execution_count": 22,
   "metadata": {
    "collapsed": false,
    "jupyter": {
     "outputs_hidden": false
    },
    "pycharm": {
     "name": "#%%\n"
    }
   },
   "outputs": [
    {
     "name": "stdout",
     "output_type": "stream",
     "text": [
      "14622\n"
     ]
    }
   ],
   "source": [
    "data_df_long_flow = data_df.query(\"FLOW_DURATION_MILLISECONDS > 4e6\").copy()\n",
    "print(len(data_df_long_flow))"
   ]
  },
  {
   "cell_type": "code",
   "execution_count": 23,
   "metadata": {
    "collapsed": false,
    "jupyter": {
     "outputs_hidden": false
    },
    "pycharm": {
     "name": "#%%\n"
    }
   },
   "outputs": [
    {
     "data": {
      "text/plain": [
       "array([4294951, 4294905, 4294936, 4294952, 4294935, 4294920, 4294962,\n",
       "       4294764, 4294529, 4294545, 4294810, 4294921, 4294874, 4294842,\n",
       "       4294904, 4294873, 4294889, 4294858, 4294686, 4294670, 4294654,\n",
       "       4294965, 4294420, 4294826, 4294701, 4294592, 4294560, 4294811,\n",
       "       4294638, 4294514, 4294561, 4294685, 4294857, 4294961, 4294717,\n",
       "       4294779, 4294623, 4294888, 4294780, 4294436, 4294530, 4294956,\n",
       "       4294959, 4294748, 4294546, 4294655, 4294732, 4294607, 4294948,\n",
       "       4294451, 4294577, 4294947, 4294795, 4294733, 4294513, 4294499,\n",
       "       4294827, 4294639, 4294483, 4294964, 4294886, 4294958, 4294624,\n",
       "       4294702, 4294233, 4294576, 4294943, 4294749, 4294342, 4294248,\n",
       "       4294662], dtype=int64)"
      ]
     },
     "execution_count": 23,
     "metadata": {},
     "output_type": "execute_result"
    }
   ],
   "source": [
    "data_df_long_flow['FLOW_DURATION_MILLISECONDS'].unique()"
   ]
  },
  {
   "cell_type": "code",
   "execution_count": null,
   "metadata": {
    "collapsed": false,
    "jupyter": {
     "outputs_hidden": false
    },
    "pycharm": {
     "name": "#%%\n"
    }
   },
   "outputs": [],
   "source": []
  },
  {
   "cell_type": "markdown",
   "metadata": {
    "collapsed": false,
    "jupyter": {
     "outputs_hidden": false
    },
    "pycharm": {
     "name": "#%% md\n"
    }
   },
   "source": [
    "## 2.5. Incomming ws Outgoing traffic"
   ]
  },
  {
   "cell_type": "code",
   "execution_count": 24,
   "metadata": {
    "collapsed": false,
    "jupyter": {
     "outputs_hidden": false
    },
    "pycharm": {
     "name": "#%%\n"
    }
   },
   "outputs": [
    {
     "data": {
      "image/png": "[encoded data removed]",
      "text/plain": [
       "<Figure size 576x432 with 1 Axes>"
      ]
     },
     "metadata": {
      "needs_background": "light"
     },
     "output_type": "display_data"
    }
   ],
   "source": [
    "plt.figure(figsize=(8, 6))\n",
    "sns.scatterplot(x='IN_BYTES', y='OUT_BYTES', hue='Label', data=data_df)\n",
    "plt.title('Incoming vs Outgoing Bytes')\n",
    "plt.xlabel('Incoming Bytes')\n",
    "plt.ylabel('Outgoing Bytes')\n",
    "plt.show()"
   ]
  },
  {
   "cell_type": "markdown",
   "metadata": {
    "collapsed": false,
    "jupyter": {
     "outputs_hidden": false
    },
    "pycharm": {
     "name": "#%% md\n"
    }
   },
   "source": [
    "# 2.6 Packet size distribution"
   ]
  },
  {
   "cell_type": "markdown",
   "metadata": {
    "collapsed": false,
    "jupyter": {
     "outputs_hidden": false
    },
    "pycharm": {
     "name": "#%% md\n"
    }
   },
   "source": []
  },
  {
   "cell_type": "code",
   "execution_count": 25,
   "metadata": {
    "collapsed": false,
    "jupyter": {
     "outputs_hidden": false
    },
    "pycharm": {
     "name": "#%%\n"
    }
   },
   "outputs": [
    {
     "data": {
      "image/png": "[encoded data removed]",
      "text/plain": [
       "<Figure size 576x432 with 1 Axes>"
      ]
     },
     "metadata": {
      "needs_background": "light"
     },
     "output_type": "display_data"
    }
   ],
   "source": [
    "plt.figure(figsize=(8, 6))\n",
    "sns.boxplot(data=data_df[['MIN_IP_PKT_LEN', 'MAX_IP_PKT_LEN']])\n",
    "plt.title('Packet Size Distribution (Min & Max)')\n",
    "plt.xlabel('Packet Size Type')\n",
    "plt.ylabel('Size (Bytes)')\n",
    "plt.show()"
   ]
  },
  {
   "cell_type": "code",
   "execution_count": 26,
   "metadata": {
    "collapsed": false,
    "jupyter": {
     "outputs_hidden": false
    },
    "pycharm": {
     "name": "#%%\n"
    }
   },
   "outputs": [
    {
     "data": {
      "image/png": "[encoded data removed]",
      "text/plain": [
       "<Figure size 1440x432 with 1 Axes>"
      ]
     },
     "metadata": {
      "needs_background": "light"
     },
     "output_type": "display_data"
    }
   ],
   "source": [
    "# Distribution of max_ip_pkt_len per Attack\n",
    "plt.figure(figsize=(20, 6))\n",
    "sns.boxplot(data=data_df, x='Attack', y='MAX_IP_PKT_LEN', hue='Attack')\n",
    "plt.title('Max Packet Size Distribution per Attack')\n",
    "plt.xlabel('Attack Type')\n",
    "plt.ylabel('Size (Bytes)')\n",
    "plt.xticks(rotation=45)\n",
    "plt.show()"
   ]
  },
  {
   "cell_type": "markdown",
   "metadata": {
    "collapsed": false,
    "jupyter": {
     "outputs_hidden": false
    },
    "pycharm": {
     "name": "#%% md\n"
    }
   },
   "source": [
    "## 2.7. Source ports"
   ]
  },
  {
   "cell_type": "markdown",
   "metadata": {
    "collapsed": false,
    "jupyter": {
     "outputs_hidden": false
    },
    "pycharm": {
     "name": "#%% md\n"
    }
   },
   "source": [
    "### 2.7.1 Source ports distribution"
   ]
  },
  {
   "cell_type": "code",
   "execution_count": 27,
   "metadata": {
    "collapsed": false,
    "jupyter": {
     "outputs_hidden": false
    },
    "pycharm": {
     "name": "#%%\n"
    }
   },
   "outputs": [
    {
     "name": "stdout",
     "output_type": "stream",
     "text": [
      "4\n",
      "4\n"
     ]
    }
   ],
   "source": [
    "def square(x):\n",
    "    return x*x\n",
    "\n",
    "square_2 = lambda x : x*x\n",
    "\n",
    "x= 2 \n",
    "print(square(x))\n",
    "print(square_2(x))\n"
   ]
  },
  {
   "cell_type": "code",
   "execution_count": 28,
   "metadata": {},
   "outputs": [
    {
     "name": "stdout",
     "output_type": "stream",
     "text": [
      "224406\n"
     ]
    }
   ],
   "source": [
    "data_df_short_flow = data_df.query(\"FLOW_DURATION_MILLISECONDS < 4e6\").copy()\n",
    "print(len(data_df_short_flow))"
   ]
  },
  {
   "cell_type": "code",
   "execution_count": 29,
   "metadata": {},
   "outputs": [
    {
     "data": {
      "text/plain": [
       "array([0], dtype=int64)"
      ]
     },
     "execution_count": 29,
     "metadata": {},
     "output_type": "execute_result"
    }
   ],
   "source": [
    "data_df_short_flow['FLOW_DURATION_MILLISECONDS'].unique()"
   ]
  },
  {
   "cell_type": "code",
   "execution_count": 30,
   "metadata": {},
   "outputs": [
    {
     "name": "stdout",
     "output_type": "stream",
     "text": [
      "14622\n"
     ]
    }
   ],
   "source": [
    "data_df_long_flow = data_df.query(\"FLOW_DURATION_MILLISECONDS > 4e6\").copy()\n",
    "print(len(data_df_long_flow))"
   ]
  },
  {
   "cell_type": "code",
   "execution_count": 31,
   "metadata": {},
   "outputs": [
    {
     "data": {
      "text/plain": [
       "array([4294951, 4294905, 4294936, 4294952, 4294935, 4294920, 4294962,\n",
       "       4294764, 4294529, 4294545, 4294810, 4294921, 4294874, 4294842,\n",
       "       4294904, 4294873, 4294889, 4294858, 4294686, 4294670, 4294654,\n",
       "       4294965, 4294420, 4294826, 4294701, 4294592, 4294560, 4294811,\n",
       "       4294638, 4294514, 4294561, 4294685, 4294857, 4294961, 4294717,\n",
       "       4294779, 4294623, 4294888, 4294780, 4294436, 4294530, 4294956,\n",
       "       4294959, 4294748, 4294546, 4294655, 4294732, 4294607, 4294948,\n",
       "       4294451, 4294577, 4294947, 4294795, 4294733, 4294513, 4294499,\n",
       "       4294827, 4294639, 4294483, 4294964, 4294886, 4294958, 4294624,\n",
       "       4294702, 4294233, 4294576, 4294943, 4294749, 4294342, 4294248,\n",
       "       4294662], dtype=int64)"
      ]
     },
     "execution_count": 31,
     "metadata": {},
     "output_type": "execute_result"
    }
   ],
   "source": [
    "data_df_long_flow['FLOW_DURATION_MILLISECONDS'].unique()"
   ]
  },
  {
   "cell_type": "code",
   "execution_count": null,
   "metadata": {
    "collapsed": false,
    "jupyter": {
     "outputs_hidden": false
    },
    "pycharm": {
     "name": "#%%\n"
    }
   },
   "outputs": [],
   "source": []
  },
  {
   "cell_type": "markdown",
   "metadata": {
    "collapsed": false,
    "jupyter": {
     "outputs_hidden": false
    },
    "pycharm": {
     "name": "#%% md\n"
    }
   },
   "source": [
    "## 2.5. Incomming ws Outgoing traffic"
   ]
  },
  {
   "cell_type": "code",
   "execution_count": 32,
   "metadata": {
    "collapsed": false,
    "jupyter": {
     "outputs_hidden": false
    },
    "pycharm": {
     "name": "#%%\n"
    }
   },
   "outputs": [
    {
     "data": {
      "image/png": "[encoded data removed]",
      "text/plain": [
       "<Figure size 576x432 with 1 Axes>"
      ]
     },
     "metadata": {
      "needs_background": "light"
     },
     "output_type": "display_data"
    }
   ],
   "source": [
    "plt.figure(figsize=(8, 6))\n",
    "sns.scatterplot(x='IN_BYTES', y='OUT_BYTES', hue='Label', data=data_df)\n",
    "plt.title('Incoming vs Outgoing Bytes')\n",
    "plt.xlabel('Incoming Bytes')\n",
    "plt.ylabel('Outgoing Bytes')\n",
    "plt.show()"
   ]
  },
  {
   "cell_type": "markdown",
   "metadata": {
    "collapsed": false,
    "jupyter": {
     "outputs_hidden": false
    },
    "pycharm": {
     "name": "#%% md\n"
    }
   },
   "source": [
    "# 2.6 Packet size distribution"
   ]
  },
  {
   "cell_type": "markdown",
   "metadata": {
    "collapsed": false,
    "jupyter": {
     "outputs_hidden": false
    },
    "pycharm": {
     "name": "#%% md\n"
    }
   },
   "source": []
  },
  {
   "cell_type": "code",
   "execution_count": 33,
   "metadata": {
    "collapsed": false,
    "jupyter": {
     "outputs_hidden": false
    },
    "pycharm": {
     "name": "#%%\n"
    }
   },
   "outputs": [
    {
     "data": {
      "image/png": "[encoded data removed]",
      "text/plain": [
       "<Figure size 576x432 with 1 Axes>"
      ]
     },
     "metadata": {
      "needs_background": "light"
     },
     "output_type": "display_data"
    }
   ],
   "source": [
    "plt.figure(figsize=(8, 6))\n",
    "sns.boxplot(data=data_df[['MIN_IP_PKT_LEN', 'MAX_IP_PKT_LEN']])\n",
    "plt.title('Packet Size Distribution (Min & Max)')\n",
    "plt.xlabel('Packet Size Type')\n",
    "plt.ylabel('Size (Bytes)')\n",
    "plt.show()"
   ]
  },
  {
   "cell_type": "code",
   "execution_count": 34,
   "metadata": {
    "collapsed": false,
    "jupyter": {
     "outputs_hidden": false
    },
    "pycharm": {
     "name": "#%%\n"
    }
   },
   "outputs": [
    {
     "data": {
      "image/png": "[encoded data removed]",
      "text/plain": [
       "<Figure size 1440x432 with 1 Axes>"
      ]
     },
     "metadata": {
      "needs_background": "light"
     },
     "output_type": "display_data"
    }
   ],
   "source": [
    "# Distribution of max_ip_pkt_len per Attack\n",
    "plt.figure(figsize=(20, 6))\n",
    "sns.boxplot(data=data_df, x='Attack', y='MAX_IP_PKT_LEN', hue='Attack')\n",
    "plt.title('Max Packet Size Distribution per Attack')\n",
    "plt.xlabel('Attack Type')\n",
    "plt.ylabel('Size (Bytes)')\n",
    "plt.xticks(rotation=45)\n",
    "plt.show()"
   ]
  },
  {
   "cell_type": "markdown",
   "metadata": {
    "collapsed": false,
    "jupyter": {
     "outputs_hidden": false
    },
    "pycharm": {
     "name": "#%% md\n"
    }
   },
   "source": [
    "## 2.7. Source ports"
   ]
  },
  {
   "cell_type": "markdown",
   "metadata": {
    "collapsed": false,
    "jupyter": {
     "outputs_hidden": false
    },
    "pycharm": {
     "name": "#%% md\n"
    }
   },
   "source": [
    "### 2.7.1 Source ports distribution"
   ]
  },
  {
   "cell_type": "code",
   "execution_count": 35,
   "metadata": {},
   "outputs": [
    {
     "name": "stdout",
     "output_type": "stream",
     "text": [
      "4\n",
      "4\n"
     ]
    }
   ],
   "source": [
    "def square(x):\n",
    "    return x*x\n",
    "\n",
    "square_2 = lambda x : x*x\n",
    "\n",
    "x= 2 \n",
    "print(square(x))\n",
    "print(square_2(x))\n"
   ]
  },
  {
   "cell_type": "code",
   "execution_count": null,
   "metadata": {
    "collapsed": false,
    "jupyter": {
     "outputs_hidden": false
    },
    "pycharm": {
     "is_executing": true,
     "name": "#%%\n"
    }
   },
   "outputs": [
    {
     "name": "stdout",
     "output_type": "stream",
     "text": [
      "Number of distinct standard ports:  28\n",
      "Number of distinct regular ports:  46309\n",
      "Number of distinct dynamic ports:  15782\n"
     ]
    },
    {
     "data": {
      "image/png": "[encoded data removed]",
      "text/plain": [
       "<Figure size 720x360 with 1 Axes>"
      ]
     },
     "metadata": {
      "needs_background": "light"
     },
     "output_type": "display_data"
    },
    {
     "data": {
      "image/png": "[encoded data removed]",
      "text/plain": [
       "<Figure size 720x360 with 1 Axes>"
      ]
     },
     "metadata": {
      "needs_background": "light"
     },
     "output_type": "display_data"
    }
   ],
   "source": [
    "plt.figure(figsize=(10,5))\n",
    "sns.histplot(data_df['L4_SRC_PORT'])\n",
    "\n",
    "# Standard ports : 0-1024\n",
    "print(\"Number of distinct standard ports: \", data_df.query('L4_SRC_PORT <= 1024')['L4_SRC_PORT'].nunique())\n",
    "print(\"Number of distinct regular ports: \", data_df.query('L4_SRC_PORT > 1024 and L4_SRC_PORT <= 49151')['L4_SRC_PORT'].nunique())\n",
    "print(\"Number of distinct dynamic ports: \", data_df.query('L4_SRC_PORT > 49151')['L4_SRC_PORT'].nunique())\n",
    "\n",
    "#Bar plot of the 3 line above(stanard, regular and dynamic ports)\n",
    "plt.figure(figsize=(10,5))\n",
    "data_df['L4_SRC_PORT'].apply(lambda x: 'Standard' if x <= 1024 else ('Regular' if x <= 49151 else 'Dynamic')).value_counts().plot(kind='bar')\n",
    "plt.title('Source Ports Distribution')\n",
    "plt.xlabel('Port Type')\n",
    "plt.show()\n",
    "\n",
    "\n",
    "#Plot as many pie charts as the number of attacks (Top 5 Source Ports per Attack and other in the same pie chart)\n",
    "fig, ax = plt.subplots(2, 5, figsize=(30, 10))\n",
    "for i, attack in enumerate(data_df['Attack'].unique()):\n",
    "    data_df.query('Attack == @attack')['L4_SRC_PORT'].value_counts().plot.pie(autopct='%1.1f%%', ax=ax[i//5, i%5])\n",
    "    ax[i//5, i%5].set_title(attack)\n",
    "fig.suptitle('Source Ports per Attack')"
   ]
  },
  {
   "cell_type": "markdown",
   "metadata": {
    "collapsed": false,
    "jupyter": {
     "outputs_hidden": false
    },
    "pycharm": {
     "name": "#%% md\n"
    }
   },
   "source": [
    "### 2.7.2 Destination ports distribution"
   ]
  },
  {
   "cell_type": "code",
   "execution_count": null,
   "metadata": {
    "collapsed": false,
    "jupyter": {
     "outputs_hidden": false
    },
    "pycharm": {
     "name": "#%%\n"
    }
   },
   "outputs": [],
   "source": [
    "plt.figure(figsize=(10,5))\n",
    "sns.histplot(data_df['L4_DST_PORT'])\n",
    "plt.show()\n",
    "# Standard ports : 0-1024\n",
    "print(\"Number of distinct standard ports: \", data_df.query('L4_DST_PORT <= 1024')['L4_DST_PORT'].nunique())\n",
    "print(\"Number of distinct regular ports: \", data_df.query('L4_DST_PORT > 1024 and L4_DST_PORT <= 49151')['L4_DST_PORT'].nunique())\n",
    "print(\"Number of distinct dynamic ports: \", data_df.query('L4_DST_PORT > 49151')['L4_DST_PORT'].nunique())\n",
    "#Bar plot of the 3 line above(stanard, regular and dynamic ports)\n",
    "\n",
    "plt.figure(figsize=(10,5))\n",
    "data_df['L4_DST_PORT'].apply(lambda x: 'Standard' if x <= 1024 else ('Regular' if x <= 49151 else 'Dynamic')).value_counts().plot(kind='bar')\n",
    "plt.title('Destination Ports Distribution')\n",
    "plt.xlabel('Port Type')\n",
    "plt.show()\n",
    "\n",
    "#Plot as many pie charts as the number of attacks (Top 5 Destination Ports per Attack and other in the same pie chart)\n",
    "fig, ax = plt.subplots(2, 5, figsize=(30, 10))\n",
    "for i, attack in enumerate(data_df['Attack'].unique()):\n",
    "    data_df.query('Attack == @attack')['L4_DST_PORT'].value_counts().plot.pie(autopct='%1.1f%%', ax=ax[i//5, i%5])\n",
    "    ax[i//5, i%5].set_title(attack)\n",
    "fig.suptitle('Destination Ports per Attack')"
   ]
  },
  {
   "cell_type": "markdown",
   "metadata": {
    "collapsed": false,
    "jupyter": {
     "outputs_hidden": false
    },
    "pycharm": {
     "name": "#%% md\n"
    }
   },
   "source": [
    "## 2.8. Analysis of subnets ipv4"
   ]
  },
  {
   "cell_type": "code",
   "execution_count": null,
   "metadata": {},
   "outputs": [],
   "source": [
    "data_df_ip = data_df.copy()"
   ]
  },
  {
   "cell_type": "markdown",
   "metadata": {
    "collapsed": false,
    "jupyter": {
     "outputs_hidden": false
    },
    "pycharm": {
     "name": "#%% md\n"
    }
   },
   "source": [
    "# Three first octets of the source and destination IP addresses"
   ]
  },
  {
   "cell_type": "code",
   "execution_count": null,
   "metadata": {
    "collapsed": false,
    "jupyter": {
     "outputs_hidden": false
    },
    "pycharm": {
     "name": "#%%\n"
    }
   },
   "outputs": [],
   "source": [
    "data_df_ip['IPV4_SRC_ADDR_OCTET1_3']= data_df_ip['IPV4_SRC_ADDR'].apply(lambda x: '.'.join(x.split('.')[:3]))\n",
    "data_df_ip['IPV4_DST_ADDR_OCTET1_3']= data_df_ip['IPV4_DST_ADDR'].apply(lambda x: '.'.join(x.split('.')[:3]))\n",
    "\n",
    "#Statistical description of the source IP addresses\n",
    "print(\"Number of distinct source networks: \", data_df_ip['IPV4_SRC_ADDR_OCTET1_3'].nunique())\n",
    "#Statistical description of the destination IP addresses\n",
    "print(\"Number of distinct destination networks \", data_df_ip['IPV4_DST_ADDR_OCTET1_3'].nunique())\n",
    "\n",
    "#The source and destination networks\n",
    "print(\"Source networks: \", data_df_ip['IPV4_SRC_ADDR_OCTET1_3'].unique())\n",
    "print(\"Destination networks: \", data_df_ip['IPV4_DST_ADDR_OCTET1_3'].unique())"
   ]
  },
  {
   "cell_type": "code",
   "execution_count": null,
   "metadata": {},
   "outputs": [],
   "source": [
    "149.171.126.1"
   ]
  },
  {
   "cell_type": "markdown",
   "metadata": {
    "collapsed": false,
    "jupyter": {
     "outputs_hidden": false
    },
    "pycharm": {
     "name": "#%% md\n"
    }
   },
   "source": [
    "### Host part of the source and destination IP addresses"
   ]
  },
  {
   "cell_type": "code",
   "execution_count": null,
   "metadata": {
    "collapsed": false,
    "jupyter": {
     "outputs_hidden": false
    },
    "pycharm": {
     "name": "#%%\n"
    }
   },
   "outputs": [],
   "source": [
    "data_df_ip['IPV4_SRC_ADDR_OCTET4']= data_df_ip['IPV4_SRC_ADDR'].apply(lambda x: x.split('.')[-1])\n",
    "data_df_ip['IPV4_DST_ADDR_OCTET4']= data_df_ip['IPV4_DST_ADDR'].apply(lambda x: x.split('.')[-1])\n",
    "\n",
    "#Statistical description of the source IP addresses\n",
    "print(\"Number of distinct source hosts: \", data_df_ip['IPV4_SRC_ADDR_OCTET4'].nunique())\n",
    "#Statistical description of the destination IP addresses\n",
    "print(\"Number of distinct destination hosts \", data_df_ip['IPV4_DST_ADDR_OCTET4'].nunique())\n",
    "\n",
    "# The source and destination hosts\n",
    "print(\"Source hosts: \", data_df['IPV4_SRC_ADDR_OCTET4'].unique())\n",
    "print(\"Destination hosts: \", data_df['IPV4_DST_ADDR_OCTET4'].unique())"
   ]
  },
  {
   "cell_type": "markdown",
   "metadata": {
    "collapsed": false,
    "jupyter": {
     "outputs_hidden": false
    },
    "pycharm": {
     "name": "#%% md\n"
    }
   },
   "source": []
  },
  {
   "cell_type": "markdown",
   "metadata": {
    "collapsed": false,
    "jupyter": {
     "outputs_hidden": false
    },
    "pycharm": {
     "name": "#%% md\n"
    }
   },
   "source": [
    "## Analysis of  ipv4 network, host"
   ]
  },
  {
   "cell_type": "markdown",
   "metadata": {
    "collapsed": false,
    "jupyter": {
     "outputs_hidden": false
    },
    "pycharm": {
     "name": "#%% md\n"
    }
   },
   "source": [
    "### (Network Part) Three first octets of the source and destination IP addresses"
   ]
  },
  {
   "cell_type": "code",
   "execution_count": null,
   "metadata": {
    "collapsed": false,
    "jupyter": {
     "outputs_hidden": false
    },
    "pycharm": {
     "name": "#%%\n"
    }
   },
   "outputs": [],
   "source": [
    "\n",
    "data_df_ip['IPV4_SRC_ADDR_OCTET1_3']= data_df_ip['IPV4_SRC_ADDR'].apply(lambda x: '.'.join(x.split('.')[:3]))\n",
    "data_df_ip['IPV4_DST_ADDR_OCTET1_3']= data_df_ip['IPV4_DST_ADDR'].apply(lambda x: '.'.join(x.split('.')[:3]))\n",
    "\n",
    "#Statistical description of the source IP addresses\n",
    "print(\"Number of distinct source networks: \", data_df_ip['IPV4_SRC_ADDR_OCTET1_3'].nunique())\n",
    "#Statistical description of the destination IP addresses\n",
    "print(\"Number of distinct destination networks \", data_df_ip['IPV4_DST_ADDR_OCTET1_3'].nunique())\n",
    "\n",
    "#The source and destination networks\n",
    "print(\"Source networks: \", data_df_ip['IPV4_SRC_ADDR_OCTET1_3'].unique())\n",
    "print(\"Destination networks: \", data_df_ip['IPV4_DST_ADDR_OCTET1_3'].unique())"
   ]
  },
  {
   "cell_type": "markdown",
   "metadata": {
    "collapsed": false,
    "jupyter": {
     "outputs_hidden": false
    },
    "pycharm": {
     "name": "#%% md\n"
    }
   },
   "source": [
    "### Host part of the source and destination IP addresses"
   ]
  },
  {
   "cell_type": "code",
   "execution_count": null,
   "metadata": {
    "collapsed": false,
    "jupyter": {
     "outputs_hidden": false
    },
    "pycharm": {
     "name": "#%%\n"
    }
   },
   "outputs": [],
   "source": [
    "data_df_ip['IPV4_SRC_ADDR_OCTET4']= data_df_ip['IPV4_SRC_ADDR'].apply(lambda x: x.split('.')[-1])\n",
    "data_df_ip['IPV4_DST_ADDR_OCTET4']= data_df_ip['IPV4_DST_ADDR'].apply(lambda x: x.split('.')[-1])\n",
    "\n",
    "#Statistical description of the source IP addresses\n",
    "print(\"Number of distinct source hosts: \", data_df_ip['IPV4_SRC_ADDR_OCTET4'].nunique())\n",
    "#Statistical description of the destination IP addresses\n",
    "print(\"Number of distinct destination hosts \", data_df_ip['IPV4_DST_ADDR_OCTET4'].nunique())\n",
    "\n",
    "# The source and destination hosts\n",
    "print(\"Source hosts: \", data_df_ip['IPV4_SRC_ADDR_OCTET4'].unique())\n",
    "print(\"Destination hosts: \", data_df_ip['IPV4_DST_ADDR_OCTET4'].unique())"
   ]
  },
  {
   "cell_type": "markdown",
   "metadata": {
    "collapsed": false,
    "jupyter": {
     "outputs_hidden": false
    },
    "pycharm": {
     "name": "#%% md\n"
    }
   },
   "source": [
    "# 3. Correlation Analysis"
   ]
  },
  {
   "cell_type": "markdown",
   "metadata": {
    "collapsed": false,
    "jupyter": {
     "outputs_hidden": false
    },
    "pycharm": {
     "name": "#%% md\n"
    }
   },
   "source": [
    "## 3.1 Correlation matrix"
   ]
  },
  {
   "cell_type": "code",
   "execution_count": null,
   "metadata": {
    "collapsed": false,
    "jupyter": {
     "outputs_hidden": false
    },
    "pycharm": {
     "name": "#%%\n"
    }
   },
   "outputs": [],
   "source": [
    "from network_ad.config import BASE_CATEGORICAL_FEATURES\n",
    "data_df_num = data_df.drop(BASE_CATEGORICAL_FEATURES, axis=1, errors='ignore')\n",
    "plt.figure(figsize=(20, 20))\n",
    "sns.heatmap(data_df_num.corr(), annot=True, fmt='.2f', cmap='coolwarm')"
   ]
  },
  {
   "cell_type": "markdown",
   "metadata": {
    "collapsed": false,
    "jupyter": {
     "outputs_hidden": false
    },
    "pycharm": {
     "name": "#%% md\n"
    }
   },
   "source": [
    "## 3.2. Top 20 features with the highest correlation with the label (in absolute value)"
   ]
  },
  {
   "cell_type": "code",
   "execution_count": null,
   "metadata": {
    "collapsed": false,
    "jupyter": {
     "outputs_hidden": false
    },
    "pycharm": {
     "name": "#%%\n"
    }
   },
   "outputs": [],
   "source": [
    "corr_label = data_df_num.corr()['Label'].abs().sort_values(ascending=False)\n",
    "#In a colored bar plot\n",
    "plt.figure(figsize=(20, 6))\n",
    "corr_label[1:21].plot(kind='bar', color='skyblue')\n",
    "plt.title('Top 20 Features with the Highest Correlation with the Label')\n",
    "plt.ylabel('Correlation')\n"
   ]
  },
  {
   "cell_type": "markdown",
   "metadata": {
    "collapsed": false,
    "jupyter": {
     "outputs_hidden": false
    },
    "pycharm": {
     "name": "#%% md\n"
    }
   },
   "source": []
  },
  {
   "cell_type": "markdown",
   "metadata": {
    "collapsed": false,
    "jupyter": {
     "outputs_hidden": false
    },
    "pycharm": {
     "name": "#%% md\n"
    }
   },
   "source": []
  }
 ],
 "metadata": {
  "kernelspec": {
   "display_name": "Python 3 (ipykernel)",
   "language": "python",
   "name": "python3"
  },
  "language_info": {
   "codemirror_mode": {
    "name": "ipython",
    "version": 3
   },
   "file_extension": ".py",
   "mimetype": "text/x-python",
   "name": "python",
   "nbconvert_exporter": "python",
   "pygments_lexer": "ipython3",
   "version": "3.10.5"
  }
 },
 "nbformat": 4,
 "nbformat_minor": 4
}
