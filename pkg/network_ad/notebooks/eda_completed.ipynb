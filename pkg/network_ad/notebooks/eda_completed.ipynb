{
 "cells": [
  {
   "cell_type": "code",
   "execution_count": 1,
   "metadata": {
    "collapsed": false,
    "jupyter": {
     "outputs_hidden": false
    },
    "pycharm": {
     "name": "#%%\n"
    }
   },
   "outputs": [],
   "source": [
    "import sys\n",
    "sys.path.append(\"../..\")"
   ]
  },
  {
   "cell_type": "markdown",
   "metadata": {
    "collapsed": false,
    "jupyter": {
     "outputs_hidden": false
    },
    "pycharm": {
     "name": "#%% md\n"
    }
   },
   "source": [
    "# Exploratory Data Analysis (EDA)\n",
    "-------------------------\n",
    "- This notebook is dedicated to the exploratory data analysis of the dataset\n",
    "raw/NF-UNSW-NB15-v2 which contains the network traffic data in the netflow format.\n",
    "- The dataset contains *43* etflow features and a total of *2390275* records.\n",
    "\n"
   ]
  },
  {
   "cell_type": "code",
   "execution_count": 2,
   "metadata": {
    "collapsed": false,
    "jupyter": {
     "outputs_hidden": false
    },
    "pycharm": {
     "name": "#%%\n"
    }
   },
   "outputs": [],
   "source": [
    "import pandas as pd\n",
    "import numpy as np\n",
    "#Libraries for graph visualization\n",
    "import networkx as nx"
   ]
  },
  {
   "cell_type": "code",
   "execution_count": 3,
   "metadata": {
    "collapsed": false,
    "jupyter": {
     "outputs_hidden": false
    },
    "pycharm": {
     "name": "#%%\n"
    }
   },
   "outputs": [],
   "source": [
    "from network_ad.config import DATA_PATH\n",
    "import matplotlib.pyplot as plt\n",
    "import seaborn as sns"
   ]
  },
  {
   "cell_type": "markdown",
   "metadata": {
    "collapsed": false,
    "jupyter": {
     "outputs_hidden": false
    },
    "pycharm": {
     "name": "#%% md\n"
    }
   },
   "source": [
    "# 1. Data Loading"
   ]
  },
  {
   "cell_type": "code",
   "execution_count": 4,
   "metadata": {
    "collapsed": false,
    "jupyter": {
     "outputs_hidden": false
    },
    "pycharm": {
     "name": "#%%\n"
    }
   },
   "outputs": [],
   "source": [
    "from network_ad.config import RAW_DATA_FILE\n",
    "def load_data():\n",
    "    return pd.read_csv(DATA_PATH / RAW_DATA_FILE)\n",
    "data_df = load_data()"
   ]
  },
  {
   "cell_type": "code",
   "execution_count": 5,
   "metadata": {
    "collapsed": false,
    "jupyter": {
     "outputs_hidden": false
    },
    "pycharm": {
     "name": "#%%\n"
    }
   },
   "outputs": [],
   "source": [
    "data_df =data_df.sample(frac=0.1)"
   ]
  },
  {
   "cell_type": "code",
   "execution_count": 6,
   "metadata": {
    "collapsed": false,
    "jupyter": {
     "outputs_hidden": false
    },
    "pycharm": {
     "name": "#%%\n"
    }
   },
   "outputs": [
    {
     "name": "stdout",
     "output_type": "stream",
     "text": [
      "<class 'pandas.core.frame.DataFrame'>\n",
      "Int64Index: 239028 entries, 692549 to 1694708\n",
      "Data columns (total 45 columns):\n",
      " #   Column                       Non-Null Count   Dtype  \n",
      "---  ------                       --------------   -----  \n",
      " 0   IPV4_SRC_ADDR                239028 non-null  object \n",
      " 1   L4_SRC_PORT                  239028 non-null  int64  \n",
      " 2   IPV4_DST_ADDR                239028 non-null  object \n",
      " 3   L4_DST_PORT                  239028 non-null  int64  \n",
      " 4   PROTOCOL                     239028 non-null  int64  \n",
      " 5   L7_PROTO                     239028 non-null  float64\n",
      " 6   IN_BYTES                     239028 non-null  int64  \n",
      " 7   IN_PKTS                      239028 non-null  int64  \n",
      " 8   OUT_BYTES                    239028 non-null  int64  \n",
      " 9   OUT_PKTS                     239028 non-null  int64  \n",
      " 10  TCP_FLAGS                    239028 non-null  int64  \n",
      " 11  CLIENT_TCP_FLAGS             239028 non-null  int64  \n",
      " 12  SERVER_TCP_FLAGS             239028 non-null  int64  \n",
      " 13  FLOW_DURATION_MILLISECONDS   239028 non-null  int64  \n",
      " 14  DURATION_IN                  239028 non-null  int64  \n",
      " 15  DURATION_OUT                 239028 non-null  int64  \n",
      " 16  MIN_TTL                      239028 non-null  int64  \n",
      " 17  MAX_TTL                      239028 non-null  int64  \n",
      " 18  LONGEST_FLOW_PKT             239028 non-null  int64  \n",
      " 19  SHORTEST_FLOW_PKT            239028 non-null  int64  \n",
      " 20  MIN_IP_PKT_LEN               239028 non-null  int64  \n",
      " 21  MAX_IP_PKT_LEN               239028 non-null  int64  \n",
      " 22  SRC_TO_DST_SECOND_BYTES      239028 non-null  float64\n",
      " 23  DST_TO_SRC_SECOND_BYTES      239028 non-null  float64\n",
      " 24  RETRANSMITTED_IN_BYTES       239028 non-null  int64  \n",
      " 25  RETRANSMITTED_IN_PKTS        239028 non-null  int64  \n",
      " 26  RETRANSMITTED_OUT_BYTES      239028 non-null  int64  \n",
      " 27  RETRANSMITTED_OUT_PKTS       239028 non-null  int64  \n",
      " 28  SRC_TO_DST_AVG_THROUGHPUT    239028 non-null  int64  \n",
      " 29  DST_TO_SRC_AVG_THROUGHPUT    239028 non-null  int64  \n",
      " 30  NUM_PKTS_UP_TO_128_BYTES     239028 non-null  int64  \n",
      " 31  NUM_PKTS_128_TO_256_BYTES    239028 non-null  int64  \n",
      " 32  NUM_PKTS_256_TO_512_BYTES    239028 non-null  int64  \n",
      " 33  NUM_PKTS_512_TO_1024_BYTES   239028 non-null  int64  \n",
      " 34  NUM_PKTS_1024_TO_1514_BYTES  239028 non-null  int64  \n",
      " 35  TCP_WIN_MAX_IN               239028 non-null  int64  \n",
      " 36  TCP_WIN_MAX_OUT              239028 non-null  int64  \n",
      " 37  ICMP_TYPE                    239028 non-null  int64  \n",
      " 38  ICMP_IPV4_TYPE               239028 non-null  int64  \n",
      " 39  DNS_QUERY_ID                 239028 non-null  int64  \n",
      " 40  DNS_QUERY_TYPE               239028 non-null  int64  \n",
      " 41  DNS_TTL_ANSWER               239028 non-null  int64  \n",
      " 42  FTP_COMMAND_RET_CODE         239028 non-null  float64\n",
      " 43  Label                        239028 non-null  int64  \n",
      " 44  Attack                       239028 non-null  object \n",
      "dtypes: float64(4), int64(38), object(3)\n",
      "memory usage: 83.9+ MB\n"
     ]
    }
   ],
   "source": [
    "data_df.info()"
   ]
  },
  {
   "cell_type": "code",
   "execution_count": 7,
   "metadata": {
    "collapsed": false,
    "jupyter": {
     "outputs_hidden": false
    },
    "pycharm": {
     "name": "#%%\n"
    }
   },
   "outputs": [
    {
     "data": {
      "text/html": [
       "<div>\n",
       "<style scoped>\n",
       "    .dataframe tbody tr th:only-of-type {\n",
       "        vertical-align: middle;\n",
       "    }\n",
       "\n",
       "    .dataframe tbody tr th {\n",
       "        vertical-align: top;\n",
       "    }\n",
       "\n",
       "    .dataframe thead th {\n",
       "        text-align: right;\n",
       "    }\n",
       "</style>\n",
       "<table border=\"1\" class=\"dataframe\">\n",
       "  <thead>\n",
       "    <tr style=\"text-align: right;\">\n",
       "      <th></th>\n",
       "      <th>IPV4_SRC_ADDR</th>\n",
       "      <th>L4_SRC_PORT</th>\n",
       "      <th>IPV4_DST_ADDR</th>\n",
       "      <th>L4_DST_PORT</th>\n",
       "      <th>PROTOCOL</th>\n",
       "      <th>L7_PROTO</th>\n",
       "      <th>IN_BYTES</th>\n",
       "      <th>IN_PKTS</th>\n",
       "      <th>OUT_BYTES</th>\n",
       "      <th>OUT_PKTS</th>\n",
       "      <th>...</th>\n",
       "      <th>TCP_WIN_MAX_IN</th>\n",
       "      <th>TCP_WIN_MAX_OUT</th>\n",
       "      <th>ICMP_TYPE</th>\n",
       "      <th>ICMP_IPV4_TYPE</th>\n",
       "      <th>DNS_QUERY_ID</th>\n",
       "      <th>DNS_QUERY_TYPE</th>\n",
       "      <th>DNS_TTL_ANSWER</th>\n",
       "      <th>FTP_COMMAND_RET_CODE</th>\n",
       "      <th>Label</th>\n",
       "      <th>Attack</th>\n",
       "    </tr>\n",
       "  </thead>\n",
       "  <tbody>\n",
       "    <tr>\n",
       "      <th>692549</th>\n",
       "      <td>59.166.0.4</td>\n",
       "      <td>65344</td>\n",
       "      <td>149.171.126.0</td>\n",
       "      <td>21</td>\n",
       "      <td>6</td>\n",
       "      <td>1.0</td>\n",
       "      <td>999</td>\n",
       "      <td>19</td>\n",
       "      <td>1190</td>\n",
       "      <td>17</td>\n",
       "      <td>...</td>\n",
       "      <td>15928</td>\n",
       "      <td>14480</td>\n",
       "      <td>60160</td>\n",
       "      <td>235</td>\n",
       "      <td>0</td>\n",
       "      <td>0</td>\n",
       "      <td>0</td>\n",
       "      <td>229.0</td>\n",
       "      <td>0</td>\n",
       "      <td>Benign</td>\n",
       "    </tr>\n",
       "    <tr>\n",
       "      <th>368482</th>\n",
       "      <td>59.166.0.8</td>\n",
       "      <td>58932</td>\n",
       "      <td>149.171.126.3</td>\n",
       "      <td>6881</td>\n",
       "      <td>6</td>\n",
       "      <td>0.0</td>\n",
       "      <td>2856</td>\n",
       "      <td>40</td>\n",
       "      <td>64718</td>\n",
       "      <td>66</td>\n",
       "      <td>...</td>\n",
       "      <td>41992</td>\n",
       "      <td>13032</td>\n",
       "      <td>33792</td>\n",
       "      <td>132</td>\n",
       "      <td>0</td>\n",
       "      <td>0</td>\n",
       "      <td>0</td>\n",
       "      <td>0.0</td>\n",
       "      <td>0</td>\n",
       "      <td>Benign</td>\n",
       "    </tr>\n",
       "    <tr>\n",
       "      <th>1023258</th>\n",
       "      <td>59.166.0.3</td>\n",
       "      <td>22636</td>\n",
       "      <td>149.171.126.1</td>\n",
       "      <td>21</td>\n",
       "      <td>6</td>\n",
       "      <td>1.0</td>\n",
       "      <td>261</td>\n",
       "      <td>5</td>\n",
       "      <td>469</td>\n",
       "      <td>7</td>\n",
       "      <td>...</td>\n",
       "      <td>8688</td>\n",
       "      <td>8688</td>\n",
       "      <td>18944</td>\n",
       "      <td>74</td>\n",
       "      <td>0</td>\n",
       "      <td>0</td>\n",
       "      <td>0</td>\n",
       "      <td>230.0</td>\n",
       "      <td>0</td>\n",
       "      <td>Benign</td>\n",
       "    </tr>\n",
       "    <tr>\n",
       "      <th>469027</th>\n",
       "      <td>59.166.0.8</td>\n",
       "      <td>9737</td>\n",
       "      <td>149.171.126.8</td>\n",
       "      <td>45325</td>\n",
       "      <td>6</td>\n",
       "      <td>0.0</td>\n",
       "      <td>5174</td>\n",
       "      <td>90</td>\n",
       "      <td>85108</td>\n",
       "      <td>92</td>\n",
       "      <td>...</td>\n",
       "      <td>60816</td>\n",
       "      <td>14480</td>\n",
       "      <td>11008</td>\n",
       "      <td>43</td>\n",
       "      <td>0</td>\n",
       "      <td>0</td>\n",
       "      <td>0</td>\n",
       "      <td>0.0</td>\n",
       "      <td>0</td>\n",
       "      <td>Benign</td>\n",
       "    </tr>\n",
       "    <tr>\n",
       "      <th>1471663</th>\n",
       "      <td>59.166.0.3</td>\n",
       "      <td>42775</td>\n",
       "      <td>149.171.126.5</td>\n",
       "      <td>13582</td>\n",
       "      <td>6</td>\n",
       "      <td>0.0</td>\n",
       "      <td>424</td>\n",
       "      <td>8</td>\n",
       "      <td>8824</td>\n",
       "      <td>12</td>\n",
       "      <td>...</td>\n",
       "      <td>10136</td>\n",
       "      <td>5792</td>\n",
       "      <td>0</td>\n",
       "      <td>0</td>\n",
       "      <td>0</td>\n",
       "      <td>0</td>\n",
       "      <td>0</td>\n",
       "      <td>0.0</td>\n",
       "      <td>0</td>\n",
       "      <td>Benign</td>\n",
       "    </tr>\n",
       "    <tr>\n",
       "      <th>1965662</th>\n",
       "      <td>59.166.0.6</td>\n",
       "      <td>41948</td>\n",
       "      <td>149.171.126.1</td>\n",
       "      <td>143</td>\n",
       "      <td>6</td>\n",
       "      <td>4.0</td>\n",
       "      <td>7820</td>\n",
       "      <td>122</td>\n",
       "      <td>15060</td>\n",
       "      <td>126</td>\n",
       "      <td>...</td>\n",
       "      <td>50680</td>\n",
       "      <td>47784</td>\n",
       "      <td>49664</td>\n",
       "      <td>194</td>\n",
       "      <td>0</td>\n",
       "      <td>0</td>\n",
       "      <td>0</td>\n",
       "      <td>0.0</td>\n",
       "      <td>0</td>\n",
       "      <td>Benign</td>\n",
       "    </tr>\n",
       "    <tr>\n",
       "      <th>1877039</th>\n",
       "      <td>59.166.0.2</td>\n",
       "      <td>29962</td>\n",
       "      <td>149.171.126.4</td>\n",
       "      <td>6881</td>\n",
       "      <td>6</td>\n",
       "      <td>0.0</td>\n",
       "      <td>24848</td>\n",
       "      <td>442</td>\n",
       "      <td>1094788</td>\n",
       "      <td>858</td>\n",
       "      <td>...</td>\n",
       "      <td>65160</td>\n",
       "      <td>59368</td>\n",
       "      <td>9216</td>\n",
       "      <td>36</td>\n",
       "      <td>0</td>\n",
       "      <td>0</td>\n",
       "      <td>0</td>\n",
       "      <td>0.0</td>\n",
       "      <td>0</td>\n",
       "      <td>Benign</td>\n",
       "    </tr>\n",
       "    <tr>\n",
       "      <th>614227</th>\n",
       "      <td>59.166.0.2</td>\n",
       "      <td>55029</td>\n",
       "      <td>149.171.126.1</td>\n",
       "      <td>53</td>\n",
       "      <td>17</td>\n",
       "      <td>0.0</td>\n",
       "      <td>130</td>\n",
       "      <td>2</td>\n",
       "      <td>162</td>\n",
       "      <td>2</td>\n",
       "      <td>...</td>\n",
       "      <td>0</td>\n",
       "      <td>0</td>\n",
       "      <td>0</td>\n",
       "      <td>0</td>\n",
       "      <td>29520</td>\n",
       "      <td>1</td>\n",
       "      <td>60</td>\n",
       "      <td>0.0</td>\n",
       "      <td>0</td>\n",
       "      <td>Benign</td>\n",
       "    </tr>\n",
       "    <tr>\n",
       "      <th>458639</th>\n",
       "      <td>59.166.0.5</td>\n",
       "      <td>41899</td>\n",
       "      <td>149.171.126.1</td>\n",
       "      <td>6881</td>\n",
       "      <td>6</td>\n",
       "      <td>0.0</td>\n",
       "      <td>1540</td>\n",
       "      <td>16</td>\n",
       "      <td>1644</td>\n",
       "      <td>18</td>\n",
       "      <td>...</td>\n",
       "      <td>10136</td>\n",
       "      <td>10136</td>\n",
       "      <td>64000</td>\n",
       "      <td>250</td>\n",
       "      <td>0</td>\n",
       "      <td>0</td>\n",
       "      <td>0</td>\n",
       "      <td>0.0</td>\n",
       "      <td>0</td>\n",
       "      <td>Benign</td>\n",
       "    </tr>\n",
       "    <tr>\n",
       "      <th>210977</th>\n",
       "      <td>59.166.0.0</td>\n",
       "      <td>20284</td>\n",
       "      <td>149.171.126.3</td>\n",
       "      <td>6881</td>\n",
       "      <td>6</td>\n",
       "      <td>0.0</td>\n",
       "      <td>1540</td>\n",
       "      <td>16</td>\n",
       "      <td>1644</td>\n",
       "      <td>18</td>\n",
       "      <td>...</td>\n",
       "      <td>10136</td>\n",
       "      <td>10136</td>\n",
       "      <td>64000</td>\n",
       "      <td>250</td>\n",
       "      <td>0</td>\n",
       "      <td>0</td>\n",
       "      <td>0</td>\n",
       "      <td>0.0</td>\n",
       "      <td>0</td>\n",
       "      <td>Benign</td>\n",
       "    </tr>\n",
       "  </tbody>\n",
       "</table>\n",
       "<p>10 rows × 45 columns</p>\n",
       "</div>"
      ],
      "text/plain": [
       "        IPV4_SRC_ADDR  L4_SRC_PORT  IPV4_DST_ADDR  L4_DST_PORT  PROTOCOL  \\\n",
       "692549     59.166.0.4        65344  149.171.126.0           21         6   \n",
       "368482     59.166.0.8        58932  149.171.126.3         6881         6   \n",
       "1023258    59.166.0.3        22636  149.171.126.1           21         6   \n",
       "469027     59.166.0.8         9737  149.171.126.8        45325         6   \n",
       "1471663    59.166.0.3        42775  149.171.126.5        13582         6   \n",
       "1965662    59.166.0.6        41948  149.171.126.1          143         6   \n",
       "1877039    59.166.0.2        29962  149.171.126.4         6881         6   \n",
       "614227     59.166.0.2        55029  149.171.126.1           53        17   \n",
       "458639     59.166.0.5        41899  149.171.126.1         6881         6   \n",
       "210977     59.166.0.0        20284  149.171.126.3         6881         6   \n",
       "\n",
       "         L7_PROTO  IN_BYTES  IN_PKTS  OUT_BYTES  OUT_PKTS  ...  \\\n",
       "692549        1.0       999       19       1190        17  ...   \n",
       "368482        0.0      2856       40      64718        66  ...   \n",
       "1023258       1.0       261        5        469         7  ...   \n",
       "469027        0.0      5174       90      85108        92  ...   \n",
       "1471663       0.0       424        8       8824        12  ...   \n",
       "1965662       4.0      7820      122      15060       126  ...   \n",
       "1877039       0.0     24848      442    1094788       858  ...   \n",
       "614227        0.0       130        2        162         2  ...   \n",
       "458639        0.0      1540       16       1644        18  ...   \n",
       "210977        0.0      1540       16       1644        18  ...   \n",
       "\n",
       "         TCP_WIN_MAX_IN  TCP_WIN_MAX_OUT  ICMP_TYPE  ICMP_IPV4_TYPE  \\\n",
       "692549            15928            14480      60160             235   \n",
       "368482            41992            13032      33792             132   \n",
       "1023258            8688             8688      18944              74   \n",
       "469027            60816            14480      11008              43   \n",
       "1471663           10136             5792          0               0   \n",
       "1965662           50680            47784      49664             194   \n",
       "1877039           65160            59368       9216              36   \n",
       "614227                0                0          0               0   \n",
       "458639            10136            10136      64000             250   \n",
       "210977            10136            10136      64000             250   \n",
       "\n",
       "         DNS_QUERY_ID  DNS_QUERY_TYPE  DNS_TTL_ANSWER  FTP_COMMAND_RET_CODE  \\\n",
       "692549              0               0               0                 229.0   \n",
       "368482              0               0               0                   0.0   \n",
       "1023258             0               0               0                 230.0   \n",
       "469027              0               0               0                   0.0   \n",
       "1471663             0               0               0                   0.0   \n",
       "1965662             0               0               0                   0.0   \n",
       "1877039             0               0               0                   0.0   \n",
       "614227          29520               1              60                   0.0   \n",
       "458639              0               0               0                   0.0   \n",
       "210977              0               0               0                   0.0   \n",
       "\n",
       "         Label  Attack  \n",
       "692549       0  Benign  \n",
       "368482       0  Benign  \n",
       "1023258      0  Benign  \n",
       "469027       0  Benign  \n",
       "1471663      0  Benign  \n",
       "1965662      0  Benign  \n",
       "1877039      0  Benign  \n",
       "614227       0  Benign  \n",
       "458639       0  Benign  \n",
       "210977       0  Benign  \n",
       "\n",
       "[10 rows x 45 columns]"
      ]
     },
     "execution_count": 7,
     "metadata": {},
     "output_type": "execute_result"
    }
   ],
   "source": [
    "data_df.head(n=10)"
   ]
  },
  {
   "cell_type": "code",
   "execution_count": 8,
   "metadata": {
    "collapsed": false,
    "jupyter": {
     "outputs_hidden": false
    },
    "pycharm": {
     "name": "#%%\n"
    }
   },
   "outputs": [
    {
     "data": {
      "text/html": [
       "<div>\n",
       "<style scoped>\n",
       "    .dataframe tbody tr th:only-of-type {\n",
       "        vertical-align: middle;\n",
       "    }\n",
       "\n",
       "    .dataframe tbody tr th {\n",
       "        vertical-align: top;\n",
       "    }\n",
       "\n",
       "    .dataframe thead th {\n",
       "        text-align: right;\n",
       "    }\n",
       "</style>\n",
       "<table border=\"1\" class=\"dataframe\">\n",
       "  <thead>\n",
       "    <tr style=\"text-align: right;\">\n",
       "      <th></th>\n",
       "      <th>L4_SRC_PORT</th>\n",
       "      <th>L4_DST_PORT</th>\n",
       "      <th>PROTOCOL</th>\n",
       "      <th>L7_PROTO</th>\n",
       "      <th>IN_BYTES</th>\n",
       "      <th>IN_PKTS</th>\n",
       "      <th>OUT_BYTES</th>\n",
       "      <th>OUT_PKTS</th>\n",
       "      <th>TCP_FLAGS</th>\n",
       "      <th>CLIENT_TCP_FLAGS</th>\n",
       "      <th>...</th>\n",
       "      <th>NUM_PKTS_1024_TO_1514_BYTES</th>\n",
       "      <th>TCP_WIN_MAX_IN</th>\n",
       "      <th>TCP_WIN_MAX_OUT</th>\n",
       "      <th>ICMP_TYPE</th>\n",
       "      <th>ICMP_IPV4_TYPE</th>\n",
       "      <th>DNS_QUERY_ID</th>\n",
       "      <th>DNS_QUERY_TYPE</th>\n",
       "      <th>DNS_TTL_ANSWER</th>\n",
       "      <th>FTP_COMMAND_RET_CODE</th>\n",
       "      <th>Label</th>\n",
       "    </tr>\n",
       "  </thead>\n",
       "  <tbody>\n",
       "    <tr>\n",
       "      <th>count</th>\n",
       "      <td>239028.000000</td>\n",
       "      <td>239028.000000</td>\n",
       "      <td>239028.000000</td>\n",
       "      <td>239028.000000</td>\n",
       "      <td>2.390280e+05</td>\n",
       "      <td>239028.000000</td>\n",
       "      <td>2.390280e+05</td>\n",
       "      <td>239028.000000</td>\n",
       "      <td>239028.000000</td>\n",
       "      <td>239028.000000</td>\n",
       "      <td>...</td>\n",
       "      <td>239028.000000</td>\n",
       "      <td>239028.000000</td>\n",
       "      <td>239028.000000</td>\n",
       "      <td>239028.000000</td>\n",
       "      <td>239028.000000</td>\n",
       "      <td>239028.000000</td>\n",
       "      <td>239028.000000</td>\n",
       "      <td>2.390280e+05</td>\n",
       "      <td>239028.000000</td>\n",
       "      <td>239028.000000</td>\n",
       "    </tr>\n",
       "    <tr>\n",
       "      <th>mean</th>\n",
       "      <td>32534.105942</td>\n",
       "      <td>11428.754171</td>\n",
       "      <td>9.132746</td>\n",
       "      <td>3.055564</td>\n",
       "      <td>4.583706e+03</td>\n",
       "      <td>36.054613</td>\n",
       "      <td>3.545659e+04</td>\n",
       "      <td>45.839140</td>\n",
       "      <td>19.886382</td>\n",
       "      <td>19.599783</td>\n",
       "      <td>...</td>\n",
       "      <td>23.924034</td>\n",
       "      <td>17380.676653</td>\n",
       "      <td>12210.285824</td>\n",
       "      <td>18948.047902</td>\n",
       "      <td>74.015463</td>\n",
       "      <td>4934.894757</td>\n",
       "      <td>3.071828</td>\n",
       "      <td>2.221272e+02</td>\n",
       "      <td>37.635252</td>\n",
       "      <td>0.039443</td>\n",
       "    </tr>\n",
       "    <tr>\n",
       "      <th>std</th>\n",
       "      <td>19151.429121</td>\n",
       "      <td>18536.033188</td>\n",
       "      <td>10.861832</td>\n",
       "      <td>13.646111</td>\n",
       "      <td>4.928108e+04</td>\n",
       "      <td>70.672990</td>\n",
       "      <td>1.587277e+05</td>\n",
       "      <td>118.758632</td>\n",
       "      <td>11.145271</td>\n",
       "      <td>11.062557</td>\n",
       "      <td>...</td>\n",
       "      <td>108.076837</td>\n",
       "      <td>16946.277698</td>\n",
       "      <td>10979.271544</td>\n",
       "      <td>20391.355505</td>\n",
       "      <td>79.653476</td>\n",
       "      <td>13742.874956</td>\n",
       "      <td>136.257867</td>\n",
       "      <td>2.848730e+04</td>\n",
       "      <td>84.378915</td>\n",
       "      <td>0.194647</td>\n",
       "    </tr>\n",
       "    <tr>\n",
       "      <th>min</th>\n",
       "      <td>0.000000</td>\n",
       "      <td>0.000000</td>\n",
       "      <td>0.000000</td>\n",
       "      <td>0.000000</td>\n",
       "      <td>1.000000e+00</td>\n",
       "      <td>1.000000</td>\n",
       "      <td>0.000000e+00</td>\n",
       "      <td>0.000000</td>\n",
       "      <td>0.000000</td>\n",
       "      <td>0.000000</td>\n",
       "      <td>...</td>\n",
       "      <td>0.000000</td>\n",
       "      <td>0.000000</td>\n",
       "      <td>0.000000</td>\n",
       "      <td>0.000000</td>\n",
       "      <td>0.000000</td>\n",
       "      <td>0.000000</td>\n",
       "      <td>0.000000</td>\n",
       "      <td>0.000000e+00</td>\n",
       "      <td>0.000000</td>\n",
       "      <td>0.000000</td>\n",
       "    </tr>\n",
       "    <tr>\n",
       "      <th>25%</th>\n",
       "      <td>15774.000000</td>\n",
       "      <td>25.000000</td>\n",
       "      <td>6.000000</td>\n",
       "      <td>0.000000</td>\n",
       "      <td>4.810000e+02</td>\n",
       "      <td>4.000000</td>\n",
       "      <td>3.120000e+02</td>\n",
       "      <td>4.000000</td>\n",
       "      <td>19.000000</td>\n",
       "      <td>19.000000</td>\n",
       "      <td>...</td>\n",
       "      <td>0.000000</td>\n",
       "      <td>0.000000</td>\n",
       "      <td>5792.000000</td>\n",
       "      <td>0.000000</td>\n",
       "      <td>0.000000</td>\n",
       "      <td>0.000000</td>\n",
       "      <td>0.000000</td>\n",
       "      <td>0.000000e+00</td>\n",
       "      <td>0.000000</td>\n",
       "      <td>0.000000</td>\n",
       "    </tr>\n",
       "    <tr>\n",
       "      <th>50%</th>\n",
       "      <td>32663.000000</td>\n",
       "      <td>80.000000</td>\n",
       "      <td>6.000000</td>\n",
       "      <td>0.000000</td>\n",
       "      <td>1.684000e+03</td>\n",
       "      <td>18.000000</td>\n",
       "      <td>2.456000e+03</td>\n",
       "      <td>18.000000</td>\n",
       "      <td>27.000000</td>\n",
       "      <td>27.000000</td>\n",
       "      <td>...</td>\n",
       "      <td>0.000000</td>\n",
       "      <td>14480.000000</td>\n",
       "      <td>13032.000000</td>\n",
       "      <td>11008.000000</td>\n",
       "      <td>43.000000</td>\n",
       "      <td>0.000000</td>\n",
       "      <td>0.000000</td>\n",
       "      <td>0.000000e+00</td>\n",
       "      <td>0.000000</td>\n",
       "      <td>0.000000</td>\n",
       "    </tr>\n",
       "    <tr>\n",
       "      <th>75%</th>\n",
       "      <td>49075.000000</td>\n",
       "      <td>16007.250000</td>\n",
       "      <td>6.000000</td>\n",
       "      <td>1.000000</td>\n",
       "      <td>3.302000e+03</td>\n",
       "      <td>44.000000</td>\n",
       "      <td>1.495200e+04</td>\n",
       "      <td>44.000000</td>\n",
       "      <td>27.000000</td>\n",
       "      <td>27.000000</td>\n",
       "      <td>...</td>\n",
       "      <td>12.000000</td>\n",
       "      <td>24616.000000</td>\n",
       "      <td>14480.000000</td>\n",
       "      <td>33792.000000</td>\n",
       "      <td>132.000000</td>\n",
       "      <td>0.000000</td>\n",
       "      <td>0.000000</td>\n",
       "      <td>0.000000e+00</td>\n",
       "      <td>0.000000</td>\n",
       "      <td>0.000000</td>\n",
       "    </tr>\n",
       "    <tr>\n",
       "      <th>max</th>\n",
       "      <td>65535.000000</td>\n",
       "      <td>65535.000000</td>\n",
       "      <td>255.000000</td>\n",
       "      <td>248.000000</td>\n",
       "      <td>1.145526e+07</td>\n",
       "      <td>8630.000000</td>\n",
       "      <td>1.465675e+07</td>\n",
       "      <td>11024.000000</td>\n",
       "      <td>31.000000</td>\n",
       "      <td>31.000000</td>\n",
       "      <td>...</td>\n",
       "      <td>9500.000000</td>\n",
       "      <td>65457.000000</td>\n",
       "      <td>65417.000000</td>\n",
       "      <td>65317.000000</td>\n",
       "      <td>255.000000</td>\n",
       "      <td>65535.000000</td>\n",
       "      <td>32769.000000</td>\n",
       "      <td>1.272501e+07</td>\n",
       "      <td>350.000000</td>\n",
       "      <td>1.000000</td>\n",
       "    </tr>\n",
       "  </tbody>\n",
       "</table>\n",
       "<p>8 rows × 42 columns</p>\n",
       "</div>"
      ],
      "text/plain": [
       "         L4_SRC_PORT    L4_DST_PORT       PROTOCOL       L7_PROTO  \\\n",
       "count  239028.000000  239028.000000  239028.000000  239028.000000   \n",
       "mean    32534.105942   11428.754171       9.132746       3.055564   \n",
       "std     19151.429121   18536.033188      10.861832      13.646111   \n",
       "min         0.000000       0.000000       0.000000       0.000000   \n",
       "25%     15774.000000      25.000000       6.000000       0.000000   \n",
       "50%     32663.000000      80.000000       6.000000       0.000000   \n",
       "75%     49075.000000   16007.250000       6.000000       1.000000   \n",
       "max     65535.000000   65535.000000     255.000000     248.000000   \n",
       "\n",
       "           IN_BYTES        IN_PKTS     OUT_BYTES       OUT_PKTS  \\\n",
       "count  2.390280e+05  239028.000000  2.390280e+05  239028.000000   \n",
       "mean   4.583706e+03      36.054613  3.545659e+04      45.839140   \n",
       "std    4.928108e+04      70.672990  1.587277e+05     118.758632   \n",
       "min    1.000000e+00       1.000000  0.000000e+00       0.000000   \n",
       "25%    4.810000e+02       4.000000  3.120000e+02       4.000000   \n",
       "50%    1.684000e+03      18.000000  2.456000e+03      18.000000   \n",
       "75%    3.302000e+03      44.000000  1.495200e+04      44.000000   \n",
       "max    1.145526e+07    8630.000000  1.465675e+07   11024.000000   \n",
       "\n",
       "           TCP_FLAGS  CLIENT_TCP_FLAGS  ...  NUM_PKTS_1024_TO_1514_BYTES  \\\n",
       "count  239028.000000     239028.000000  ...                239028.000000   \n",
       "mean       19.886382         19.599783  ...                    23.924034   \n",
       "std        11.145271         11.062557  ...                   108.076837   \n",
       "min         0.000000          0.000000  ...                     0.000000   \n",
       "25%        19.000000         19.000000  ...                     0.000000   \n",
       "50%        27.000000         27.000000  ...                     0.000000   \n",
       "75%        27.000000         27.000000  ...                    12.000000   \n",
       "max        31.000000         31.000000  ...                  9500.000000   \n",
       "\n",
       "       TCP_WIN_MAX_IN  TCP_WIN_MAX_OUT      ICMP_TYPE  ICMP_IPV4_TYPE  \\\n",
       "count   239028.000000    239028.000000  239028.000000   239028.000000   \n",
       "mean     17380.676653     12210.285824   18948.047902       74.015463   \n",
       "std      16946.277698     10979.271544   20391.355505       79.653476   \n",
       "min          0.000000         0.000000       0.000000        0.000000   \n",
       "25%          0.000000      5792.000000       0.000000        0.000000   \n",
       "50%      14480.000000     13032.000000   11008.000000       43.000000   \n",
       "75%      24616.000000     14480.000000   33792.000000      132.000000   \n",
       "max      65457.000000     65417.000000   65317.000000      255.000000   \n",
       "\n",
       "        DNS_QUERY_ID  DNS_QUERY_TYPE  DNS_TTL_ANSWER  FTP_COMMAND_RET_CODE  \\\n",
       "count  239028.000000   239028.000000    2.390280e+05         239028.000000   \n",
       "mean     4934.894757        3.071828    2.221272e+02             37.635252   \n",
       "std     13742.874956      136.257867    2.848730e+04             84.378915   \n",
       "min         0.000000        0.000000    0.000000e+00              0.000000   \n",
       "25%         0.000000        0.000000    0.000000e+00              0.000000   \n",
       "50%         0.000000        0.000000    0.000000e+00              0.000000   \n",
       "75%         0.000000        0.000000    0.000000e+00              0.000000   \n",
       "max     65535.000000    32769.000000    1.272501e+07            350.000000   \n",
       "\n",
       "               Label  \n",
       "count  239028.000000  \n",
       "mean        0.039443  \n",
       "std         0.194647  \n",
       "min         0.000000  \n",
       "25%         0.000000  \n",
       "50%         0.000000  \n",
       "75%         0.000000  \n",
       "max         1.000000  \n",
       "\n",
       "[8 rows x 42 columns]"
      ]
     },
     "execution_count": 8,
     "metadata": {},
     "output_type": "execute_result"
    }
   ],
   "source": [
    "data_df.describe()"
   ]
  },
  {
   "cell_type": "markdown",
   "metadata": {
    "collapsed": false,
    "jupyter": {
     "outputs_hidden": false
    },
    "pycharm": {
     "name": "#%% md\n"
    }
   },
   "source": [
    "## Query with Dataframes"
   ]
  },
  {
   "cell_type": "markdown",
   "metadata": {
    "collapsed": false,
    "jupyter": {
     "outputs_hidden": false
    },
    "pycharm": {
     "name": "#%% md\n"
    }
   },
   "source": [
    "## 1. Number of flows OUT_BYTES !=0"
   ]
  },
  {
   "cell_type": "code",
   "execution_count": 9,
   "metadata": {
    "collapsed": false,
    "jupyter": {
     "outputs_hidden": false
    },
    "pycharm": {
     "name": "#%%\n"
    }
   },
   "outputs": [
    {
     "name": "stdout",
     "output_type": "stream",
     "text": [
      "Size of original dataframe 239028\n",
      "Number of flow with OUT_BYTES !=0 : 233706\n"
     ]
    }
   ],
   "source": [
    "print(\"Size of original dataframe\", len(data_df))\n",
    "\n",
    "data_df_with_outbytes = data_df.query(\"OUT_BYTES != 0\")\n",
    "print(\"Number of flow with OUT_BYTES !=0 :\", len(data_df_with_outbytes))"
   ]
  },
  {
   "cell_type": "markdown",
   "metadata": {
    "collapsed": false,
    "jupyter": {
     "outputs_hidden": false
    },
    "pycharm": {
     "name": "#%% md\n"
    }
   },
   "source": [
    "# 2.  Statistcal Analysis of the dataset"
   ]
  },
  {
   "cell_type": "markdown",
   "metadata": {
    "collapsed": false,
    "jupyter": {
     "outputs_hidden": false
    },
    "pycharm": {
     "name": "#%% md\n"
    }
   },
   "source": [
    "## 2.1.  Distribution of sources and destination adresses\n",
    "-------------------------\n",
    "Note that 75% of source IP appear less than 6 times and 75% of destination IP appear less than 9 times."
   ]
  },
  {
   "cell_type": "code",
   "execution_count": 10,
   "metadata": {
    "collapsed": false,
    "jupyter": {
     "outputs_hidden": false
    },
    "pycharm": {
     "name": "#%%\n"
    }
   },
   "outputs": [
    {
     "name": "stdout",
     "output_type": "stream",
     "text": [
      "Number of distinct source IP : 37\n",
      "['59.166.0.4' '59.166.0.8' '59.166.0.3' '59.166.0.6' '59.166.0.2'\n",
      " '59.166.0.5' '59.166.0.0' '175.45.176.3' '59.166.0.7' '59.166.0.9'\n",
      " '175.45.176.0' '59.166.0.1' '175.45.176.2' '175.45.176.1'\n",
      " '149.171.126.15' '149.171.126.18' '149.171.126.9' '149.171.126.5'\n",
      " '149.171.126.13' '149.171.126.14' '149.171.126.10' '149.171.126.12'\n",
      " '149.171.126.0' '149.171.126.6' '149.171.126.3' '149.171.126.7'\n",
      " '149.171.126.1' '149.171.126.4' '149.171.126.2' '10.40.182.1'\n",
      " '149.171.126.8' '149.171.126.19' '10.40.85.10' '10.40.85.1'\n",
      " '149.171.126.17' '149.171.126.16' '149.171.126.11']\n"
     ]
    }
   ],
   "source": [
    "print(\"Number of distinct source IP :\", data_df[\"IPV4_SRC_ADDR\"].nunique())\n",
    "#Those values are \n",
    "print(data_df[\"IPV4_SRC_ADDR\"].unique())"
   ]
  },
  {
   "cell_type": "code",
   "execution_count": 11,
   "metadata": {
    "collapsed": false,
    "jupyter": {
     "outputs_hidden": false
    },
    "pycharm": {
     "name": "#%%\n"
    }
   },
   "outputs": [
    {
     "name": "stdout",
     "output_type": "stream",
     "text": [
      "Number of distinct destination IP :  37\n",
      "['149.171.126.0' '149.171.126.3' '149.171.126.1' '149.171.126.8'\n",
      " '149.171.126.5' '149.171.126.4' '149.171.126.6' '149.171.126.9'\n",
      " '149.171.126.12' '149.171.126.2' '149.171.126.13' '149.171.126.7'\n",
      " '149.171.126.11' '149.171.126.16' '149.171.126.19' '175.45.176.3'\n",
      " '149.171.126.15' '149.171.126.10' '149.171.126.18' '149.171.126.14'\n",
      " '149.171.126.17' '175.45.176.1' '59.166.0.0' '59.166.0.4' '175.45.176.0'\n",
      " '59.166.0.3' '59.166.0.9' '59.166.0.2' '59.166.0.1' '59.166.0.5'\n",
      " '59.166.0.7' '224.0.0.5' '59.166.0.6' '59.166.0.8' '175.45.176.2'\n",
      " '10.40.198.10' '192.168.241.50']\n"
     ]
    }
   ],
   "source": [
    "print(\"Number of distinct destination IP : \", data_df[\"IPV4_DST_ADDR\"].nunique())\n",
    "#Those values are \n",
    "print(data_df[\"IPV4_DST_ADDR\"].unique())"
   ]
  },
  {
   "cell_type": "markdown",
   "metadata": {
    "collapsed": false,
    "jupyter": {
     "outputs_hidden": false
    },
    "pycharm": {
     "name": "#%% md\n"
    }
   },
   "source": [
    "### Sources addresses"
   ]
  },
  {
   "cell_type": "code",
   "execution_count": 12,
   "metadata": {
    "collapsed": false,
    "jupyter": {
     "outputs_hidden": false
    },
    "pycharm": {
     "name": "#%%\n"
    }
   },
   "outputs": [
    {
     "data": {
      "text/html": [
       "<div>\n",
       "<style scoped>\n",
       "    .dataframe tbody tr th:only-of-type {\n",
       "        vertical-align: middle;\n",
       "    }\n",
       "\n",
       "    .dataframe tbody tr th {\n",
       "        vertical-align: top;\n",
       "    }\n",
       "\n",
       "    .dataframe thead th {\n",
       "        text-align: right;\n",
       "    }\n",
       "</style>\n",
       "<table border=\"1\" class=\"dataframe\">\n",
       "  <thead>\n",
       "    <tr style=\"text-align: right;\">\n",
       "      <th></th>\n",
       "      <th>IPV4_SRC_ADDR</th>\n",
       "      <th>L4_SRC_PORT</th>\n",
       "      <th>IPV4_DST_ADDR</th>\n",
       "      <th>L4_DST_PORT</th>\n",
       "      <th>PROTOCOL</th>\n",
       "      <th>L7_PROTO</th>\n",
       "      <th>IN_BYTES</th>\n",
       "      <th>IN_PKTS</th>\n",
       "      <th>OUT_BYTES</th>\n",
       "      <th>OUT_PKTS</th>\n",
       "      <th>...</th>\n",
       "      <th>TCP_WIN_MAX_IN</th>\n",
       "      <th>TCP_WIN_MAX_OUT</th>\n",
       "      <th>ICMP_TYPE</th>\n",
       "      <th>ICMP_IPV4_TYPE</th>\n",
       "      <th>DNS_QUERY_ID</th>\n",
       "      <th>DNS_QUERY_TYPE</th>\n",
       "      <th>DNS_TTL_ANSWER</th>\n",
       "      <th>FTP_COMMAND_RET_CODE</th>\n",
       "      <th>Label</th>\n",
       "      <th>Attack</th>\n",
       "    </tr>\n",
       "  </thead>\n",
       "  <tbody>\n",
       "    <tr>\n",
       "      <th>692549</th>\n",
       "      <td>59.166.0.4</td>\n",
       "      <td>65344</td>\n",
       "      <td>149.171.126.0</td>\n",
       "      <td>21</td>\n",
       "      <td>6</td>\n",
       "      <td>1.0</td>\n",
       "      <td>999</td>\n",
       "      <td>19</td>\n",
       "      <td>1190</td>\n",
       "      <td>17</td>\n",
       "      <td>...</td>\n",
       "      <td>15928</td>\n",
       "      <td>14480</td>\n",
       "      <td>60160</td>\n",
       "      <td>235</td>\n",
       "      <td>0</td>\n",
       "      <td>0</td>\n",
       "      <td>0</td>\n",
       "      <td>229.0</td>\n",
       "      <td>0</td>\n",
       "      <td>Benign</td>\n",
       "    </tr>\n",
       "    <tr>\n",
       "      <th>368482</th>\n",
       "      <td>59.166.0.8</td>\n",
       "      <td>58932</td>\n",
       "      <td>149.171.126.3</td>\n",
       "      <td>6881</td>\n",
       "      <td>6</td>\n",
       "      <td>0.0</td>\n",
       "      <td>2856</td>\n",
       "      <td>40</td>\n",
       "      <td>64718</td>\n",
       "      <td>66</td>\n",
       "      <td>...</td>\n",
       "      <td>41992</td>\n",
       "      <td>13032</td>\n",
       "      <td>33792</td>\n",
       "      <td>132</td>\n",
       "      <td>0</td>\n",
       "      <td>0</td>\n",
       "      <td>0</td>\n",
       "      <td>0.0</td>\n",
       "      <td>0</td>\n",
       "      <td>Benign</td>\n",
       "    </tr>\n",
       "    <tr>\n",
       "      <th>1023258</th>\n",
       "      <td>59.166.0.3</td>\n",
       "      <td>22636</td>\n",
       "      <td>149.171.126.1</td>\n",
       "      <td>21</td>\n",
       "      <td>6</td>\n",
       "      <td>1.0</td>\n",
       "      <td>261</td>\n",
       "      <td>5</td>\n",
       "      <td>469</td>\n",
       "      <td>7</td>\n",
       "      <td>...</td>\n",
       "      <td>8688</td>\n",
       "      <td>8688</td>\n",
       "      <td>18944</td>\n",
       "      <td>74</td>\n",
       "      <td>0</td>\n",
       "      <td>0</td>\n",
       "      <td>0</td>\n",
       "      <td>230.0</td>\n",
       "      <td>0</td>\n",
       "      <td>Benign</td>\n",
       "    </tr>\n",
       "    <tr>\n",
       "      <th>469027</th>\n",
       "      <td>59.166.0.8</td>\n",
       "      <td>9737</td>\n",
       "      <td>149.171.126.8</td>\n",
       "      <td>45325</td>\n",
       "      <td>6</td>\n",
       "      <td>0.0</td>\n",
       "      <td>5174</td>\n",
       "      <td>90</td>\n",
       "      <td>85108</td>\n",
       "      <td>92</td>\n",
       "      <td>...</td>\n",
       "      <td>60816</td>\n",
       "      <td>14480</td>\n",
       "      <td>11008</td>\n",
       "      <td>43</td>\n",
       "      <td>0</td>\n",
       "      <td>0</td>\n",
       "      <td>0</td>\n",
       "      <td>0.0</td>\n",
       "      <td>0</td>\n",
       "      <td>Benign</td>\n",
       "    </tr>\n",
       "    <tr>\n",
       "      <th>1471663</th>\n",
       "      <td>59.166.0.3</td>\n",
       "      <td>42775</td>\n",
       "      <td>149.171.126.5</td>\n",
       "      <td>13582</td>\n",
       "      <td>6</td>\n",
       "      <td>0.0</td>\n",
       "      <td>424</td>\n",
       "      <td>8</td>\n",
       "      <td>8824</td>\n",
       "      <td>12</td>\n",
       "      <td>...</td>\n",
       "      <td>10136</td>\n",
       "      <td>5792</td>\n",
       "      <td>0</td>\n",
       "      <td>0</td>\n",
       "      <td>0</td>\n",
       "      <td>0</td>\n",
       "      <td>0</td>\n",
       "      <td>0.0</td>\n",
       "      <td>0</td>\n",
       "      <td>Benign</td>\n",
       "    </tr>\n",
       "    <tr>\n",
       "      <th>...</th>\n",
       "      <td>...</td>\n",
       "      <td>...</td>\n",
       "      <td>...</td>\n",
       "      <td>...</td>\n",
       "      <td>...</td>\n",
       "      <td>...</td>\n",
       "      <td>...</td>\n",
       "      <td>...</td>\n",
       "      <td>...</td>\n",
       "      <td>...</td>\n",
       "      <td>...</td>\n",
       "      <td>...</td>\n",
       "      <td>...</td>\n",
       "      <td>...</td>\n",
       "      <td>...</td>\n",
       "      <td>...</td>\n",
       "      <td>...</td>\n",
       "      <td>...</td>\n",
       "      <td>...</td>\n",
       "      <td>...</td>\n",
       "      <td>...</td>\n",
       "    </tr>\n",
       "    <tr>\n",
       "      <th>1360373</th>\n",
       "      <td>59.166.0.4</td>\n",
       "      <td>39698</td>\n",
       "      <td>149.171.126.0</td>\n",
       "      <td>5190</td>\n",
       "      <td>6</td>\n",
       "      <td>0.0</td>\n",
       "      <td>1036</td>\n",
       "      <td>12</td>\n",
       "      <td>2262</td>\n",
       "      <td>12</td>\n",
       "      <td>...</td>\n",
       "      <td>10136</td>\n",
       "      <td>10136</td>\n",
       "      <td>26112</td>\n",
       "      <td>102</td>\n",
       "      <td>0</td>\n",
       "      <td>0</td>\n",
       "      <td>0</td>\n",
       "      <td>0.0</td>\n",
       "      <td>0</td>\n",
       "      <td>Benign</td>\n",
       "    </tr>\n",
       "    <tr>\n",
       "      <th>1832203</th>\n",
       "      <td>175.45.176.0</td>\n",
       "      <td>2844</td>\n",
       "      <td>149.171.126.15</td>\n",
       "      <td>520</td>\n",
       "      <td>17</td>\n",
       "      <td>0.0</td>\n",
       "      <td>104</td>\n",
       "      <td>2</td>\n",
       "      <td>0</td>\n",
       "      <td>0</td>\n",
       "      <td>...</td>\n",
       "      <td>0</td>\n",
       "      <td>0</td>\n",
       "      <td>0</td>\n",
       "      <td>0</td>\n",
       "      <td>0</td>\n",
       "      <td>0</td>\n",
       "      <td>0</td>\n",
       "      <td>0.0</td>\n",
       "      <td>1</td>\n",
       "      <td>Fuzzers</td>\n",
       "    </tr>\n",
       "    <tr>\n",
       "      <th>1812553</th>\n",
       "      <td>59.166.0.2</td>\n",
       "      <td>17497</td>\n",
       "      <td>149.171.126.8</td>\n",
       "      <td>21</td>\n",
       "      <td>6</td>\n",
       "      <td>1.0</td>\n",
       "      <td>1493</td>\n",
       "      <td>27</td>\n",
       "      <td>2056</td>\n",
       "      <td>29</td>\n",
       "      <td>...</td>\n",
       "      <td>17376</td>\n",
       "      <td>15928</td>\n",
       "      <td>31232</td>\n",
       "      <td>122</td>\n",
       "      <td>0</td>\n",
       "      <td>0</td>\n",
       "      <td>0</td>\n",
       "      <td>125.0</td>\n",
       "      <td>0</td>\n",
       "      <td>Benign</td>\n",
       "    </tr>\n",
       "    <tr>\n",
       "      <th>1147680</th>\n",
       "      <td>59.166.0.2</td>\n",
       "      <td>54950</td>\n",
       "      <td>149.171.126.4</td>\n",
       "      <td>52785</td>\n",
       "      <td>6</td>\n",
       "      <td>0.0</td>\n",
       "      <td>320</td>\n",
       "      <td>6</td>\n",
       "      <td>1846</td>\n",
       "      <td>8</td>\n",
       "      <td>...</td>\n",
       "      <td>7240</td>\n",
       "      <td>5792</td>\n",
       "      <td>0</td>\n",
       "      <td>0</td>\n",
       "      <td>0</td>\n",
       "      <td>0</td>\n",
       "      <td>0</td>\n",
       "      <td>0.0</td>\n",
       "      <td>0</td>\n",
       "      <td>Benign</td>\n",
       "    </tr>\n",
       "    <tr>\n",
       "      <th>1694708</th>\n",
       "      <td>59.166.0.0</td>\n",
       "      <td>16619</td>\n",
       "      <td>149.171.126.6</td>\n",
       "      <td>35521</td>\n",
       "      <td>17</td>\n",
       "      <td>0.0</td>\n",
       "      <td>536</td>\n",
       "      <td>4</td>\n",
       "      <td>304</td>\n",
       "      <td>4</td>\n",
       "      <td>...</td>\n",
       "      <td>0</td>\n",
       "      <td>0</td>\n",
       "      <td>0</td>\n",
       "      <td>0</td>\n",
       "      <td>0</td>\n",
       "      <td>0</td>\n",
       "      <td>0</td>\n",
       "      <td>0.0</td>\n",
       "      <td>0</td>\n",
       "      <td>Benign</td>\n",
       "    </tr>\n",
       "  </tbody>\n",
       "</table>\n",
       "<p>239028 rows × 45 columns</p>\n",
       "</div>"
      ],
      "text/plain": [
       "        IPV4_SRC_ADDR  L4_SRC_PORT   IPV4_DST_ADDR  L4_DST_PORT  PROTOCOL  \\\n",
       "692549     59.166.0.4        65344   149.171.126.0           21         6   \n",
       "368482     59.166.0.8        58932   149.171.126.3         6881         6   \n",
       "1023258    59.166.0.3        22636   149.171.126.1           21         6   \n",
       "469027     59.166.0.8         9737   149.171.126.8        45325         6   \n",
       "1471663    59.166.0.3        42775   149.171.126.5        13582         6   \n",
       "...               ...          ...             ...          ...       ...   \n",
       "1360373    59.166.0.4        39698   149.171.126.0         5190         6   \n",
       "1832203  175.45.176.0         2844  149.171.126.15          520        17   \n",
       "1812553    59.166.0.2        17497   149.171.126.8           21         6   \n",
       "1147680    59.166.0.2        54950   149.171.126.4        52785         6   \n",
       "1694708    59.166.0.0        16619   149.171.126.6        35521        17   \n",
       "\n",
       "         L7_PROTO  IN_BYTES  IN_PKTS  OUT_BYTES  OUT_PKTS  ...  \\\n",
       "692549        1.0       999       19       1190        17  ...   \n",
       "368482        0.0      2856       40      64718        66  ...   \n",
       "1023258       1.0       261        5        469         7  ...   \n",
       "469027        0.0      5174       90      85108        92  ...   \n",
       "1471663       0.0       424        8       8824        12  ...   \n",
       "...           ...       ...      ...        ...       ...  ...   \n",
       "1360373       0.0      1036       12       2262        12  ...   \n",
       "1832203       0.0       104        2          0         0  ...   \n",
       "1812553       1.0      1493       27       2056        29  ...   \n",
       "1147680       0.0       320        6       1846         8  ...   \n",
       "1694708       0.0       536        4        304         4  ...   \n",
       "\n",
       "         TCP_WIN_MAX_IN  TCP_WIN_MAX_OUT  ICMP_TYPE  ICMP_IPV4_TYPE  \\\n",
       "692549            15928            14480      60160             235   \n",
       "368482            41992            13032      33792             132   \n",
       "1023258            8688             8688      18944              74   \n",
       "469027            60816            14480      11008              43   \n",
       "1471663           10136             5792          0               0   \n",
       "...                 ...              ...        ...             ...   \n",
       "1360373           10136            10136      26112             102   \n",
       "1832203               0                0          0               0   \n",
       "1812553           17376            15928      31232             122   \n",
       "1147680            7240             5792          0               0   \n",
       "1694708               0                0          0               0   \n",
       "\n",
       "         DNS_QUERY_ID  DNS_QUERY_TYPE  DNS_TTL_ANSWER  FTP_COMMAND_RET_CODE  \\\n",
       "692549              0               0               0                 229.0   \n",
       "368482              0               0               0                   0.0   \n",
       "1023258             0               0               0                 230.0   \n",
       "469027              0               0               0                   0.0   \n",
       "1471663             0               0               0                   0.0   \n",
       "...               ...             ...             ...                   ...   \n",
       "1360373             0               0               0                   0.0   \n",
       "1832203             0               0               0                   0.0   \n",
       "1812553             0               0               0                 125.0   \n",
       "1147680             0               0               0                   0.0   \n",
       "1694708             0               0               0                   0.0   \n",
       "\n",
       "         Label   Attack  \n",
       "692549       0   Benign  \n",
       "368482       0   Benign  \n",
       "1023258      0   Benign  \n",
       "469027       0   Benign  \n",
       "1471663      0   Benign  \n",
       "...        ...      ...  \n",
       "1360373      0   Benign  \n",
       "1832203      1  Fuzzers  \n",
       "1812553      0   Benign  \n",
       "1147680      0   Benign  \n",
       "1694708      0   Benign  \n",
       "\n",
       "[239028 rows x 45 columns]"
      ]
     },
     "execution_count": 12,
     "metadata": {},
     "output_type": "execute_result"
    }
   ],
   "source": [
    "data_df #equivalent to : display(data_df)"
   ]
  },
  {
   "cell_type": "code",
   "execution_count": null,
   "metadata": {
    "collapsed": false,
    "jupyter": {
     "outputs_hidden": false
    },
    "pycharm": {
     "name": "#%%\n"
    }
   },
   "outputs": [],
   "source": []
  },
  {
   "cell_type": "code",
   "execution_count": 13,
   "metadata": {
    "collapsed": false,
    "jupyter": {
     "outputs_hidden": false
    },
    "pycharm": {
     "name": "#%%\n"
    }
   },
   "outputs": [
    {
     "data": {
      "text/plain": [
       "count       37.000000\n",
       "mean      6460.216216\n",
       "std       9992.731139\n",
       "min          4.000000\n",
       "25%         48.000000\n",
       "50%        181.000000\n",
       "75%      21962.000000\n",
       "max      23106.000000\n",
       "Name: IPV4_SRC_ADDR, dtype: float64"
      ]
     },
     "metadata": {},
     "output_type": "display_data"
    },
    {
     "data": {
      "image/png": "[encoded data removed]",
      "text/plain": [
       "<Figure size 720x360 with 1 Axes>"
      ]
     },
     "metadata": {
      "needs_background": "light"
     },
     "output_type": "display_data"
    }
   ],
   "source": [
    "display(data_df['IPV4_SRC_ADDR'].value_counts().describe())\n",
    "\n",
    "# plt.figure(figsize=(20,5))\n",
    "# plt.xticks(rotation=45)  # Rotate tick labels by 45 degrees\n",
    "# plt.show()\n",
    "\n",
    "plt.figure(figsize=(10,5))\n",
    "plt.plot(data_df['IPV4_SRC_ADDR'].value_counts().sort_values())\n",
    "# Remove xticks\n",
    "plt.xticks([])\n",
    "plt.show()"
   ]
  },
  {
   "cell_type": "markdown",
   "metadata": {
    "collapsed": false,
    "jupyter": {
     "outputs_hidden": false
    },
    "pycharm": {
     "name": "#%% md\n"
    }
   },
   "source": [
    "### Destination addresses"
   ]
  },
  {
   "cell_type": "code",
   "execution_count": 14,
   "metadata": {
    "collapsed": false,
    "jupyter": {
     "outputs_hidden": false
    },
    "pycharm": {
     "name": "#%%\n"
    }
   },
   "outputs": [
    {
     "data": {
      "text/plain": [
       "count       37.000000\n",
       "mean      6460.216216\n",
       "std       9966.771025\n",
       "min          5.000000\n",
       "25%         57.000000\n",
       "50%        968.000000\n",
       "75%      21817.000000\n",
       "max      23164.000000\n",
       "Name: IPV4_DST_ADDR, dtype: float64"
      ]
     },
     "metadata": {},
     "output_type": "display_data"
    },
    {
     "data": {
      "image/png": "[encoded data removed]",
      "text/plain": [
       "<Figure size 1440x360 with 1 Axes>"
      ]
     },
     "metadata": {
      "needs_background": "light"
     },
     "output_type": "display_data"
    },
    {
     "data": {
      "image/png": "[encoded data removed]",
      "text/plain": [
       "<Figure size 720x360 with 1 Axes>"
      ]
     },
     "metadata": {
      "needs_background": "light"
     },
     "output_type": "display_data"
    }
   ],
   "source": [
    "display(data_df['IPV4_DST_ADDR'].value_counts().describe())\n",
    "\n",
    "#Bar plot\n",
    "plt.figure(figsize=(20,5))\n",
    "data_df['IPV4_DST_ADDR'].value_counts().plot(kind=\"bar\")\n",
    "plt.xticks(rotation=45)  # Rotate tick labels by 45 degrees\n",
    "plt.show()\n",
    "\n",
    "#Pie plot (unappropriated)\n",
    "# plt.figure(figsize=(5,5))\n",
    "# data_df['IPV4_DST_ADDR'].value_counts().plot(kind=\"pie\")\n",
    "# plt.xticks(rotation=45)  # Rotate tick labels by 45 degrees\n",
    "# plt.show()\n",
    "\n",
    "\n",
    "plt.figure(figsize=(10,5))\n",
    "plt.plot(data_df['IPV4_DST_ADDR'].value_counts().sort_values())\n",
    "# Remove xticks\n",
    "plt.xticks([])\n",
    "plt.show()"
   ]
  },
  {
   "cell_type": "markdown",
   "metadata": {
    "collapsed": false,
    "jupyter": {
     "outputs_hidden": false
    },
    "pycharm": {
     "name": "#%% md\n"
    }
   },
   "source": [
    "## 2.2. Protocols\n",
    "--------------------\n",
    "The protocol MAPPING is:\n",
    "6 : TCP\n",
    "17 : UDP\n"
   ]
  },
  {
   "cell_type": "code",
   "execution_count": 15,
   "metadata": {
    "collapsed": false,
    "jupyter": {
     "outputs_hidden": false
    },
    "pycharm": {
     "name": "#%%\n"
    }
   },
   "outputs": [
    {
     "data": {
      "text/html": [
       "<div>\n",
       "<style scoped>\n",
       "    .dataframe tbody tr th:only-of-type {\n",
       "        vertical-align: middle;\n",
       "    }\n",
       "\n",
       "    .dataframe tbody tr th {\n",
       "        vertical-align: top;\n",
       "    }\n",
       "\n",
       "    .dataframe thead th {\n",
       "        text-align: right;\n",
       "    }\n",
       "</style>\n",
       "<table border=\"1\" class=\"dataframe\">\n",
       "  <thead>\n",
       "    <tr style=\"text-align: right;\">\n",
       "      <th></th>\n",
       "      <th>PROTOCOL</th>\n",
       "      <th>COUNT</th>\n",
       "    </tr>\n",
       "  </thead>\n",
       "  <tbody>\n",
       "    <tr>\n",
       "      <th>0</th>\n",
       "      <td>6</td>\n",
       "      <td>182949</td>\n",
       "    </tr>\n",
       "    <tr>\n",
       "      <th>1</th>\n",
       "      <td>17</td>\n",
       "      <td>54601</td>\n",
       "    </tr>\n",
       "    <tr>\n",
       "      <th>2</th>\n",
       "      <td>1</td>\n",
       "      <td>183</td>\n",
       "    </tr>\n",
       "    <tr>\n",
       "      <th>3</th>\n",
       "      <td>89</td>\n",
       "      <td>140</td>\n",
       "    </tr>\n",
       "    <tr>\n",
       "      <th>4</th>\n",
       "      <td>2</td>\n",
       "      <td>13</td>\n",
       "    </tr>\n",
       "    <tr>\n",
       "      <th>...</th>\n",
       "      <td>...</td>\n",
       "      <td>...</td>\n",
       "    </tr>\n",
       "    <tr>\n",
       "      <th>247</th>\n",
       "      <td>86</td>\n",
       "      <td>1</td>\n",
       "    </tr>\n",
       "    <tr>\n",
       "      <th>248</th>\n",
       "      <td>229</td>\n",
       "      <td>1</td>\n",
       "    </tr>\n",
       "    <tr>\n",
       "      <th>249</th>\n",
       "      <td>175</td>\n",
       "      <td>1</td>\n",
       "    </tr>\n",
       "    <tr>\n",
       "      <th>250</th>\n",
       "      <td>97</td>\n",
       "      <td>1</td>\n",
       "    </tr>\n",
       "    <tr>\n",
       "      <th>251</th>\n",
       "      <td>57</td>\n",
       "      <td>1</td>\n",
       "    </tr>\n",
       "  </tbody>\n",
       "</table>\n",
       "<p>252 rows × 2 columns</p>\n",
       "</div>"
      ],
      "text/plain": [
       "     PROTOCOL   COUNT\n",
       "0           6  182949\n",
       "1          17   54601\n",
       "2           1     183\n",
       "3          89     140\n",
       "4           2      13\n",
       "..        ...     ...\n",
       "247        86       1\n",
       "248       229       1\n",
       "249       175       1\n",
       "250        97       1\n",
       "251        57       1\n",
       "\n",
       "[252 rows x 2 columns]"
      ]
     },
     "metadata": {},
     "output_type": "display_data"
    },
    {
     "data": {
      "text/plain": [
       "<AxesSubplot:ylabel='PROTOCOL'>"
      ]
     },
     "execution_count": 15,
     "metadata": {},
     "output_type": "execute_result"
    },
    {
     "data": {
      "image/png": "[encoded data removed]",
      "text/plain": [
       "<Figure size 720x720 with 1 Axes>"
      ]
     },
     "metadata": {},
     "output_type": "display_data"
    }
   ],
   "source": [
    "# Count of each protocol (as df)\n",
    "df_proto = data_df['PROTOCOL'].value_counts().reset_index()\n",
    "df_proto.columns = ['PROTOCOL', 'COUNT']\n",
    "display(df_proto)\n",
    "\n",
    "plt.figure(figsize=(10,10))\n",
    "df_proto = data_df[['PROTOCOL']].copy()\n",
    "df_proto.loc[~(df_proto.PROTOCOL.isin([6,17])),'PROTOCOL']=-1\n",
    "df_proto[\"PROTOCOL\"].value_counts().plot.pie(autopct='%1.1f%%')\n"
   ]
  },
  {
   "cell_type": "markdown",
   "metadata": {
    "collapsed": false,
    "jupyter": {
     "outputs_hidden": false
    },
    "pycharm": {
     "name": "#%% md\n"
    }
   },
   "source": [
    "## 2.3. Distribution of labels\n",
    "-------------------------\n",
    "We can see that there are 96.4% of normal traffic and 3.6% of malicious traffic."
   ]
  },
  {
   "cell_type": "markdown",
   "metadata": {
    "collapsed": false,
    "jupyter": {
     "outputs_hidden": false
    },
    "pycharm": {
     "name": "#%% md\n"
    }
   },
   "source": [
    "### Binary labels"
   ]
  },
  {
   "cell_type": "code",
   "execution_count": 16,
   "metadata": {
    "collapsed": false,
    "jupyter": {
     "outputs_hidden": false
    },
    "pycharm": {
     "name": "#%%\n"
    }
   },
   "outputs": [
    {
     "data": {
      "text/plain": [
       "0    229600\n",
       "1      9428\n",
       "Name: Label, dtype: int64"
      ]
     },
     "execution_count": 16,
     "metadata": {},
     "output_type": "execute_result"
    }
   ],
   "source": [
    "data_df['Label'].value_counts()"
   ]
  },
  {
   "cell_type": "code",
   "execution_count": 17,
   "metadata": {
    "collapsed": false,
    "jupyter": {
     "outputs_hidden": false
    },
    "pycharm": {
     "name": "#%%\n"
    }
   },
   "outputs": [
    {
     "data": {
      "text/plain": [
       "<AxesSubplot:ylabel='Label'>"
      ]
     },
     "execution_count": 17,
     "metadata": {},
     "output_type": "execute_result"
    },
    {
     "data": {
      "image/png": "[encoded data removed]",
      "text/plain": [
       "<Figure size 1440x504 with 2 Axes>"
      ]
     },
     "metadata": {
      "needs_background": "light"
     },
     "output_type": "display_data"
    }
   ],
   "source": [
    "# Left right subplot (left bar right pie)\n",
    "fig, ax = plt.subplots(1, 2, figsize=(20, 7))\n",
    "data_df['Label'].value_counts().plot(kind='bar', ax=ax[0])\n",
    "data_df['Label'].value_counts().plot.pie(autopct='%1.1f%%', ax=ax[1])"
   ]
  },
  {
   "cell_type": "markdown",
   "metadata": {
    "collapsed": false,
    "jupyter": {
     "outputs_hidden": false
    },
    "pycharm": {
     "name": "#%% md\n"
    }
   },
   "source": [
    "### Multiclass labels\n",
    "-------------------------\n",
    "# Types d'attaques\n",
    "\n",
    "1. **Benign**\n",
    "   - **Benin** : Cela représente un trafic réseau normal et sans danger, sans aucune activité malveillante.\n",
    "\n",
    "2. **Fuzzers**\n",
    "   - **Fuzzers** : Technique d'attaque qui envoie des entrées aléatoires ou malformées à un programme ou à un service pour détecter des failles ou des comportements anormaux.\n",
    "\n",
    "3. **Generic**\n",
    "   - **Générique** : Catégorie d'attaques qui ne rentre pas dans une classe spécifique ou qui affecte plusieurs types de systèmes, comme des attaques universelles contre les systèmes de cryptographie.\n",
    "\n",
    "4. **Reconnaissance**\n",
    "   - **Reconnaissance** : Activité visant à recueillir des informations sur une cible avant de lancer une attaque plus ciblée. Cela inclut des actions telles que l'analyse de port, la détection de services ou la cartographie du réseau.\n",
    "\n",
    "5. **Exploits**\n",
    "   - **Exploits** : Attaques qui tirent parti de vulnérabilités logicielles ou matérielles pour compromettre un système, comme les failles de sécurité ou les faiblesses dans les protocoles.\n",
    "\n",
    "6. **Analysis**\n",
    "   - **Analyse** : Catégorie d'attaques qui implique la collecte et l'examen des données du réseau pour obtenir des informations sensibles, par exemple par l'analyse du trafic pour intercepter des mots de passe ou des informations privées.\n",
    "\n",
    "7. **Backdoor**\n",
    "   - **Porte dérobée** : Méthode par laquelle un attaquant contourne les mesures de sécurité pour accéder à un système ou un réseau de manière furtive. Les backdoors sont souvent laissées par des logiciels malveillants ou lors de l'installation de logiciels compromis.\n",
    "\n",
    "8. **DoS**\n",
    "   - **Déni de service (DoS)** : Attaque visant à rendre un service ou un réseau indisponible en le saturant de requêtes ou en exploitant des failles de saturation des ressources.\n",
    "\n",
    "9. **Shellcode**\n",
    "   - **Shellcode** : Séquence de code utilisée pour prendre le contrôle d'un programme ou d'un système lors de l'exploitation d'une vulnérabilité. Elle est souvent utilisée pour obtenir un accès à distance ou ouvrir une session de commande (shell).\n",
    "\n",
    "10. **Worms**\n",
    "   - **Vers** : Logiciels malveillants qui se propagent automatiquement à travers les réseaux en exploitant des vulnérabilités. Contrairement aux virus, les vers n'ont pas besoin d'un fichier hôte pour se propager.\n"
   ]
  },
  {
   "cell_type": "code",
   "execution_count": 18,
   "metadata": {
    "collapsed": false,
    "jupyter": {
     "outputs_hidden": false
    },
    "pycharm": {
     "name": "#%%\n"
    }
   },
   "outputs": [
    {
     "data": {
      "text/plain": [
       "Exploits          3193\n",
       "Fuzzers           2196\n",
       "Generic           1596\n",
       "Reconnaissance    1308\n",
       "DoS                500\n",
       "Analysis           253\n",
       "Backdoor           243\n",
       "Shellcode          117\n",
       "Worms               22\n",
       "Name: Attack, dtype: int64"
      ]
     },
     "metadata": {},
     "output_type": "display_data"
    },
    {
     "data": {
      "text/plain": [
       "<AxesSubplot:ylabel='Attack'>"
      ]
     },
     "execution_count": 18,
     "metadata": {},
     "output_type": "execute_result"
    },
    {
     "data": {
      "image/png": "[encoded data removed]",
      "text/plain": [
       "<Figure size 1440x504 with 2 Axes>"
      ]
     },
     "metadata": {
      "needs_background": "light"
     },
     "output_type": "display_data"
    }
   ],
   "source": [
    "fig, ax  = plt.subplots(1, 2, figsize=(20, 7))\n",
    "\n",
    "# Subfigure 1 for Bar Plot\n",
    "display(data_df.query('Label != 0')['Attack'].value_counts())\n",
    "data_df.query('Label != 0')['Attack'].value_counts().plot(kind='bar', ax=ax[0], color='skyblue')\n",
    "data_df.query('Label != 0')['Attack'].value_counts().plot.pie(autopct='%1.1f%%', ax=ax[1])\n"
   ]
  },
  {
   "cell_type": "markdown",
   "metadata": {
    "collapsed": false,
    "jupyter": {
     "outputs_hidden": false
    },
    "pycharm": {
     "name": "#%% md\n"
    }
   },
   "source": []
  },
  {
   "cell_type": "markdown",
   "metadata": {
    "collapsed": false,
    "jupyter": {
     "outputs_hidden": false
    },
    "pycharm": {
     "name": "#%% md\n"
    }
   },
   "source": [
    "## 2.4. Flow duration"
   ]
  },
  {
   "cell_type": "code",
   "execution_count": 19,
   "metadata": {
    "collapsed": false,
    "jupyter": {
     "outputs_hidden": false
    },
    "pycharm": {
     "name": "#%%\n"
    }
   },
   "outputs": [
    {
     "data": {
      "text/plain": [
       "count    2.390280e+05\n",
       "mean     2.606672e+05\n",
       "std      1.025480e+06\n",
       "min      0.000000e+00\n",
       "25%      0.000000e+00\n",
       "50%      0.000000e+00\n",
       "75%      0.000000e+00\n",
       "max      4.294965e+06\n",
       "Name: FLOW_DURATION_MILLISECONDS, dtype: float64"
      ]
     },
     "metadata": {},
     "output_type": "display_data"
    },
    {
     "data": {
      "text/plain": [
       "<seaborn.axisgrid.FacetGrid at 0x1edabeefe20>"
      ]
     },
     "execution_count": 19,
     "metadata": {},
     "output_type": "execute_result"
    },
    {
     "data": {
      "text/plain": [
       "<Figure size 720x360 with 0 Axes>"
      ]
     },
     "metadata": {},
     "output_type": "display_data"
    },
    {
     "data": {
      "image/png": "[encoded data removed]",
      "text/plain": [
       "<Figure size 360x360 with 1 Axes>"
      ]
     },
     "metadata": {
      "needs_background": "light"
     },
     "output_type": "display_data"
    }
   ],
   "source": [
    "display(data_df['FLOW_DURATION_MILLISECONDS'].describe())\n",
    "\n",
    "plt.figure(figsize=(10,5))\n",
    "sns.displot(data_df['FLOW_DURATION_MILLISECONDS'])"
   ]
  },
  {
   "cell_type": "code",
   "execution_count": 20,
   "metadata": {
    "collapsed": false,
    "jupyter": {
     "outputs_hidden": false
    },
    "pycharm": {
     "name": "#%%\n"
    }
   },
   "outputs": [
    {
     "name": "stdout",
     "output_type": "stream",
     "text": [
      "224521\n"
     ]
    }
   ],
   "source": [
    "data_df_short_flow = data_df.query(\"FLOW_DURATION_MILLISECONDS < 4e6\").copy()\n",
    "print(len(data_df_short_flow))"
   ]
  },
  {
   "cell_type": "code",
   "execution_count": 21,
   "metadata": {
    "collapsed": false,
    "jupyter": {
     "outputs_hidden": false
    },
    "pycharm": {
     "name": "#%%\n"
    }
   },
   "outputs": [
    {
     "data": {
      "text/plain": [
       "array([0], dtype=int64)"
      ]
     },
     "execution_count": 21,
     "metadata": {},
     "output_type": "execute_result"
    }
   ],
   "source": [
    "data_df_short_flow['FLOW_DURATION_MILLISECONDS'].unique()"
   ]
  },
  {
   "cell_type": "code",
   "execution_count": 22,
   "metadata": {
    "collapsed": false,
    "jupyter": {
     "outputs_hidden": false
    },
    "pycharm": {
     "name": "#%%\n"
    }
   },
   "outputs": [
    {
     "name": "stdout",
     "output_type": "stream",
     "text": [
      "14507\n"
     ]
    }
   ],
   "source": [
    "data_df_long_flow = data_df.query(\"FLOW_DURATION_MILLISECONDS > 4e6\").copy()\n",
    "print(len(data_df_long_flow))"
   ]
  },
  {
   "cell_type": "code",
   "execution_count": 23,
   "metadata": {
    "collapsed": false,
    "jupyter": {
     "outputs_hidden": false
    },
    "pycharm": {
     "name": "#%%\n"
    }
   },
   "outputs": [
    {
     "data": {
      "text/plain": [
       "array([4294920, 4294951, 4294936, 4294952, 4294764, 4294905, 4294889,\n",
       "       4294873, 4294935, 4294545, 4294842, 4294962, 4294826, 4294904,\n",
       "       4294964, 4294921, 4294858, 4294956, 4294467, 4294638, 4294912,\n",
       "       4294947, 4294624, 4294686, 4294482, 4294748, 4294874, 4294685,\n",
       "       4294749, 4294857, 4294388, 4294717, 4294949, 4294888, 4294702,\n",
       "       4294561, 4294671, 4294513, 4294965, 4294654, 4294373, 4294963,\n",
       "       4294389, 4294827, 4294655, 4294732, 4294623, 4294530, 4294701,\n",
       "       4294795, 4294780, 4294514, 4294342, 4294560, 4294607, 4294670,\n",
       "       4294959, 4294779, 4294811, 4294958, 4294718, 4294420, 4294529,\n",
       "       4294796, 4294280, 4294576, 4294733, 4294592, 4294639, 4294546,\n",
       "       4294886, 4294932, 4294327, 4294810, 4294608], dtype=int64)"
      ]
     },
     "execution_count": 23,
     "metadata": {},
     "output_type": "execute_result"
    }
   ],
   "source": [
    "data_df_long_flow['FLOW_DURATION_MILLISECONDS'].unique()"
   ]
  },
  {
   "cell_type": "code",
   "execution_count": null,
   "metadata": {
    "collapsed": false,
    "jupyter": {
     "outputs_hidden": false
    },
    "pycharm": {
     "name": "#%%\n"
    }
   },
   "outputs": [],
   "source": []
  },
  {
   "cell_type": "markdown",
   "metadata": {
    "collapsed": false,
    "jupyter": {
     "outputs_hidden": false
    },
    "pycharm": {
     "name": "#%% md\n"
    }
   },
   "source": [
    "## 2.5. Incomming ws Outgoing traffic"
   ]
  },
  {
   "cell_type": "code",
   "execution_count": 24,
   "metadata": {
    "collapsed": false,
    "jupyter": {
     "outputs_hidden": false
    },
    "pycharm": {
     "name": "#%%\n"
    }
   },
   "outputs": [
    {
     "data": {
      "image/png": "[encoded data removed]",
      "text/plain": [
       "<Figure size 576x432 with 1 Axes>"
      ]
     },
     "metadata": {
      "needs_background": "light"
     },
     "output_type": "display_data"
    }
   ],
   "source": [
    "plt.figure(figsize=(8, 6))\n",
    "sns.scatterplot(x='IN_BYTES', y='OUT_BYTES', hue='Label', data=data_df)\n",
    "plt.title('Incoming vs Outgoing Bytes')\n",
    "plt.xlabel('Incoming Bytes')\n",
    "plt.ylabel('Outgoing Bytes')\n",
    "plt.show()"
   ]
  },
  {
   "cell_type": "markdown",
   "metadata": {
    "collapsed": false,
    "jupyter": {
     "outputs_hidden": false
    },
    "pycharm": {
     "name": "#%% md\n"
    }
   },
   "source": [
    "# 2.6 Packet size distribution"
   ]
  },
  {
   "cell_type": "markdown",
   "metadata": {
    "collapsed": false,
    "jupyter": {
     "outputs_hidden": false
    },
    "pycharm": {
     "name": "#%% md\n"
    }
   },
   "source": []
  },
  {
   "cell_type": "code",
   "execution_count": 25,
   "metadata": {
    "collapsed": false,
    "jupyter": {
     "outputs_hidden": false
    },
    "pycharm": {
     "name": "#%%\n"
    }
   },
   "outputs": [
    {
     "data": {
      "image/png": "[encoded data removed]",
      "text/plain": [
       "<Figure size 576x432 with 1 Axes>"
      ]
     },
     "metadata": {
      "needs_background": "light"
     },
     "output_type": "display_data"
    }
   ],
   "source": [
    "plt.figure(figsize=(8, 6))\n",
    "sns.boxplot(data=data_df[['MIN_IP_PKT_LEN', 'MAX_IP_PKT_LEN']])\n",
    "plt.title('Packet Size Distribution (Min & Max)')\n",
    "plt.xlabel('Packet Size Type')\n",
    "plt.ylabel('Size (Bytes)')\n",
    "plt.show()"
   ]
  },
  {
   "cell_type": "code",
   "execution_count": 26,
   "metadata": {
    "collapsed": false,
    "jupyter": {
     "outputs_hidden": false
    },
    "pycharm": {
     "name": "#%%\n"
    }
   },
   "outputs": [
    {
     "data": {
      "image/png": "[encoded data removed]",
      "text/plain": [
       "<Figure size 1440x432 with 1 Axes>"
      ]
     },
     "metadata": {
      "needs_background": "light"
     },
     "output_type": "display_data"
    }
   ],
   "source": [
    "# Distribution of max_ip_pkt_len per Attack\n",
    "plt.figure(figsize=(20, 6))\n",
    "sns.boxplot(data=data_df, x='Attack', y='MAX_IP_PKT_LEN', hue='Attack')\n",
    "plt.title('Max Packet Size Distribution per Attack')\n",
    "plt.xlabel('Attack Type')\n",
    "plt.ylabel('Size (Bytes)')\n",
    "plt.xticks(rotation=45)\n",
    "plt.show()"
   ]
  },
  {
   "cell_type": "markdown",
   "metadata": {
    "collapsed": false,
    "jupyter": {
     "outputs_hidden": false
    },
    "pycharm": {
     "name": "#%% md\n"
    }
   },
   "source": [
    "## 2.7. Source ports"
   ]
  },
  {
   "cell_type": "markdown",
   "metadata": {
    "collapsed": false,
    "jupyter": {
     "outputs_hidden": false
    },
    "pycharm": {
     "name": "#%% md\n"
    }
   },
   "source": [
    "### 2.7.1 Source ports distribution"
   ]
  },
  {
   "cell_type": "code",
   "execution_count": 27,
   "metadata": {
    "collapsed": false,
    "jupyter": {
     "outputs_hidden": false
    },
    "pycharm": {
     "name": "#%%\n"
    }
   },
   "outputs": [
    {
     "name": "stdout",
     "output_type": "stream",
     "text": [
      "4\n",
      "4\n"
     ]
    }
   ],
   "source": [
    "def square(x):\n",
    "    return x*x\n",
    "\n",
    "square_2 = lambda x : x*x\n",
    "\n",
    "x= 2 \n",
    "print(square(x))\n",
    "print(square_2(x))\n"
   ]
  },
  {
   "cell_type": "code",
   "execution_count": 28,
   "metadata": {
    "pycharm": {
     "name": "#%%\n"
    }
   },
   "outputs": [
    {
     "name": "stdout",
     "output_type": "stream",
     "text": [
      "224521\n"
     ]
    }
   ],
   "source": [
    "data_df_short_flow = data_df.query(\"FLOW_DURATION_MILLISECONDS < 4e6\").copy()\n",
    "print(len(data_df_short_flow))"
   ]
  },
  {
   "cell_type": "code",
   "execution_count": 29,
   "metadata": {
    "pycharm": {
     "name": "#%%\n"
    }
   },
   "outputs": [
    {
     "data": {
      "text/plain": [
       "array([0], dtype=int64)"
      ]
     },
     "execution_count": 29,
     "metadata": {},
     "output_type": "execute_result"
    }
   ],
   "source": [
    "data_df_short_flow['FLOW_DURATION_MILLISECONDS'].unique()"
   ]
  },
  {
   "cell_type": "code",
   "execution_count": 30,
   "metadata": {
    "pycharm": {
     "name": "#%%\n"
    }
   },
   "outputs": [
    {
     "name": "stdout",
     "output_type": "stream",
     "text": [
      "14507\n"
     ]
    }
   ],
   "source": [
    "data_df_long_flow = data_df.query(\"FLOW_DURATION_MILLISECONDS > 4e6\").copy()\n",
    "print(len(data_df_long_flow))"
   ]
  },
  {
   "cell_type": "code",
   "execution_count": 31,
   "metadata": {
    "pycharm": {
     "name": "#%%\n"
    }
   },
   "outputs": [
    {
     "data": {
      "text/plain": [
       "array([4294920, 4294951, 4294936, 4294952, 4294764, 4294905, 4294889,\n",
       "       4294873, 4294935, 4294545, 4294842, 4294962, 4294826, 4294904,\n",
       "       4294964, 4294921, 4294858, 4294956, 4294467, 4294638, 4294912,\n",
       "       4294947, 4294624, 4294686, 4294482, 4294748, 4294874, 4294685,\n",
       "       4294749, 4294857, 4294388, 4294717, 4294949, 4294888, 4294702,\n",
       "       4294561, 4294671, 4294513, 4294965, 4294654, 4294373, 4294963,\n",
       "       4294389, 4294827, 4294655, 4294732, 4294623, 4294530, 4294701,\n",
       "       4294795, 4294780, 4294514, 4294342, 4294560, 4294607, 4294670,\n",
       "       4294959, 4294779, 4294811, 4294958, 4294718, 4294420, 4294529,\n",
       "       4294796, 4294280, 4294576, 4294733, 4294592, 4294639, 4294546,\n",
       "       4294886, 4294932, 4294327, 4294810, 4294608], dtype=int64)"
      ]
     },
     "execution_count": 31,
     "metadata": {},
     "output_type": "execute_result"
    }
   ],
   "source": [
    "data_df_long_flow['FLOW_DURATION_MILLISECONDS'].unique()"
   ]
  },
  {
   "cell_type": "code",
   "execution_count": null,
   "metadata": {
    "collapsed": false,
    "jupyter": {
     "outputs_hidden": false
    },
    "pycharm": {
     "name": "#%%\n"
    }
   },
   "outputs": [],
   "source": []
  },
  {
   "cell_type": "markdown",
   "metadata": {
    "collapsed": false,
    "jupyter": {
     "outputs_hidden": false
    },
    "pycharm": {
     "name": "#%% md\n"
    }
   },
   "source": [
    "## 2.5. Incomming ws Outgoing traffic"
   ]
  },
  {
   "cell_type": "code",
   "execution_count": 32,
   "metadata": {
    "collapsed": false,
    "jupyter": {
     "outputs_hidden": false
    },
    "pycharm": {
     "name": "#%%\n"
    }
   },
   "outputs": [
    {
     "data": {
      "image/png": "[encoded data removed]",
      "text/plain": [
       "<Figure size 576x432 with 1 Axes>"
      ]
     },
     "metadata": {
      "needs_background": "light"
     },
     "output_type": "display_data"
    }
   ],
   "source": [
    "plt.figure(figsize=(8, 6))\n",
    "sns.scatterplot(x='IN_BYTES', y='OUT_BYTES', hue='Label', data=data_df)\n",
    "plt.title('Incoming vs Outgoing Bytes')\n",
    "plt.xlabel('Incoming Bytes')\n",
    "plt.ylabel('Outgoing Bytes')\n",
    "plt.show()"
   ]
  },
  {
   "cell_type": "markdown",
   "metadata": {
    "collapsed": false,
    "jupyter": {
     "outputs_hidden": false
    },
    "pycharm": {
     "name": "#%% md\n"
    }
   },
   "source": [
    "# 2.6 Packet size distribution"
   ]
  },
  {
   "cell_type": "markdown",
   "metadata": {
    "collapsed": false,
    "jupyter": {
     "outputs_hidden": false
    },
    "pycharm": {
     "name": "#%% md\n"
    }
   },
   "source": []
  },
  {
   "cell_type": "code",
   "execution_count": 33,
   "metadata": {
    "collapsed": false,
    "jupyter": {
     "outputs_hidden": false
    },
    "pycharm": {
     "name": "#%%\n"
    }
   },
   "outputs": [
    {
     "data": {
      "image/png": "[encoded data removed]",
      "text/plain": [
       "<Figure size 576x432 with 1 Axes>"
      ]
     },
     "metadata": {
      "needs_background": "light"
     },
     "output_type": "display_data"
    }
   ],
   "source": [
    "plt.figure(figsize=(8, 6))\n",
    "sns.boxplot(data=data_df[['MIN_IP_PKT_LEN', 'MAX_IP_PKT_LEN']])\n",
    "plt.title('Packet Size Distribution (Min & Max)')\n",
    "plt.xlabel('Packet Size Type')\n",
    "plt.ylabel('Size (Bytes)')\n",
    "plt.show()"
   ]
  },
  {
   "cell_type": "code",
   "execution_count": 34,
   "metadata": {
    "collapsed": false,
    "jupyter": {
     "outputs_hidden": false
    },
    "pycharm": {
     "name": "#%%\n"
    }
   },
   "outputs": [
    {
     "data": {
      "image/png": "[encoded data removed]",
      "text/plain": [
       "<Figure size 1440x432 with 1 Axes>"
      ]
     },
     "metadata": {
      "needs_background": "light"
     },
     "output_type": "display_data"
    }
   ],
   "source": [
    "# Distribution of max_ip_pkt_len per Attack\n",
    "plt.figure(figsize=(20, 6))\n",
    "sns.boxplot(data=data_df, x='Attack', y='MAX_IP_PKT_LEN', hue='Attack')\n",
    "plt.title('Max Packet Size Distribution per Attack')\n",
    "plt.xlabel('Attack Type')\n",
    "plt.ylabel('Size (Bytes)')\n",
    "plt.xticks(rotation=45)\n",
    "plt.show()"
   ]
  },
  {
   "cell_type": "markdown",
   "metadata": {
    "collapsed": false,
    "jupyter": {
     "outputs_hidden": false
    },
    "pycharm": {
     "name": "#%% md\n"
    }
   },
   "source": [
    "## 2.7. Source ports"
   ]
  },
  {
   "cell_type": "markdown",
   "metadata": {
    "collapsed": false,
    "jupyter": {
     "outputs_hidden": false
    },
    "pycharm": {
     "name": "#%% md\n"
    }
   },
   "source": [
    "### 2.7.1 Source ports distribution"
   ]
  },
  {
   "cell_type": "code",
   "execution_count": null,
   "outputs": [],
   "source": [],
   "metadata": {
    "collapsed": false,
    "pycharm": {
     "name": "#%%\n"
    }
   }
  },
  {
   "cell_type": "code",
   "execution_count": null,
   "outputs": [],
   "source": [
    "plt.figure(figsize=(10,5))\n",
    "sns.histplot(data_df['L4_SRC_PORT'])\n",
    "\n",
    "# Standard ports : 0-1024\n",
    "print(\"Number of distinct standard ports: \", data_df.query('L4_SRC_PORT <= 1024')['L4_SRC_PORT'].nunique())\n",
    "print(\"Number of distinct regular ports: \", data_df.query('L4_SRC_PORT > 1024 and L4_SRC_PORT <= 49151')['L4_SRC_PORT'].nunique())\n",
    "print(\"Number of distinct dynamic ports: \", data_df.query('L4_SRC_PORT > 49151')['L4_SRC_PORT'].nunique())\n",
    "\n",
    "#Bar plot of the 3 line above(stanard, regular and dynamic ports)\n",
    "plt.figure(figsize=(10,5))\n",
    "data_df['L4_SRC_PORT'].apply(lambda x: 'Standard' if x <= 1024 else ('Regular' if x <= 49151 else 'Dynamic')).value_counts().plot(kind='bar')\n",
    "plt.title('Source Ports Distribution')\n",
    "plt.xlabel('Port Type')\n",
    "plt.show()\n",
    "\n",
    "\n",
    "#Plot as many pie charts as the number of attacks (Top 5 Source Ports per Attack and other in the same pie chart)\n",
    "fig, ax = plt.subplots(2, 5, figsize=(30, 10))\n",
    "for i, attack in enumerate(data_df['Attack'].unique()):\n",
    "    data_df.query('Attack == @attack')['L4_SRC_PORT'].value_counts().plot.pie(autopct='%1.1f%%', ax=ax[i//5, i%5])\n",
    "    ax[i//5, i%5].set_title(attack)\n",
    "fig.suptitle('Source Ports per Attack')"
   ],
   "metadata": {
    "collapsed": false,
    "pycharm": {
     "name": "#%%\n"
    }
   }
  },
  {
   "cell_type": "markdown",
   "source": [
    "### 2.7.2 Destination ports distribution"
   ],
   "metadata": {
    "collapsed": false,
    "pycharm": {
     "name": "#%% md\n"
    }
   }
  },
  {
   "cell_type": "code",
   "execution_count": null,
   "outputs": [],
   "source": [
    "plt.figure(figsize=(10,5))\n",
    "sns.histplot(data_df['L4_DST_PORT'])\n",
    "plt.show()\n",
    "# Standard ports : 0-1024\n",
    "print(\"Number of distinct standard ports: \", data_df.query('L4_DST_PORT <= 1024')['L4_DST_PORT'].nunique())\n",
    "print(\"Number of distinct regular ports: \", data_df.query('L4_DST_PORT > 1024 and L4_DST_PORT <= 49151')['L4_DST_PORT'].nunique())\n",
    "print(\"Number of distinct dynamic ports: \", data_df.query('L4_DST_PORT > 49151')['L4_DST_PORT'].nunique())\n",
    "#Bar plot of the 3 line above(stanard, regular and dynamic ports)\n",
    "\n",
    "plt.figure(figsize=(10,5))\n",
    "data_df['L4_DST_PORT'].apply(lambda x: 'Standard' if x <= 1024 else ('Regular' if x <= 49151 else 'Dynamic')).value_counts().plot(kind='bar')\n",
    "plt.title('Destination Ports Distribution')\n",
    "plt.xlabel('Port Type')\n",
    "plt.show()\n",
    "\n",
    "#Plot as many pie charts as the number of attacks (Top 5 Destination Ports per Attack and other in the same pie chart)\n",
    "for i, attack in enumerate(data_df['Attack'].unique()):\n",
    "    if attack ==\"Benign\":continue\n",
    "    plt.figure(figsize=(10,10))\n",
    "    print(f'\\n\\n{attack}')\n",
    "    data_df.query('Attack == @attack')['L4_DST_PORT'].value_counts().plot.pie(autopct='%1.1f%%')\n",
    "    plt.show()\n",
    "    \n",
    "fig.suptitle('Destination Ports per Attack')"
   ],
   "metadata": {
    "collapsed": false,
    "pycharm": {
     "name": "#%%\n"
    }
   }
  },
  {
   "cell_type": "markdown",
   "source": [
    "## 2.8. Analysis of subnets ipv4"
   ],
   "metadata": {
    "collapsed": false,
    "pycharm": {
     "name": "#%% md\n"
    }
   }
  },
  {
   "cell_type": "code",
   "execution_count": null,
   "outputs": [],
   "source": [
    "data_df_ip = data_df.copy()"
   ],
   "metadata": {
    "collapsed": false,
    "pycharm": {
     "name": "#%%\n"
    }
   }
  },
  {
   "cell_type": "markdown",
   "source": [
    "# Three first octets of the source and destination IP addresses"
   ],
   "metadata": {
    "collapsed": false,
    "pycharm": {
     "name": "#%% md\n"
    }
   }
  },
  {
   "cell_type": "code",
   "execution_count": null,
   "outputs": [],
   "source": [
    "data_df_ip['IPV4_SRC_ADDR_OCTET1_3']= data_df_ip['IPV4_SRC_ADDR'].apply(lambda x: '.'.join(x.split('.')[:3]))\n",
    "data_df_ip['IPV4_DST_ADDR_OCTET1_3']= data_df_ip['IPV4_DST_ADDR'].apply(lambda x: '.'.join(x.split('.')[:3]))\n",
    "\n",
    "#Statistical description of the source IP addresses\n",
    "print(\"Number of distinct source networks: \", data_df_ip['IPV4_SRC_ADDR_OCTET1_3'].nunique())\n",
    "#Statistical description of the destination IP addresses\n",
    "print(\"Number of distinct destination networks \", data_df_ip['IPV4_DST_ADDR_OCTET1_3'].nunique())\n",
    "\n",
    "#The source and destination networks\n",
    "print(\"Source networks: \", data_df_ip['IPV4_SRC_ADDR_OCTET1_3'].unique())\n",
    "print(\"Destination networks: \", data_df_ip['IPV4_DST_ADDR_OCTET1_3'].unique())"
   ],
   "metadata": {
    "collapsed": false,
    "pycharm": {
     "name": "#%%\n"
    }
   }
  },
  {
   "cell_type": "code",
   "execution_count": null,
   "metadata": {
    "collapsed": false,
    "jupyter": {
     "outputs_hidden": false
    },
    "pycharm": {
     "name": "#%%\n"
    }
   },
   "outputs": [],
   "source": [
    "data_df_ip['IPV4_SRC_ADDR_OCTET4']= data_df_ip['IPV4_SRC_ADDR'].apply(lambda x: x.split('.')[-1])\n",
    "data_df_ip['IPV4_DST_ADDR_OCTET4']= data_df_ip['IPV4_DST_ADDR'].apply(lambda x: x.split('.')[-1])\n",
    "\n",
    "#Statistical description of the source IP addresses\n",
    "print(\"Number of distinct source hosts: \", data_df_ip['IPV4_SRC_ADDR_OCTET4'].nunique())\n",
    "#Statistical description of the destination IP addresses\n",
    "print(\"Number of distinct destination hosts \", data_df_ip['IPV4_DST_ADDR_OCTET4'].nunique())\n",
    "\n",
    "# The source and destination hosts\n",
    "print(\"Source hosts: \", data_df['IPV4_SRC_ADDR_OCTET4'].unique())\n",
    "print(\"Destination hosts: \", data_df['IPV4_DST_ADDR_OCTET4'].unique())"
   ]
  },
  {
   "cell_type": "markdown",
   "metadata": {
    "collapsed": false,
    "jupyter": {
     "outputs_hidden": false
    },
    "pycharm": {
     "name": "#%% md\n"
    }
   },
   "source": []
  },
  {
   "cell_type": "markdown",
   "metadata": {
    "collapsed": false,
    "jupyter": {
     "outputs_hidden": false
    },
    "pycharm": {
     "name": "#%% md\n"
    }
   },
   "source": [
    "## Analysis of  ipv4 network, host"
   ]
  },
  {
   "cell_type": "markdown",
   "metadata": {
    "collapsed": false,
    "jupyter": {
     "outputs_hidden": false
    },
    "pycharm": {
     "name": "#%% md\n"
    }
   },
   "source": [
    "### (Network Part) Three first octets of the source and destination IP addresses"
   ]
  },
  {
   "cell_type": "code",
   "execution_count": null,
   "metadata": {
    "collapsed": false,
    "jupyter": {
     "outputs_hidden": false
    },
    "pycharm": {
     "name": "#%%\n"
    }
   },
   "outputs": [],
   "source": [
    "\n",
    "data_df_ip['IPV4_SRC_ADDR_OCTET1_3']= data_df_ip['IPV4_SRC_ADDR'].apply(lambda x: '.'.join(x.split('.')[:3]))\n",
    "data_df_ip['IPV4_DST_ADDR_OCTET1_3']= data_df_ip['IPV4_DST_ADDR'].apply(lambda x: '.'.join(x.split('.')[:3]))\n",
    "\n",
    "#Statistical description of the source IP addresses\n",
    "print(\"Number of distinct source networks: \", data_df_ip['IPV4_SRC_ADDR_OCTET1_3'].nunique())\n",
    "#Statistical description of the destination IP addresses\n",
    "print(\"Number of distinct destination networks \", data_df_ip['IPV4_DST_ADDR_OCTET1_3'].nunique())\n",
    "\n",
    "#The source and destination networks\n",
    "print(\"Source networks: \", data_df_ip['IPV4_SRC_ADDR_OCTET1_3'].unique())\n",
    "print(\"Destination networks: \", data_df_ip['IPV4_DST_ADDR_OCTET1_3'].unique())"
   ]
  },
  {
   "cell_type": "markdown",
   "metadata": {
    "collapsed": false,
    "jupyter": {
     "outputs_hidden": false
    },
    "pycharm": {
     "name": "#%% md\n"
    }
   },
   "source": [
    "### Host part of the source and destination IP addresses"
   ]
  },
  {
   "cell_type": "code",
   "execution_count": null,
   "metadata": {
    "collapsed": false,
    "jupyter": {
     "outputs_hidden": false
    },
    "pycharm": {
     "name": "#%%\n"
    }
   },
   "outputs": [],
   "source": [
    "data_df_ip['IPV4_SRC_ADDR_OCTET4']= data_df_ip['IPV4_SRC_ADDR'].apply(lambda x: x.split('.')[-1])\n",
    "data_df_ip['IPV4_DST_ADDR_OCTET4']= data_df_ip['IPV4_DST_ADDR'].apply(lambda x: x.split('.')[-1])\n",
    "\n",
    "#Statistical description of the source IP addresses\n",
    "print(\"Number of distinct source hosts: \", data_df_ip['IPV4_SRC_ADDR_OCTET4'].nunique())\n",
    "#Statistical description of the destination IP addresses\n",
    "print(\"Number of distinct destination hosts \", data_df_ip['IPV4_DST_ADDR_OCTET4'].nunique())\n",
    "\n",
    "# The source and destination hosts\n",
    "print(\"Source hosts: \", data_df_ip['IPV4_SRC_ADDR_OCTET4'].unique())\n",
    "print(\"Destination hosts: \", data_df_ip['IPV4_DST_ADDR_OCTET4'].unique())"
   ]
  },
  {
   "cell_type": "markdown",
   "metadata": {
    "collapsed": false,
    "jupyter": {
     "outputs_hidden": false
    },
    "pycharm": {
     "name": "#%% md\n"
    }
   },
   "source": [
    "# 3. Correlation Analysis"
   ]
  },
  {
   "cell_type": "markdown",
   "metadata": {
    "collapsed": false,
    "jupyter": {
     "outputs_hidden": false
    },
    "pycharm": {
     "name": "#%% md\n"
    }
   },
   "source": [
    "## 3.1 Correlation matrix"
   ]
  },
  {
   "cell_type": "code",
   "execution_count": null,
   "metadata": {
    "collapsed": false,
    "jupyter": {
     "outputs_hidden": false
    },
    "pycharm": {
     "name": "#%%\n"
    }
   },
   "outputs": [],
   "source": [
    "from network_ad.config import BASE_CATEGORICAL_FEATURES\n",
    "data_df_num = data_df.drop(BASE_CATEGORICAL_FEATURES, axis=1, errors='ignore')\n",
    "plt.figure(figsize=(20, 20))\n",
    "sns.heatmap(data_df_num.corr(), annot=True, fmt='.2f', cmap='coolwarm')"
   ]
  },
  {
   "cell_type": "markdown",
   "metadata": {
    "collapsed": false,
    "jupyter": {
     "outputs_hidden": false
    },
    "pycharm": {
     "name": "#%% md\n"
    }
   },
   "source": [
    "## 3.2. Top 20 features with the highest correlation with the label (in absolute value)"
   ]
  },
  {
   "cell_type": "code",
   "execution_count": null,
   "metadata": {
    "collapsed": false,
    "jupyter": {
     "outputs_hidden": false
    },
    "pycharm": {
     "name": "#%%\n"
    }
   },
   "outputs": [],
   "source": [
    "corr_label = data_df_num.corr()['Label'].abs().sort_values(ascending=False)\n",
    "#In a colored bar plot\n",
    "plt.figure(figsize=(20, 6))\n",
    "corr_label[1:21].plot(kind='bar', color='skyblue')\n",
    "plt.title('Top 20 Features with the Highest Correlation with the Label')\n",
    "plt.ylabel('Correlation')\n"
   ]
  },
  {
   "cell_type": "markdown",
   "metadata": {
    "collapsed": false,
    "jupyter": {
     "outputs_hidden": false
    },
    "pycharm": {
     "name": "#%% md\n"
    }
   },
   "source": []
  },
  {
   "cell_type": "markdown",
   "metadata": {
    "collapsed": false,
    "jupyter": {
     "outputs_hidden": false
    },
    "pycharm": {
     "name": "#%% md\n"
    }
   },
   "source": []
  }
 ],
 "metadata": {
  "kernelspec": {
   "display_name": "Python 3 (ipykernel)",
   "language": "python",
   "name": "python3"
  },
  "language_info": {
   "codemirror_mode": {
    "name": "ipython",
    "version": 3
   },
   "file_extension": ".py",
   "mimetype": "text/x-python",
   "name": "python",
   "nbconvert_exporter": "python",
   "pygments_lexer": "ipython3",
   "version": "3.10.5"
  }
 },
 "nbformat": 4,
 "nbformat_minor": 4
}