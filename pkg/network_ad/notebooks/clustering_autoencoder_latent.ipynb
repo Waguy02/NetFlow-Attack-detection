{
 "cells": [
  {
   "cell_type": "markdown",
   "source": [
    "# Clustering Autoencoder Latent Space\n",
    "-------------------------------------\n",
    "\n",
    "In this notebook, we will use the latent space of the trained autoencoder to cluster the netflow data"
   ],
   "metadata": {
    "collapsed": false,
    "pycharm": {
     "name": "#%% md\n"
    }
   }
  },
  {
   "cell_type": "code",
   "execution_count": 1,
   "outputs": [],
   "source": [
    "import sys\n",
    "sys.path.append(\"../..\")\n",
    "import numpy as np"
   ],
   "metadata": {
    "collapsed": false,
    "pycharm": {
     "name": "#%%\n"
    }
   }
  },
  {
   "cell_type": "markdown",
   "source": [
    "# 1. Load the trained autoencoder\n",
    "-------------------------------------\n",
    "- We previously trained an autoencoder on the netflow data.\n",
    "- The checkpoint path are saved in logs/autoencoder/[VERSION]\n",
    "- We will load the weights of the trained model to run inference\n",
    "- As recall, during the inference phase, we will only use the encoder part of the autoencoder to produce the latent representation of the netflow data"
   ],
   "metadata": {
    "collapsed": false,
    "pycharm": {
     "name": "#%% md\n"
    }
   }
  },
  {
   "cell_type": "code",
   "execution_count": 10,
   "outputs": [],
   "source": [
    "CHECKPOINT_PATH = r\"F:\\Docs\\GS FORMATION\\Machine Learning - Epita\\Network Anomaly detection\\logs\\autoencoder_old\\debug2\\autoencoder-epoch=01-val_loss=0.016.ckpt\""
   ],
   "metadata": {
    "collapsed": false,
    "pycharm": {
     "name": "#%%\n"
    }
   }
  },
  {
   "cell_type": "markdown",
   "source": [
    "[https://lightning.ai/docs/pytorch/stable/common/checkpointing_basic.html](https://lightning.ai/docs/pytorch/stable/common/checkpointing_basic.html)"
   ],
   "metadata": {
    "collapsed": false,
    "pycharm": {
     "name": "#%% md\n"
    }
   }
  },
  {
   "cell_type": "code",
   "execution_count": 13,
   "outputs": [],
   "source": [
    "##########################################################\n",
    "###Write your code Here to load the trained autoencoder###\n",
    "##########################################################\n",
    "\n",
    "HIDDEN_DIM = 256\n",
    "LATENT_DIM = 8\n",
    "LEARNING_RATE = 1e-4\n",
    "NUM_WORKERS = 1\n",
    "N_EPOCHS= 2\n",
    "DROPOUT_RATE = 0\n",
    "INPUT_DIM=704\n",
    "import torch\n",
    "from network_ad.unsupervised.autoencoder_lightning import Autoencoder\n",
    "model = Autoencoder(input_dim=INPUT_DIM,\n",
    "                        hidden_dim=HIDDEN_DIM,\n",
    "                        latent_dim=LATENT_DIM,\n",
    "                        learning_rate=LEARNING_RATE,\n",
    "                        dropout_rate=DROPOUT_RATE\n",
    "                        )\n",
    "model.load_state_dict(torch.load(CHECKPOINT_PATH),strict=False)\n"
   ],
   "metadata": {
    "collapsed": false,
    "pycharm": {
     "name": "#%%\n"
    }
   }
  },
  {
   "cell_type": "markdown",
   "source": [
    "# 2. Load the netflow data\n",
    "-------------------------------------\n",
    "- We will load the netflow data to get the latent representation of the data\n",
    "- We will use the datamodule to load the data\n",
    "- But we will only use the test data"
   ],
   "metadata": {
    "collapsed": false,
    "pycharm": {
     "name": "#%% md\n"
    }
   }
  },
  {
   "cell_type": "code",
   "execution_count": 15,
   "outputs": [],
   "source": [
    "from network_ad.config import VAL_RATIO\n",
    "from network_ad.unsupervised.autoencoder_datamodule import AutoencoderDataModule\n",
    "BATCH_SIZE = 64\n",
    "data_module = AutoencoderDataModule(batch_size=BATCH_SIZE, val_ratio=VAL_RATIO)\n",
    "data_module.setup()"
   ],
   "metadata": {
    "collapsed": false,
    "pycharm": {
     "name": "#%%\n"
    }
   }
  },
  {
   "cell_type": "code",
   "execution_count": null,
   "outputs": [],
   "source": [
    "##########################################################\n",
    "###Write your code here to get print a sample ############\n",
    "##########################################################"
   ],
   "metadata": {
    "collapsed": false,
    "pycharm": {
     "name": "#%%\n"
    }
   }
  },
  {
   "cell_type": "markdown",
   "source": [
    "# 3. Inference\n",
    "-------------------------------------\n",
    "- We will use the encoder part of the autoencoder to get the latent representation of the netflow data"
   ],
   "metadata": {
    "collapsed": false,
    "pycharm": {
     "name": "#%% md\n"
    }
   }
  },
  {
   "cell_type": "code",
   "execution_count": null,
   "outputs": [],
   "source": [
    "from network_ad.unsupervised.autoencoder import Autoencoder\n",
    "###################################################################\n",
    "## Write your code here to get the latent representation##########\n",
    "## TIPS: You should write a loop to iterate over the test dataloader\n",
    "###################################################################\n"
   ],
   "metadata": {
    "collapsed": false,
    "pycharm": {
     "name": "#%%\n"
    }
   }
  },
  {
   "cell_type": "markdown",
   "source": [
    "# 4. Latent Space Visualization\n",
    "-------------------------------------\n",
    "- Make use of the plotly library to visualize the latent space\n",
    "- We will first perform PCA on the latent space to reduce the dimensionality to 3 or 2"
   ],
   "metadata": {
    "collapsed": false,
    "pycharm": {
     "name": "#%% md\n"
    }
   }
  },
  {
   "cell_type": "markdown",
   "source": [
    "## 4.1 Perform PCA\n",
    "\n",
    "- Principal component analysis (PCA) is a technique used to emphasize variation and bring out strong patterns in a dataset. It's often used to make data easy to explore and visualize.\n",
    "- We will use the PCA class from the sklearn library to perform PCA on the latent space"
   ],
   "metadata": {
    "collapsed": false,
    "pycharm": {
     "name": "#%% md\n"
    }
   }
  },
  {
   "cell_type": "code",
   "execution_count": null,
   "outputs": [],
   "source": [
    "from sklearn.decomposition import PCA"
   ],
   "metadata": {
    "collapsed": false,
    "pycharm": {
     "name": "#%%\n"
    }
   }
  },
  {
   "cell_type": "code",
   "execution_count": 8,
   "outputs": [],
   "source": [
    "##########################################################\n",
    "###Write your code here to perform PCA####################\n",
    "# Recommendation :  Use 3 principal components and create\n",
    "# a new dataframe with the columns ['PC1', 'PC2', 'PC3']\n",
    "##########################################################"
   ],
   "metadata": {
    "collapsed": false,
    "pycharm": {
     "name": "#%%\n"
    }
   }
  },
  {
   "cell_type": "markdown",
   "source": [
    "# 4.2 Visualize the latent space\n",
    "\n",
    "-------------------------------------\n",
    "- Make use of the plotly scatter plot to visualize the latent space\n",
    "[https://plotly.com/python/hover-text-and-formatting/](https://plotly.com/python/hover-text-and-formatting)"
   ],
   "metadata": {
    "collapsed": false,
    "pycharm": {
     "name": "#%% md\n"
    }
   }
  },
  {
   "cell_type": "code",
   "execution_count": 27,
   "outputs": [],
   "source": [
    "import plotly.express as px"
   ],
   "metadata": {
    "collapsed": false,
    "pycharm": {
     "name": "#%%\n"
    }
   }
  },
  {
   "cell_type": "markdown",
   "source": [
    "### 4.2.1 Load some raw data to  annotate the plot\n",
    "\n",
    "We use the following columns: 'HOST_IPV4_SRC_ADDR', 'HOST_IPV4_DST_ADDR','MAX_TTL',\n",
    "'Label','Attack'"
   ],
   "metadata": {
    "collapsed": false,
    "pycharm": {
     "name": "#%% md\n"
    }
   }
  },
  {
   "cell_type": "code",
   "execution_count": 22,
   "outputs": [
    {
     "data": {
      "text/plain": "       NETWORK_IPV4_SRC_ADDR NETWORK_IPV4_DST_ADDR  MAX_TTL  Label  Attack\n129520              59.166.0           149.171.126       32      0  Benign\n274350              59.166.0           149.171.126       31      0  Benign\n371847              59.166.0           149.171.126       32      0  Benign\n218043              59.166.0           149.171.126       32      0  Benign\n183089              59.166.0           149.171.126       32      0  Benign",
      "text/html": "<div>\n<style scoped>\n    .dataframe tbody tr th:only-of-type {\n        vertical-align: middle;\n    }\n\n    .dataframe tbody tr th {\n        vertical-align: top;\n    }\n\n    .dataframe thead th {\n        text-align: right;\n    }\n</style>\n<table border=\"1\" class=\"dataframe\">\n  <thead>\n    <tr style=\"text-align: right;\">\n      <th></th>\n      <th>NETWORK_IPV4_SRC_ADDR</th>\n      <th>NETWORK_IPV4_DST_ADDR</th>\n      <th>MAX_TTL</th>\n      <th>Label</th>\n      <th>Attack</th>\n    </tr>\n  </thead>\n  <tbody>\n    <tr>\n      <th>129520</th>\n      <td>59.166.0</td>\n      <td>149.171.126</td>\n      <td>32</td>\n      <td>0</td>\n      <td>Benign</td>\n    </tr>\n    <tr>\n      <th>274350</th>\n      <td>59.166.0</td>\n      <td>149.171.126</td>\n      <td>31</td>\n      <td>0</td>\n      <td>Benign</td>\n    </tr>\n    <tr>\n      <th>371847</th>\n      <td>59.166.0</td>\n      <td>149.171.126</td>\n      <td>32</td>\n      <td>0</td>\n      <td>Benign</td>\n    </tr>\n    <tr>\n      <th>218043</th>\n      <td>59.166.0</td>\n      <td>149.171.126</td>\n      <td>32</td>\n      <td>0</td>\n      <td>Benign</td>\n    </tr>\n    <tr>\n      <th>183089</th>\n      <td>59.166.0</td>\n      <td>149.171.126</td>\n      <td>32</td>\n      <td>0</td>\n      <td>Benign</td>\n    </tr>\n  </tbody>\n</table>\n</div>"
     },
     "execution_count": 22,
     "metadata": {},
     "output_type": "execute_result"
    }
   ],
   "source": [
    "# We use the method load_data that we have implemented in the datamodule\n",
    "df =data_module.load_data(mode=\"test\")\n",
    "# ONnly keep the columns that we need\n",
    "df = df[['NETWORK_IPV4_SRC_ADDR', 'NETWORK_IPV4_DST_ADDR','MAX_TTL', 'Label','Attack']]\n",
    "df.head()"
   ],
   "metadata": {
    "collapsed": false,
    "pycharm": {
     "name": "#%%\n"
    }
   }
  },
  {
   "cell_type": "markdown",
   "source": [
    "### 4.2.2.  Visualize the latent space in 2D\n",
    "\n",
    "----------------------------------------------\n",
    "- Use the 2 principal components to visualize the latent space in 2D\n",
    "- Use the plotly scatter3d to visualize the latent space\n",
    "- At this stage, you can use the argument `hover_data` px.scatter to display the columns 'HOST_IPV4_SRC_ADDR', 'HOST_IPV4_DST_ADDR','MAX_TTL',\n",
    "- Make sure to update the dataset of principal components with the columns ['HOST_IPV4_SRC_ADDR', 'HOST_IPV4_DST_ADDR','MAX_TTL']"
   ],
   "metadata": {
    "collapsed": false,
    "pycharm": {
     "name": "#%% md\n"
    }
   }
  },
  {
   "cell_type": "code",
   "execution_count": 30,
   "outputs": [],
   "source": [
    "#############################################################\n",
    "###Write your code here to visualize the latent space in 3D##\n",
    "#############################################################"
   ],
   "metadata": {
    "collapsed": false,
    "pycharm": {
     "name": "#%%\n"
    }
   }
  },
  {
   "cell_type": "code",
   "execution_count": null,
   "outputs": [],
   "source": [],
   "metadata": {
    "collapsed": false,
    "pycharm": {
     "name": "#%%\n"
    }
   }
  },
  {
   "cell_type": "markdown",
   "source": [],
   "metadata": {
    "collapsed": false,
    "pycharm": {
     "name": "#%% md\n"
    }
   }
  },
  {
   "cell_type": "markdown",
   "source": [],
   "metadata": {
    "collapsed": false,
    "pycharm": {
     "name": "#%% md\n"
    }
   }
  },
  {
   "cell_type": "markdown",
   "source": [
    "### 4.2.3.  Visualize the latent space in 3D\n",
    "----------------------------------------------\n",
    "- Similarly, use the 3 principal components to visualize the latent space in 3D\n",
    "- Use the plotly scatter3d to visualize the latent space\n",
    "- Example : [https://plotly.com/python/3d-scatter-plots/](https://plotly.com/python/3d-scatter-plots/)"
   ],
   "metadata": {
    "collapsed": false,
    "pycharm": {
     "name": "#%% md\n"
    }
   }
  },
  {
   "cell_type": "code",
   "execution_count": 31,
   "outputs": [],
   "source": [
    "#############################################################\n",
    "###Write your code here to visualize the latent space in 3D##\n",
    "#############################################################"
   ],
   "metadata": {
    "collapsed": false,
    "pycharm": {
     "name": "#%%\n"
    }
   }
  },
  {
   "cell_type": "markdown",
   "source": [
    "# 5. Clustering\n",
    "\n",
    "-------------------------------------\n",
    "- Now let's use the KMeans algorithm to cluster the latent space\n",
    "- We will use the KMeans class from the sklearn library"
   ],
   "metadata": {
    "collapsed": false,
    "pycharm": {
     "name": "#%% md\n"
    }
   }
  },
  {
   "cell_type": "code",
   "execution_count": null,
   "outputs": [],
   "source": [
    "from sklearn.cluster import KMeans"
   ],
   "metadata": {
    "collapsed": false,
    "pycharm": {
     "name": "#%%\n"
    }
   }
  },
  {
   "cell_type": "markdown",
   "source": [
    " ## 5.1 KMeans Clustering with a fixed number of clusters\n",
    "-------------------------------------\n",
    "- We will first use a fixed number of clusters to perform the clustering\n",
    "- We perform clutering then update the dataframe with the cluster label\n",
    "- We will then visualize the clusters in 2D and 3D by coloring the points according to the cluster label"
   ],
   "metadata": {
    "collapsed": false,
    "pycharm": {
     "name": "#%% md\n"
    }
   }
  },
  {
   "cell_type": "code",
   "execution_count": 33,
   "outputs": [],
   "source": [
    "# TODO : Define the number of clusters below\n",
    "N_CLUTERS =  None"
   ],
   "metadata": {
    "collapsed": false,
    "pycharm": {
     "name": "#%%\n"
    }
   }
  },
  {
   "cell_type": "code",
   "execution_count": 37,
   "outputs": [],
   "source": [
    "##########################################################\n",
    "###Write your code here to perform KMeans clustering######\n",
    "## TIPS : Don't use the PCA components but the full\n",
    "## dimension of the latent space\n",
    "##########################################################"
   ],
   "metadata": {
    "collapsed": false,
    "pycharm": {
     "name": "#%%\n"
    }
   }
  },
  {
   "cell_type": "code",
   "execution_count": null,
   "outputs": [],
   "source": [
    "##########################################################\n",
    "###Update the dataframe with the cluster label.############\n",
    "##Recommendation : Add a new column 'Cluster' to the dataframe\n",
    "##########################################################"
   ],
   "metadata": {
    "collapsed": false,
    "pycharm": {
     "name": "#%%\n"
    }
   }
  },
  {
   "cell_type": "markdown",
   "source": [
    "### Visualize the clusters (In 2D and 3D)\n",
    "----------------------------------------------\n",
    "- It is similar to the step 4.2.2 and 4.2.3 but this time we will color the points according to the cluster label"
   ],
   "metadata": {
    "collapsed": false,
    "pycharm": {
     "name": "#%% md\n"
    }
   }
  },
  {
   "cell_type": "code",
   "execution_count": 38,
   "outputs": [],
   "source": [
    "#############################################################\n",
    "###Write your code here to visualize the clusters in 2D and 3D##\n",
    "## Recommendation : Do not copy code but refactor to create a\n",
    "## visualization function that takes the dataframe and the\n",
    "## columns to visualize as arguments\n",
    "#############################################################"
   ],
   "metadata": {
    "collapsed": false,
    "pycharm": {
     "name": "#%%\n"
    }
   }
  },
  {
   "cell_type": "markdown",
   "source": [
    "\n",
    "### 5.2 KMeans Clustering with an optimal number of clusters\n",
    "-------------------------------------\n",
    "- We will use the elbow method to find the optimal number of clusters\n",
    "- We run the KMeans algorithm with a range of number of clusters and plot the inertia"
   ],
   "metadata": {
    "collapsed": false,
    "pycharm": {
     "name": "#%% md\n"
    }
   }
  },
  {
   "cell_type": "code",
   "execution_count": 39,
   "outputs": [],
   "source": [
    "NUM_CLUSTERS =  list(range(1, 16))  # [1, 2, 3, 4, 5, 6, 7, 8, 9, 10, 11, 12, 13, 14,15]"
   ],
   "metadata": {
    "collapsed": false,
    "pycharm": {
     "name": "#%%\n"
    }
   }
  },
  {
   "cell_type": "code",
   "execution_count": null,
   "outputs": [],
   "source": [
    "num_clusters_and_inertia = dict() # Store the number of clusters and the inertia\n",
    "##########################################################\n",
    "###Write your code here to perform KMeans clustering######\n",
    "## A loop that will iterate over the number of clusters\n",
    "##########################################################"
   ],
   "metadata": {
    "collapsed": false,
    "pycharm": {
     "name": "#%%\n"
    }
   }
  },
  {
   "cell_type": "markdown",
   "source": [
    "#### Inertia plot"
   ],
   "metadata": {
    "collapsed": false,
    "pycharm": {
     "name": "#%% md\n"
    }
   }
  },
  {
   "cell_type": "code",
   "execution_count": 43,
   "outputs": [],
   "source": [
    "#############################################################\n",
    "###Write your code here to plot the inertia vs the number of clusters##\n",
    "## Use matplotlib or plotly\n",
    "#############################################################"
   ],
   "metadata": {
    "collapsed": false,
    "pycharm": {
     "name": "#%%\n"
    }
   }
  },
  {
   "cell_type": "code",
   "execution_count": 42,
   "outputs": [],
   "source": [
    "## TODO : Guess the optimal number of clusters visually by looking at the elbow"
   ],
   "metadata": {
    "collapsed": false,
    "pycharm": {
     "name": "#%%\n"
    }
   }
  },
  {
   "cell_type": "code",
   "execution_count": null,
   "outputs": [],
   "source": [],
   "metadata": {
    "collapsed": false,
    "pycharm": {
     "name": "#%%\n"
    }
   }
  },
  {
   "cell_type": "markdown",
   "source": [
    "#### Elbow Method (programmatically)\n",
    "-------------------------------------\n",
    "The following code will help you to find the optimal number of clusters programmatically"
   ],
   "metadata": {
    "collapsed": false,
    "pycharm": {
     "name": "#%% md\n"
    }
   }
  },
  {
   "cell_type": "code",
   "execution_count": null,
   "outputs": [],
   "source": [
    "def find_optimal_number_of_clusters(num_clusters_and_inertia):\n",
    "    \"\"\"\n",
    "    Find the optimal number of clusters using the elbow method\n",
    "    \"\"\"\n",
    "    # Compute the first derivative of the inertia\n",
    "    first_derivative = np.diff(list(num_clusters_and_inertia.values()), 1)\n",
    "    # Compute the second derivative of the inertia\n",
    "    second_derivative = np.diff(first_derivative, 1)\n",
    "    # Find the optimal number of clusters\n",
    "    optimal_number_of_clusters = np.where(second_derivative == max(second_derivative))[0][0] + 2\n",
    "    return optimal_number_of_clusters"
   ],
   "metadata": {
    "collapsed": false,
    "pycharm": {
     "name": "#%%\n"
    }
   }
  },
  {
   "cell_type": "code",
   "execution_count": 41,
   "outputs": [],
   "source": [
    "# Question : Is your guess correct? (Run the function find_optimal_number_of_clusters)"
   ],
   "metadata": {
    "collapsed": false,
    "pycharm": {
     "name": "#%%\n"
    }
   }
  },
  {
   "cell_type": "code",
   "execution_count": 44,
   "outputs": [],
   "source": [
    "#############################################################\n",
    "###Visualize the clusters with the optimal number of clusters(2D and 3D)##\n",
    "#############################################################"
   ],
   "metadata": {
    "collapsed": false,
    "pycharm": {
     "name": "#%%\n"
    }
   }
  },
  {
   "cell_type": "code",
   "execution_count": null,
   "outputs": [],
   "source": [],
   "metadata": {
    "collapsed": false,
    "pycharm": {
     "name": "#%%\n"
    }
   }
  },
  {
   "cell_type": "markdown",
   "source": [
    "### 5.3  KMeans clustering and True Labels\n",
    "-------------------------------------\n",
    "- No that the true labels are available in the dataframe\n",
    "   - Binary labels in the column 'Label'\n",
    "    - Multiclass labels in the column 'Attack'"
   ],
   "metadata": {
    "collapsed": false,
    "pycharm": {
     "name": "#%% md\n"
    }
   }
  },
  {
   "cell_type": "code",
   "execution_count": 47,
   "outputs": [],
   "source": [
    "#############################################################\n",
    "###Write your code here to visualize the clusters with the true labels(2D and 3D)##\n",
    "### TODO : Color the points according to the true labels\n",
    "##  Compare the clusters with the true labels (Visual inspection)\n",
    "#############################################################"
   ],
   "metadata": {
    "collapsed": false,
    "pycharm": {
     "name": "#%%\n"
    }
   }
  },
  {
   "cell_type": "code",
   "execution_count": 48,
   "outputs": [],
   "source": [
    "#Question : Are the clusters consistent with the true labels?"
   ],
   "metadata": {
    "collapsed": false,
    "pycharm": {
     "name": "#%%\n"
    }
   }
  },
  {
   "cell_type": "markdown",
   "source": [
    "### 6. Clustering Characterization\n",
    "-------------------------------------\n",
    "- In this last section, we characterize clusters by analysing the similarity between the points in the same cluster\n",
    "\n",
    " *Global Question* : What are the features common to the points in the same cluster?\n",
    "\n",
    "- Guidelines:\n",
    "  - Enrich the dataframe with other columns ( features) that was used to train the autoencoder\n",
    "  - Choose of the features that you think are relevant to characterize the clusters\n",
    "  - In the plotly scatter plot, use the argument `hover_data` to display the columns that you have chosen\n",
    "  - Visualize guess the common properties of the points in the same cluster\n"
   ],
   "metadata": {
    "collapsed": false,
    "pycharm": {
     "name": "#%% md\n"
    }
   }
  },
  {
   "cell_type": "code",
   "execution_count": null,
   "outputs": [],
   "source": [],
   "metadata": {
    "collapsed": false,
    "pycharm": {
     "name": "#%%\n"
    }
   }
  },
  {
   "cell_type": "code",
   "execution_count": 46,
   "outputs": [],
   "source": [],
   "metadata": {
    "collapsed": false,
    "pycharm": {
     "name": "#%%\n"
    }
   }
  },
  {
   "cell_type": "markdown",
   "source": [],
   "metadata": {
    "collapsed": false,
    "pycharm": {
     "name": "#%% md\n"
    }
   }
  },
  {
   "cell_type": "code",
   "execution_count": null,
   "outputs": [],
   "source": [],
   "metadata": {
    "collapsed": false,
    "pycharm": {
     "name": "#%%\n"
    }
   }
  }
 ],
 "metadata": {
  "kernelspec": {
   "display_name": "Python 3",
   "language": "python",
   "name": "python3"
  },
  "language_info": {
   "codemirror_mode": {
    "name": "ipython",
    "version": 2
   },
   "file_extension": ".py",
   "mimetype": "text/x-python",
   "name": "python",
   "nbconvert_exporter": "python",
   "pygments_lexer": "ipython2",
   "version": "2.7.6"
  }
 },
 "nbformat": 4,
 "nbformat_minor": 0
}