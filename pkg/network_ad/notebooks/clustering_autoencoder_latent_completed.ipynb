{
 "cells": [
  {
   "cell_type": "markdown",
   "metadata": {
    "collapsed": false,
    "jupyter": {
     "outputs_hidden": false
    },
    "pycharm": {
     "name": "#%% md\n"
    }
   },
   "source": [
    "# Clustering Autoencoder Latent Space\n",
    "-------------------------------------\n",
    "\n",
    "In this notebook, we will use the latent space of the trained autoencoder to cluster the netflow data"
   ]
  },
  {
   "cell_type": "code",
   "execution_count": 1,
   "metadata": {
    "collapsed": false,
    "jupyter": {
     "outputs_hidden": false
    },
    "pycharm": {
     "name": "#%%\n"
    }
   },
   "outputs": [],
   "source": [
    "import sys\n",
    "sys.path.append(\"../..\")\n",
    "import numpy as np"
   ]
  },
  {
   "cell_type": "markdown",
   "metadata": {
    "collapsed": false,
    "jupyter": {
     "outputs_hidden": false
    },
    "pycharm": {
     "name": "#%% md\n"
    }
   },
   "source": [
    "# 1. Load the trained autoencoder\n",
    "-------------------------------------\n",
    "- We previously trained an autoencoder on the netflow data.\n",
    "- The checkpoint path are saved in logs/autoencoder/[VERSION]\n",
    "- We will load the weights of the trained model to run inference\n",
    "- As recall, during the inference phase, we will only use the encoder part of the autoencoder to produce the latent representation of the netflow data"
   ]
  },
  {
   "cell_type": "code",
   "execution_count": 2,
   "metadata": {
    "collapsed": false,
    "jupyter": {
     "outputs_hidden": false
    },
    "pycharm": {
     "name": "#%%\n"
    }
   },
   "outputs": [],
   "source": [
    "from network_ad.config import LOGS_DIR\n",
    "CHECKPOINT_PATH = LOGS_DIR/\"autoencoder/v3_latent_dim8_2_hidden/autoencoder-epoch=19-val_loss=0.012.ckpt\""
   ]
  },
  {
   "cell_type": "markdown",
   "metadata": {
    "collapsed": false,
    "jupyter": {
     "outputs_hidden": false
    },
    "pycharm": {
     "name": "#%% md\n"
    }
   },
   "source": [
    "[https://lightning.ai/docs/pytorch/stable/common/checkpointing_basic.html](https://lightning.ai/docs/pytorch/stable/common/checkpointing_basic.html)"
   ]
  },
  {
   "cell_type": "code",
   "execution_count": 3,
   "metadata": {
    "collapsed": false,
    "jupyter": {
     "outputs_hidden": false
    },
    "pycharm": {
     "name": "#%%\n"
    }
   },
   "outputs": [],
   "source": [
    "##########################################################\n",
    "###Write your code Here to load the trained autoencoder###\n",
    "##########################################################\n",
    "from network_ad.unsupervised.autoencoder_lightning import Autoencoder\n",
    "model = Autoencoder.load_from_checkpoint(CHECKPOINT_PATH)"
   ]
  },
  {
   "cell_type": "markdown",
   "metadata": {
    "collapsed": false,
    "jupyter": {
     "outputs_hidden": false
    },
    "pycharm": {
     "name": "#%% md\n"
    }
   },
   "source": [
    "# 2. Load the netflow data\n",
    "-------------------------------------\n",
    "- We will load the netflow data to get the latent representation of the data\n",
    "- We will use the datamodule to load the data\n",
    "- But we will only use the test data"
   ]
  },
  {
   "cell_type": "code",
   "execution_count": 4,
   "metadata": {
    "collapsed": false,
    "jupyter": {
     "outputs_hidden": false
    },
    "pycharm": {
     "name": "#%%\n"
    }
   },
   "outputs": [],
   "source": [
    "from network_ad.config import VAL_RATIO\n",
    "from network_ad.unsupervised.autoencoder_datamodule import AutoencoderDataModule\n",
    "BATCH_SIZE = 64\n",
    "data_module = AutoencoderDataModule(batch_size=BATCH_SIZE, val_ratio=VAL_RATIO)\n",
    "data_module.setup()"
   ]
  },
  {
   "cell_type": "code",
   "execution_count": 5,
   "metadata": {
    "collapsed": false,
    "jupyter": {
     "outputs_hidden": false
    },
    "pycharm": {
     "name": "#%%\n"
    }
   },
   "outputs": [],
   "source": [
    "##########################################################\n",
    "###Write your code here to get print a sample ############\n",
    "##########################################################\n",
    "#1. Train dataloader\n",
    "train_dataloader = data_module.train_dataloader()\n",
    "first_batch= next(iter(train_dataloader))"
   ]
  },
  {
   "cell_type": "code",
   "execution_count": 6,
   "metadata": {
    "collapsed": false,
    "jupyter": {
     "outputs_hidden": false
    },
    "pycharm": {
     "name": "#%%\n"
    }
   },
   "outputs": [
    {
     "data": {
      "text/plain": [
       "tensor([[-0.1947, -0.1909, -0.1728,  ...,  0.0000,  0.0000,  0.0000],\n",
       "        [-0.1947, -0.2153,  0.9181,  ...,  0.0000,  0.0000,  0.0000],\n",
       "        [-0.1947, -0.1909, -0.1728,  ...,  0.0000,  0.0000,  0.0000],\n",
       "        ...,\n",
       "        [-0.1947, -0.1909, -0.1728,  ...,  0.0000,  0.0000,  0.0000],\n",
       "        [-0.1947, -0.1909, -0.1728,  ...,  0.0000,  0.0000,  0.0000],\n",
       "        [ 5.2406,  5.2263, -4.5364,  ...,  0.0000,  0.0000,  0.0000]])"
      ]
     },
     "execution_count": 6,
     "metadata": {},
     "output_type": "execute_result"
    }
   ],
   "source": [
    "first_batch"
   ]
  },
  {
   "cell_type": "code",
   "execution_count": 7,
   "metadata": {
    "collapsed": false,
    "jupyter": {
     "outputs_hidden": false
    },
    "pycharm": {
     "name": "#%%\n"
    }
   },
   "outputs": [
    {
     "data": {
      "text/plain": [
       "torch.Size([64, 704])"
      ]
     },
     "execution_count": 7,
     "metadata": {},
     "output_type": "execute_result"
    }
   ],
   "source": [
    "first_batch.shape"
   ]
  },
  {
   "cell_type": "markdown",
   "metadata": {
    "collapsed": false,
    "jupyter": {
     "outputs_hidden": false
    },
    "pycharm": {
     "name": "#%% md\n"
    }
   },
   "source": [
    "# 3. Inference\n",
    "-------------------------------------\n",
    "- We will use the encoder part of the autoencoder to get the latent representation of the netflow data"
   ]
  },
  {
   "cell_type": "code",
   "execution_count": 8,
   "metadata": {
    "collapsed": false,
    "jupyter": {
     "outputs_hidden": false
    },
    "pycharm": {
     "name": "#%%\n"
    }
   },
   "outputs": [
    {
     "name": "stderr",
     "output_type": "stream",
     "text": [
      "Running inference on test dataloader: 100%|████████████████████████████████████████| 7470/7470 [03:16<00:00, 38.00it/s]\n"
     ]
    }
   ],
   "source": [
    "import torch\n",
    "from tqdm import tqdm\n",
    "###################################################################\n",
    "## Write your code here to get the latent representation##########\n",
    "## TIPS: You should write a loop to iterate over the test dataloader\n",
    "###################################################################\n",
    "test_dataloader = data_module.test_dataloader()\n",
    "test_outputs = []\n",
    "\n",
    "with torch.no_grad():\n",
    "    #torch.no_grad() disables the autograd engine which is used to compute gradients during training thus reducing memory consumption\n",
    "    for batch in tqdm(test_dataloader, \"Running inference on test dataloader\"):\n",
    "        batch =batch.to(model.device)\n",
    "        test_outputs.append(model.encoder(batch).cpu())"
   ]
  },
  {
   "cell_type": "code",
   "execution_count": 9,
   "metadata": {
    "collapsed": false,
    "jupyter": {
     "outputs_hidden": false
    },
    "pycharm": {
     "name": "#%%\n"
    }
   },
   "outputs": [],
   "source": [
    "latent_vectors =torch.concat(test_outputs, dim=0).numpy()"
   ]
  },
  {
   "cell_type": "code",
   "execution_count": 11,
   "metadata": {
    "collapsed": false,
    "jupyter": {
     "outputs_hidden": false
    },
    "pycharm": {
     "name": "#%%\n"
    }
   },
   "outputs": [
    {
     "data": {
      "text/plain": [
       "(478055, 8)"
      ]
     },
     "execution_count": 11,
     "metadata": {},
     "output_type": "execute_result"
    }
   ],
   "source": [
    "latent_vectors.shape"
   ]
  },
  {
   "cell_type": "markdown",
   "metadata": {
    "collapsed": false,
    "jupyter": {
     "outputs_hidden": false
    },
    "pycharm": {
     "name": "#%% md\n"
    }
   },
   "source": [
    "    # 4. Latent Space Visualization\n",
    "-------------------------------------\n",
    "- Make use of the plotly library to visualize the latent space\n",
    "- We will first perform PCA on the latent space to reduce the dimensionality to 3 or 2"
   ]
  },
  {
   "cell_type": "markdown",
   "metadata": {
    "collapsed": false,
    "jupyter": {
     "outputs_hidden": false
    },
    "pycharm": {
     "name": "#%% md\n"
    }
   },
   "source": [
    "## 4.1 Perform PCA\n",
    "\n",
    "- Principal component analysis (PCA) is a technique used to emphasize variation and bring out strong patterns in a dataset. It's often used to make data easy to explore and visualize.\n",
    "- We will use the PCA class from the sklearn library to perform PCA on the latent space"
   ]
  },
  {
   "cell_type": "code",
   "execution_count": 12,
   "metadata": {
    "collapsed": false,
    "jupyter": {
     "outputs_hidden": false
    },
    "pycharm": {
     "name": "#%%\n"
    }
   },
   "outputs": [
    {
     "name": "stdout",
     "output_type": "stream",
     "text": [
      "[0.65140598 0.14013773 0.07283445]\n"
     ]
    }
   ],
   "source": [
    "# Instanciate the PCA class\n",
    "from sklearn.decomposition import PCA\n",
    "reducer_pca = PCA(n_components=3)\n",
    "# Fit the PCA on the latent space\n",
    "latent_vectors_3d = reducer_pca.fit_transform(latent_vectors)\n",
    "print(reducer_pca.explained_variance_ratio_)"
   ]
  },
  {
   "cell_type": "markdown",
   "metadata": {
    "collapsed": false,
    "jupyter": {
     "outputs_hidden": false
    },
    "pycharm": {
     "name": "#%% md\n"
    }
   },
   "source": [
    "## 4.1.2. Better than PCA, we can use UMAP to visualize the latent space\n",
    "\n",
    "https://umap-learn.readthedocs.io/en/latest/to visualize the latent space"
   ]
  },
  {
   "cell_type": "code",
   "execution_count": 13,
   "metadata": {
    "collapsed": false,
    "jupyter": {
     "outputs_hidden": false
    },
    "pycharm": {
     "is_executing": true,
     "name": "#%%\n"
    }
   },
   "outputs": [],
   "source": [
    "# Better than PCA, we can use Umap to visualize the latent space\n",
    "#!pip install umap-learn\n",
    "# import umap\n",
    "# reducer_umap = umap.UMAP(n_components=3, verbose=True)\n",
    "# latent_vectors_3d = reducer_umap.fit_transform(latent_vectors)\n"
   ]
  },
  {
   "cell_type": "markdown",
   "metadata": {
    "collapsed": false,
    "jupyter": {
     "outputs_hidden": false
    },
    "pycharm": {
     "name": "#%% md\n"
    }
   },
   "source": [
    "### 4.1.3. Create a new dataframe with the columns ['PC1', 'PC2', 'PC3']\n",
    "\n",
    "Each row of the dataframe will represent a projected netflow point in the latent space"
   ]
  },
  {
   "cell_type": "code",
   "execution_count": 14,
   "metadata": {
    "collapsed": false,
    "jupyter": {
     "outputs_hidden": false
    },
    "pycharm": {
     "is_executing": true,
     "name": "#%%\n"
    }
   },
   "outputs": [],
   "source": [
    "##########################################################\n",
    "###Write your code here to perform PCA####################\n",
    "# Recommendation :  Use 3 principal components and create\n",
    "# a new dataframe with the columns ['PC1', 'PC2', 'PC3']\n",
    "##########################################################\n",
    "import pandas as pd\n",
    "df_latent = pd.DataFrame(latent_vectors_3d, columns=['PC1', 'PC2', 'PC3'])"
   ]
  },
  {
   "cell_type": "markdown",
   "metadata": {
    "collapsed": false,
    "jupyter": {
     "outputs_hidden": false
    },
    "pycharm": {
     "name": "#%% md\n"
    }
   },
   "source": [
    "# 4.2 Visualize the latent space\n",
    "\n",
    "-------------------------------------\n",
    "- Make use of the plotly scatter plot to visualize the latent space\n",
    "[https://plotly.com/python/hover-text-and-formatting/](https://plotly.com/python/hover-text-and-formatting)"
   ]
  },
  {
   "cell_type": "code",
   "execution_count": 15,
   "metadata": {
    "collapsed": false,
    "jupyter": {
     "outputs_hidden": false
    },
    "pycharm": {
     "is_executing": true,
     "name": "#%%\n"
    }
   },
   "outputs": [],
   "source": [
    "import plotly.express as px"
   ]
  },
  {
   "cell_type": "markdown",
   "metadata": {
    "collapsed": false,
    "jupyter": {
     "outputs_hidden": false
    },
    "pycharm": {
     "name": "#%% md\n"
    }
   },
   "source": [
    "### 4.2.1 Load some raw data to  annotate the plot\n",
    "\n",
    "We use the following columns: 'HOST_IPV4_SRC_ADDR', 'HOST_IPV4_DST_ADDR','MAX_TTL',\n",
    "'Label','Attack'"
   ]
  },
  {
   "cell_type": "code",
   "execution_count": 16,
   "metadata": {
    "collapsed": false,
    "jupyter": {
     "outputs_hidden": false
    },
    "pycharm": {
     "is_executing": true,
     "name": "#%%\n"
    }
   },
   "outputs": [
    {
     "data": {
      "text/html": [
       "<div>\n",
       "<style scoped>\n",
       "    .dataframe tbody tr th:only-of-type {\n",
       "        vertical-align: middle;\n",
       "    }\n",
       "\n",
       "    .dataframe tbody tr th {\n",
       "        vertical-align: top;\n",
       "    }\n",
       "\n",
       "    .dataframe thead th {\n",
       "        text-align: right;\n",
       "    }\n",
       "</style>\n",
       "<table border=\"1\" class=\"dataframe\">\n",
       "  <thead>\n",
       "    <tr style=\"text-align: right;\">\n",
       "      <th></th>\n",
       "      <th>NETWORK_IPV4_SRC_ADDR</th>\n",
       "      <th>NETWORK_IPV4_DST_ADDR</th>\n",
       "      <th>HOST_IPV4_DST_ADDR</th>\n",
       "      <th>HOST_IPV4_DST_ADDR</th>\n",
       "      <th>MAX_TTL</th>\n",
       "      <th>Label</th>\n",
       "      <th>Attack</th>\n",
       "    </tr>\n",
       "  </thead>\n",
       "  <tbody>\n",
       "    <tr>\n",
       "      <th>0</th>\n",
       "      <td>59.166.0</td>\n",
       "      <td>149.171.126</td>\n",
       "      <td>1</td>\n",
       "      <td>1</td>\n",
       "      <td>32</td>\n",
       "      <td>0</td>\n",
       "      <td>Benign</td>\n",
       "    </tr>\n",
       "    <tr>\n",
       "      <th>1</th>\n",
       "      <td>59.166.0</td>\n",
       "      <td>149.171.126</td>\n",
       "      <td>1</td>\n",
       "      <td>1</td>\n",
       "      <td>31</td>\n",
       "      <td>0</td>\n",
       "      <td>Benign</td>\n",
       "    </tr>\n",
       "    <tr>\n",
       "      <th>2</th>\n",
       "      <td>59.166.0</td>\n",
       "      <td>149.171.126</td>\n",
       "      <td>9</td>\n",
       "      <td>9</td>\n",
       "      <td>32</td>\n",
       "      <td>0</td>\n",
       "      <td>Benign</td>\n",
       "    </tr>\n",
       "    <tr>\n",
       "      <th>3</th>\n",
       "      <td>59.166.0</td>\n",
       "      <td>149.171.126</td>\n",
       "      <td>9</td>\n",
       "      <td>9</td>\n",
       "      <td>32</td>\n",
       "      <td>0</td>\n",
       "      <td>Benign</td>\n",
       "    </tr>\n",
       "    <tr>\n",
       "      <th>4</th>\n",
       "      <td>59.166.0</td>\n",
       "      <td>149.171.126</td>\n",
       "      <td>6</td>\n",
       "      <td>6</td>\n",
       "      <td>32</td>\n",
       "      <td>0</td>\n",
       "      <td>Benign</td>\n",
       "    </tr>\n",
       "  </tbody>\n",
       "</table>\n",
       "</div>"
      ],
      "text/plain": [
       "  NETWORK_IPV4_SRC_ADDR NETWORK_IPV4_DST_ADDR HOST_IPV4_DST_ADDR  \\\n",
       "0              59.166.0           149.171.126                  1   \n",
       "1              59.166.0           149.171.126                  1   \n",
       "2              59.166.0           149.171.126                  9   \n",
       "3              59.166.0           149.171.126                  9   \n",
       "4              59.166.0           149.171.126                  6   \n",
       "\n",
       "  HOST_IPV4_DST_ADDR MAX_TTL Label  Attack  \n",
       "0                  1      32     0  Benign  \n",
       "1                  1      31     0  Benign  \n",
       "2                  9      32     0  Benign  \n",
       "3                  9      32     0  Benign  \n",
       "4                  6      32     0  Benign  "
      ]
     },
     "execution_count": 16,
     "metadata": {},
     "output_type": "execute_result"
    }
   ],
   "source": [
    "# We use the method load_data that we have implemented in the datamodule\n",
    "df_annotation =data_module.load_data(mode=\"test\")\n",
    "# ONnly keep the columns that we need\n",
    "df_annotation = df_annotation[['NETWORK_IPV4_SRC_ADDR', 'NETWORK_IPV4_DST_ADDR','HOST_IPV4_DST_ADDR','HOST_IPV4_DST_ADDR', 'MAX_TTL','Label','Attack']]\n",
    "# Convert each column to string\n",
    "df_annotation = df_annotation.astype(str)\n",
    "df_annotation.head()"
   ]
  },
  {
   "cell_type": "markdown",
   "metadata": {
    "collapsed": false,
    "jupyter": {
     "outputs_hidden": false
    },
    "pycharm": {
     "name": "#%% md\n"
    }
   },
   "source": [
    "### 4.2.2.  Visualize the latent space in 2D\n",
    "\n",
    "----------------------------------------------\n",
    "- Use the 2 principal components to visualize the latent space in 2D\n",
    "- Use the plotly scatter3d to visualize the latent space\n",
    "- At this stage, you can use the argument `hover_data` px.scatter to display the columns 'HOST_IPV4_SRC_ADDR', 'HOST_IPV4_DST_ADDR','MAX_TTL',\n",
    "- Make sure to update the dataset of principal components with the columns ['HOST_IPV4_SRC_ADDR', 'HOST_IPV4_DST_ADDR','MAX_TTL']"
   ]
  },
  {
   "cell_type": "code",
   "execution_count": null,
   "outputs": [],
   "source": [
    "#############################################################\n",
    "###Write your code here to visualize the latent space in 3D##\n",
    "#############################################################\n",
    "def visualize_latent_space_2D(df_latent, df_annotation, label='Attack', bening_frac =10):\n",
    "    \"\"\"\n",
    "    Visualize the latent space in 2D\n",
    "    \"\"\"\n",
    "    # Only keep 10% of the benign data to avoid cluttering the plot\n",
    "    df = pd.concat([df_latent, df_annotation], axis=1)\n",
    "    df = df[df['Attack'] == 'Benign'].sample(frac=bening_frac / 100).append(df[df['Attack'] != 'Benign'])\n",
    "\n",
    "    fig = px.scatter(df, x='PC1',\n",
    "                     y='PC2',\n",
    "                     color = label,\n",
    "                     )\n",
    "    fig.show()\n",
    "\n",
    "\n",
    "visualize_latent_space_2D(df_latent, df_annotation)"
   ],
   "metadata": {
    "collapsed": false,
    "pycharm": {
     "name": "#%%\n"
    }
   }
  },
  {
   "cell_type": "markdown",
   "source": [
    "### 4.2.3.  Visualize the latent space in 3D\n",
    "----------------------------------------------\n",
    "- Similarly, use the 3 principal components to visualize the latent space in 3D\n",
    "- Use the plotly scatter3d to visualize the latent space\n",
    "- Example : [https://plotly.com/python/3d-scatter-plots/](https://plotly.com/python/3d-scatter-plots/)"
   ],
   "metadata": {
    "collapsed": false,
    "pycharm": {
     "name": "#%% md\n"
    }
   }
  },
  {
   "cell_type": "code",
   "execution_count": null,
   "outputs": [],
   "source": [
    "#############################################################\n",
    "###Write your code here to visualize the latent space in 3D##\n",
    "#############################################################\n",
    "def visualize_latent_space_3D(df_latent, df_annotation, label='Attack', bening_frac =10):\n",
    "    \"\"\"\n",
    "    Visualize the latent space in 3D\n",
    "    \"\"\"\n",
    "    df = pd.concat([df_latent, df_annotation], axis=1)\n",
    "    df = df[df['Attack'] == 'Benign'].sample(frac=bening_frac / 100).append(df[df['Attack'] != 'Benign'])\n",
    "    fig = px.scatter_3d(df, x='PC1',\n",
    "                        y='PC2',\n",
    "                        z='PC3',\n",
    "                        color = label,\n",
    "                        )\n",
    "    fig.show()\n",
    "\n",
    "visualize_latent_space_3D(df_latent, df_annotation)"
   ],
   "metadata": {
    "collapsed": false,
    "pycharm": {
     "name": "#%%\n"
    }
   }
  },
  {
   "cell_type": "markdown",
   "source": [
    "# 5. Clustering\n",
    "\n",
    "-------------------------------------\n",
    "- Now let's use the KMeans algorithm to cluster the latent space\n",
    "- We will use the KMeans class from the sklearn library"
   ],
   "metadata": {
    "collapsed": false,
    "pycharm": {
     "name": "#%% md\n"
    }
   }
  },
  {
   "cell_type": "code",
   "execution_count": null,
   "outputs": [],
   "source": [
    "from sklearn.cluster import KMeans"
   ],
   "metadata": {
    "collapsed": false,
    "pycharm": {
     "name": "#%%\n"
    }
   }
  },
  {
   "cell_type": "markdown",
   "source": [
    " ## 5.1 KMeans Clustering with a fixed number of clusters\n",
    "-------------------------------------\n",
    "- We will first use a fixed number of clusters to perform the clustering\n",
    "- We perform clutering then update the dataframe with the cluster label\n",
    "- We will then visualize the clusters in 2D and 3D by coloring the points according to the cluster label"
   ],
   "metadata": {
    "collapsed": false,
    "pycharm": {
     "name": "#%% md\n"
    }
   }
  },
  {
   "cell_type": "code",
   "execution_count": null,
   "outputs": [],
   "source": [
    "# TODO : Define the number of clusters below\n",
    "N_CLUSTERS =  2"
   ],
   "metadata": {
    "collapsed": false,
    "pycharm": {
     "name": "#%%\n"
    }
   }
  },
  {
   "cell_type": "code",
   "execution_count": null,
   "outputs": [],
   "source": [
    "##########################################################\n",
    "###Write your code here to perform KMeans clustering######\n",
    "## TIPS : Don't use the PCA components but the full\n",
    "## dimension of the latent space\n",
    "##########################################################\n",
    "def kmeans_clustering(latent_vectors, n_clusters)-> np.ndarray:\n",
    "    \"\"\"\n",
    "    Perform KMeans clustering on the latent space\n",
    "    \"\"\"\n",
    "    kmeans = KMeans(n_clusters=n_clusters, random_state=0)\n",
    "    kmeans.fit(latent_vectors_3d)\n",
    "    return kmeans.labels_"
   ],
   "metadata": {
    "collapsed": false,
    "pycharm": {
     "name": "#%%\n"
    }
   }
  },
  {
   "cell_type": "code",
   "execution_count": null,
   "outputs": [],
   "source": [
    "##########################################################\n",
    "###Update the dataframe with the cluster label.############\n",
    "##Recommendation : Add a new column 'Cluster' to the dataframe\n",
    "##########################################################\n",
    "df_annotation['Cluster'] = kmeans_clustering(latent_vectors_3d, N_CLUSTERS)\n",
    "# df_annotation['Cluster'] = df_annotation['Cluster'].astype(str)"
   ],
   "metadata": {
    "collapsed": false,
    "pycharm": {
     "name": "#%%\n"
    }
   }
  },
  {
   "cell_type": "markdown",
   "source": [
    "### Visualize the clusters (In 2D and 3D)\n",
    "----------------------------------------------\n",
    "- It is similar to the step 4.2.2 and 4.2.3 but this time we will color the points according to the cluster label"
   ],
   "metadata": {
    "collapsed": false,
    "pycharm": {
     "name": "#%% md\n"
    }
   }
  },
  {
   "cell_type": "code",
   "execution_count": null,
   "outputs": [],
   "source": [
    "#############################################################\n",
    "###Write your code here to visualize the clusters in 2D and 3D##\n",
    "## Recommendation : Do not copy code but refactor to create a\n",
    "## visualization function that takes the dataframe and the\n",
    "## columns to visualize as arguments\n",
    "#############################################################"
   ],
   "metadata": {
    "collapsed": false,
    "pycharm": {
     "name": "#%%\n"
    }
   }
  },
  {
   "cell_type": "code",
   "execution_count": null,
   "outputs": [],
   "source": [
    "#2D visualization\n",
    "visualize_latent_space_2D(df_latent, df_annotation, label='Cluster')"
   ],
   "metadata": {
    "collapsed": false,
    "pycharm": {
     "name": "#%%\n"
    }
   }
  },
  {
   "cell_type": "code",
   "execution_count": null,
   "outputs": [],
   "source": [
    "#3D visualization\n",
    "visualize_latent_space_3D(df_latent, df_annotation, label='Cluster')"
   ],
   "metadata": {
    "collapsed": false,
    "pycharm": {
     "name": "#%%\n"
    }
   }
  },
  {
   "cell_type": "markdown",
   "source": [
    "\n",
    "### 5.2 KMeans Clustering with an optimal number of clusters\n",
    "-------------------------------------\n",
    "- We will use the elbow method to find the optimal number of clusters\n",
    "- We run the KMeans algorithm with a range of number of clusters and plot the inertia"
   ],
   "metadata": {
    "collapsed": false,
    "pycharm": {
     "name": "#%% md\n"
    }
   }
  },
  {
   "cell_type": "code",
   "execution_count": null,
   "outputs": [],
   "source": [
    "NUM_CLUSTERS =  list(range(1, 16))  # [1, 2, 3, 4, 5, 6, 7, 8, 9, 10, 11, 12, 13, 14,15]"
   ],
   "metadata": {
    "collapsed": false,
    "pycharm": {
     "name": "#%%\n"
    }
   }
  },
  {
   "cell_type": "code",
   "execution_count": null,
   "outputs": [],
   "source": [
    "num_clusters_and_inertia = dict() # Store the number of clusters and the inertia\n",
    "##########################################################\n",
    "###Write your code here to perform KMeans clustering######\n",
    "## A loop that will iterate over the number of clusters\n",
    "##########################################################\n",
    "for n_clusters in NUM_CLUSTERS:\n",
    "    kmeans = KMeans(n_clusters=n_clusters, random_state=0)\n",
    "    kmeans.fit(latent_vectors)\n",
    "    num_clusters_and_inertia[n_clusters] = kmeans.inertia_\n"
   ],
   "metadata": {
    "collapsed": false,
    "pycharm": {
     "name": "#%%\n"
    }
   }
  },
  {
   "cell_type": "markdown",
   "source": [
    "#### Inertia plot"
   ],
   "metadata": {
    "collapsed": false,
    "pycharm": {
     "name": "#%% md\n"
    }
   }
  },
  {
   "cell_type": "code",
   "execution_count": null,
   "outputs": [],
   "source": [
    "#############################################################\n",
    "###Write your code here to plot the inertia vs the number of clusters##\n",
    "## Use matplotlib or plotly\n",
    "#############################################################\n",
    "import matplotlib.pyplot as plt\n",
    "plt.plot(list(num_clusters_and_inertia.keys()), list(num_clusters_and_inertia.values()))\n",
    "plt.xlabel('Number of clusters')\n",
    "plt.ylabel('Inertia')"
   ],
   "metadata": {
    "collapsed": false,
    "pycharm": {
     "name": "#%%\n"
    }
   }
  },
  {
   "cell_type": "code",
   "execution_count": null,
   "outputs": [],
   "source": [
    "## TODO : Guess the optimal number of clusters visually by looking at the elbow"
   ],
   "metadata": {
    "collapsed": false,
    "pycharm": {
     "name": "#%%\n"
    }
   }
  },
  {
   "cell_type": "code",
   "execution_count": null,
   "outputs": [],
   "source": [],
   "metadata": {
    "collapsed": false,
    "pycharm": {
     "name": "#%%\n"
    }
   }
  },
  {
   "cell_type": "markdown",
   "source": [
    "#### Elbow Method (programmatically)\n",
    "-------------------------------------\n",
    "The following code will help you to find the optimal number of clusters programmatically"
   ],
   "metadata": {
    "collapsed": false,
    "pycharm": {
     "name": "#%% md\n"
    }
   }
  },
  {
   "cell_type": "code",
   "execution_count": null,
   "outputs": [],
   "source": [
    "def find_optimal_number_of_clusters(num_clusters_and_inertia):\n",
    "    \"\"\"\n",
    "    Find the optimal number of clusters using the elbow method\n",
    "    \"\"\"\n",
    "    # Compute the first derivative of the inertia\n",
    "    first_derivative = np.diff(list(num_clusters_and_inertia.values()), 1)\n",
    "    # Compute the second derivative of the inertia\n",
    "    second_derivative = np.diff(first_derivative, 1)\n",
    "    # Find the optimal number of clusters\n",
    "    optimal_number_of_clusters = np.where(second_derivative == max(second_derivative))[0][0] + 2\n",
    "    return optimal_number_of_clusters\n",
    "\n",
    "optimal_number_of_clusters = find_optimal_number_of_clusters(num_clusters_and_inertia)\n",
    "print(\"Optimal number of clusters : \", optimal_number_of_clusters)"
   ],
   "metadata": {
    "collapsed": false,
    "pycharm": {
     "name": "#%%\n"
    }
   }
  },
  {
   "cell_type": "code",
   "execution_count": null,
   "metadata": {
    "collapsed": false,
    "jupyter": {
     "outputs_hidden": false
    },
    "pycharm": {
     "name": "#%%\n"
    }
   },
   "outputs": [],
   "source": []
  },
  {
   "cell_type": "markdown",
   "metadata": {
    "collapsed": false,
    "jupyter": {
     "outputs_hidden": false
    },
    "pycharm": {
     "name": "#%% md\n"
    }
   },
   "source": [
    "### 5.3  KMeans clustering and True Labels\n",
    "-------------------------------------\n",
    "- No that the true labels are available in the dataframe\n",
    "   - Binary labels in the column 'Label'\n",
    "    - Multiclass labels in the column 'Attack'"
   ]
  },
  {
   "cell_type": "code",
   "execution_count": 47,
   "metadata": {
    "collapsed": false,
    "jupyter": {
     "outputs_hidden": false
    },
    "pycharm": {
     "name": "#%%\n"
    }
   },
   "outputs": [],
   "source": [
    "#############################################################\n",
    "###Write your code here to visualize the clusters with the true labels(2D and 3D)##\n",
    "### TODO : Color the points according to the true labels\n",
    "##  Compare the clusters with the true labels (Visual inspection)\n",
    "#############################################################"
   ]
  },
  {
   "cell_type": "code",
   "execution_count": 48,
   "metadata": {
    "collapsed": false,
    "jupyter": {
     "outputs_hidden": false
    },
    "pycharm": {
     "name": "#%%\n"
    }
   },
   "outputs": [],
   "source": [
    "#Question : Are the clusters consistent with the true labels?"
   ]
  },
  {
   "cell_type": "markdown",
   "metadata": {
    "collapsed": false,
    "jupyter": {
     "outputs_hidden": false
    },
    "pycharm": {
     "name": "#%% md\n"
    }
   },
   "source": [
    "### 6. Clustering Characterization\n",
    "-------------------------------------\n",
    "- In this last section, we characterize clusters by analysing the similarity between the points in the same cluster\n",
    "\n",
    " *Global Question* : What are the features common to the points in the same cluster?\n",
    "\n",
    "- Guidelines:\n",
    "  - Enrich the dataframe with other columns ( features) that was used to train the autoencoder\n",
    "  - Choose of the features that you think are relevant to characterize the clusters\n",
    "  - In the plotly scatter plot, use the argument `hover_data` to display the columns that you have chosen\n",
    "  - Visualize guess the common properties of the points in the same cluster\n"
   ]
  },
  {
   "cell_type": "code",
   "execution_count": null,
   "metadata": {
    "collapsed": false,
    "jupyter": {
     "outputs_hidden": false
    },
    "pycharm": {
     "name": "#%%\n"
    }
   },
   "outputs": [],
   "source": []
  },
  {
   "cell_type": "code",
   "execution_count": 46,
   "metadata": {
    "collapsed": false,
    "jupyter": {
     "outputs_hidden": false
    },
    "pycharm": {
     "name": "#%%\n"
    }
   },
   "outputs": [],
   "source": []
  },
  {
   "cell_type": "markdown",
   "metadata": {
    "collapsed": false,
    "jupyter": {
     "outputs_hidden": false
    },
    "pycharm": {
     "name": "#%% md\n"
    }
   },
   "source": []
  },
  {
   "cell_type": "code",
   "execution_count": null,
   "metadata": {
    "collapsed": false,
    "jupyter": {
     "outputs_hidden": false
    },
    "pycharm": {
     "name": "#%%\n"
    }
   },
   "outputs": [],
   "source": []
  }
 ],
 "metadata": {
  "kernelspec": {
   "display_name": "Python 3 (ipykernel)",
   "language": "python",
   "name": "python3"
  },
  "language_info": {
   "codemirror_mode": {
    "name": "ipython",
    "version": 3
   },
   "file_extension": ".py",
   "mimetype": "text/x-python",
   "name": "python",
   "nbconvert_exporter": "python",
   "pygments_lexer": "ipython3",
   "version": "3.10.5"
  }
 },
 "nbformat": 4,
 "nbformat_minor": 4
}