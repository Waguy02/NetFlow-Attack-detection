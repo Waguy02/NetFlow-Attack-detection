{
 "cells": [
  {
   "cell_type": "markdown",
   "id": "4623a209",
   "metadata": {
    "collapsed": false,
    "jupyter": {
     "outputs_hidden": false
    },
    "pycharm": {
     "name": "#%% md\n"
    }
   },
   "source": [
    "## 1. Load Data and Load Existing Booster"
   ]
  },
  {
   "cell_type": "code",
   "execution_count": null,
   "id": "e43464a3",
   "metadata": {
    "collapsed": false,
    "jupyter": {
     "outputs_hidden": false
    },
    "pycharm": {
     "name": "#%%\n"
    }
   },
   "outputs": [],
   "source": []
  },
  {
   "cell_type": "code",
   "execution_count": null,
   "id": "3e90da35",
   "metadata": {
    "collapsed": false,
    "jupyter": {
     "outputs_hidden": false
    },
    "pycharm": {
     "name": "#%%\n"
    }
   },
   "outputs": [],
   "source": [
    "import sys\n",
    "sys.path.append(\"../..\")"
   ]
  },
  {
   "cell_type": "code",
   "execution_count": null,
   "id": "c6ec7609",
   "metadata": {
    "collapsed": false,
    "jupyter": {
     "outputs_hidden": false
    },
    "pycharm": {
     "name": "#%%\n"
    }
   },
   "outputs": [],
   "source": [
    "import lightgbm as lgb\n",
    "import pandas as pd\n",
    "import matplotlib.pyplot as plt\n",
    "import seaborn as sns\n",
    "import numpy as np\n",
    "from ipywidgets import interact\n",
    "\n",
    "# Load dataset and models\n",
    "from network_ad.supervised.lgbm_dataset import LightGBMDataset\n",
    "from network_ad.config import LOGS_DIR, TRAIN_DATA_PATH, TEST_DATA_PATH\n",
    "\n",
    "MULTICLASS = True  # Set as per requirement\n",
    "\n",
    "MODEL_FILE = LOGS_DIR / \"lgbm_nl.100_e.100_multiclass/model.txt\"\n",
    "\n",
    "# Load dataset\n",
    "dataset = LightGBMDataset(\n",
    "    train_path=TRAIN_DATA_PATH,\n",
    "    test_path=TEST_DATA_PATH,\n",
    "    multiclass=MULTICLASS\n",
    ")\n",
    "dataset.setup()\n",
    "\n",
    "# Load existing booster\n",
    "booster = lgb.Booster(model_file=MODEL_FILE)"
   ]
  },
  {
   "cell_type": "markdown",
   "id": "335263ed",
   "metadata": {
    "collapsed": false,
    "jupyter": {
     "outputs_hidden": false
    },
    "pycharm": {
     "name": "#%% md\n"
    }
   },
   "source": [
    "## 2. Compute and Plot Feature Importance\n",
    "---------------------------------------------\n",
    "\n",
    "LightGbm provides two types of feature importance:\n",
    "\n",
    "1. **Split Importance**: Number of times a feature is used to split the data across all trees.\n",
    "2. **Gain Importance**: Total gain of splits which use the feature.\n",
    "\n",
    "In practice, gain importance is more useful as it provides a better measure of the contribution of the feature to the model.\n",
    "\n"
   ]
  },
  {
   "cell_type": "code",
   "execution_count": null,
   "id": "a50cf5fe",
   "metadata": {
    "collapsed": false,
    "jupyter": {
     "outputs_hidden": false
    },
    "pycharm": {
     "name": "#%%\n"
    }
   },
   "outputs": [],
   "source": [
    "# Compute feature importances\n",
    "split_importance = booster.feature_importance(importance_type=\"split\")\n",
    "gain_importance = booster.feature_importance(importance_type=\"gain\")"
   ]
  },
  {
   "cell_type": "code",
   "execution_count": null,
   "id": "b13314a9",
   "metadata": {
    "collapsed": false,
    "jupyter": {
     "outputs_hidden": false
    },
    "pycharm": {
     "name": "#%%\n"
    }
   },
   "outputs": [],
   "source": [
    "def plot_importance(importance, title):\n",
    "    # Create a dataframe of feature importance and sort it\n",
    "    importance_df = pd.DataFrame({\n",
    "        \"feature\": dataset.numerical_features+dataset.categorical_features,\n",
    "        \"importance\": importance\n",
    "    })\n",
    "    importance_df = importance_df.sort_values(by=\"importance\", ascending=False)\n",
    "\n",
    "    # Plot the feature importance\n",
    "    plt.figure(figsize=(20, 10))\n",
    "    sns.barplot(x=\"importance\", y=\"feature\", data=importance_df)\n",
    "    plt.title(title)\n",
    "    plt.show()\n",
    "plot_importance(gain_importance, \"Feature Gain Importance\")"
   ]
  },
  {
   "cell_type": "markdown",
   "id": "eb7be2eb",
   "metadata": {
    "collapsed": false,
    "jupyter": {
     "outputs_hidden": false
    },
    "pycharm": {
     "name": "#%% md\n"
    }
   },
   "source": [
    "## 2.1. Plot gain importance"
   ]
  },
  {
   "cell_type": "code",
   "execution_count": null,
   "id": "0f43ce5a",
   "metadata": {
    "collapsed": false,
    "jupyter": {
     "outputs_hidden": false
    },
    "pycharm": {
     "name": "#%%\n"
    }
   },
   "outputs": [],
   "source": [
    "plot_importance(gain_importance, \"Feature Gain Importance\")"
   ]
  },
  {
   "cell_type": "markdown",
   "id": "6df16092",
   "metadata": {
    "collapsed": false,
    "jupyter": {
     "outputs_hidden": false
    },
    "pycharm": {
     "name": "#%% md\n"
    }
   },
   "source": [
    "## 2.2. Plot split importance"
   ]
  },
  {
   "cell_type": "code",
   "execution_count": null,
   "id": "38100629",
   "metadata": {
    "collapsed": false,
    "jupyter": {
     "outputs_hidden": false
    },
    "pycharm": {
     "name": "#%%\n"
    }
   },
   "outputs": [],
   "source": [
    "plot_importance(split_importance, \"Feature Split Importance\")"
   ]
  },
  {
   "cell_type": "markdown",
   "source": [
    "## 3. Plot Decision Tree"
   ],
   "metadata": {
    "collapsed": false,
    "pycharm": {
     "name": "#%% md\n"
    }
   }
  },
  {
   "cell_type": "code",
   "execution_count": null,
   "outputs": [],
   "source": [
    "!pip install pydot-ng\n",
    "\n",
    "#For windows Users\n",
    "import os\n",
    "os.environ[\"PATH\"] += os.pathsep + 'C:\\\\Program Files\\\\Graphviz\\\\bin\\\\'"
   ],
   "metadata": {
    "collapsed": false,
    "pycharm": {
     "name": "#%%\n"
    }
   }
  },
  {
   "cell_type": "code",
   "execution_count": null,
   "outputs": [],
   "source": [
    "#!pip install graphviz\n",
    "def plot_tree(tree_index):\n",
    "    lgb.plot_tree(booster, tree_index=tree_index, show_info=[\"split_gain\", \"internal_value\", \"internal_count\"], orientation=\"vertical\",\n",
    "                 figsize=(150,150))\n",
    "    \n",
    "\n",
    "plot_tree(1)"
   ],
   "metadata": {
    "collapsed": false,
    "pycharm": {
     "name": "#%%\n"
    }
   }
  },
  {
   "cell_type": "code",
   "execution_count": null,
   "outputs": [],
   "source": [],
   "metadata": {
    "collapsed": false,
    "pycharm": {
     "name": "#%%\n"
    }
   }
  }
 ],
 "metadata": {
  "kernelspec": {
   "display_name": "Python 3 (ipykernel)",
   "language": "python",
   "name": "python3"
  },
  "language_info": {
   "codemirror_mode": {
    "name": "ipython",
    "version": 3
   },
   "file_extension": ".py",
   "mimetype": "text/x-python",
   "name": "python",
   "nbconvert_exporter": "python",
   "pygments_lexer": "ipython3",
   "version": "3.10.5"
  }
 },
 "nbformat": 4,
 "nbformat_minor": 5
}