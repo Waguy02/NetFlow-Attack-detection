{
 "cells": [
  {
   "cell_type": "markdown",
   "source": [
    "# Exploratory Data Analysis (EDA)"
   ],
   "metadata": {
    "collapsed": false,
    "pycharm": {
     "name": "#%% md\n"
    }
   }
  },
  {
   "cell_type": "code",
   "execution_count": 1,
   "metadata": {
    "collapsed": false,
    "jupyter": {
     "outputs_hidden": false
    },
    "pycharm": {
     "name": "#%%\n"
    }
   },
   "outputs": [],
   "source": [
    "import pandas as pd\n",
    "import numpy as np\n",
    "#Libraries for graph visualization\n",
    "import networkx as nx"
   ]
  },
  {
   "cell_type": "code",
   "execution_count": 2,
   "outputs": [],
   "source": [
    "%load_ext autoreload\n",
    "%autoreload 2"
   ],
   "metadata": {
    "collapsed": false,
    "pycharm": {
     "name": "#%%\n"
    }
   }
  },
  {
   "cell_type": "code",
   "execution_count": null,
   "outputs": [],
   "source": [
    "from network_ad.config import DATA_PATH\n",
    "import matplotlib.pyplot as plt\n",
    "import seaborn as sns"
   ],
   "metadata": {
    "collapsed": false,
    "pycharm": {
     "name": "#%%\n"
    }
   }
  },
  {
   "cell_type": "markdown",
   "source": [
    "# Load the data"
   ],
   "metadata": {
    "collapsed": false,
    "pycharm": {
     "name": "#%% md\n"
    }
   }
  },
  {
   "cell_type": "code",
   "execution_count": null,
   "outputs": [],
   "source": [
    "from network_ad.config import RAW_DATA_FILE\n",
    "\n",
    "\n",
    "def load_data():\n",
    "    return pd.read_csv(DATA_PATH / RAW_DATA_FILE)\n",
    "\n",
    "data_df = load_data()\n"
   ],
   "metadata": {
    "collapsed": false,
    "pycharm": {
     "name": "#%%\n"
    }
   }
  },
  {
   "cell_type": "code",
   "execution_count": null,
   "outputs": [],
   "source": [
    "data_df.head(n=50)"
   ],
   "metadata": {
    "collapsed": false,
    "pycharm": {
     "name": "#%%\n"
    }
   }
  },
  {
   "cell_type": "code",
   "execution_count": null,
   "outputs": [],
   "source": [
    "data_df.info()"
   ],
   "metadata": {
    "collapsed": false,
    "pycharm": {
     "name": "#%%\n"
    }
   }
  },
  {
   "cell_type": "code",
   "execution_count": null,
   "outputs": [],
   "source": [
    "# Number of distinct source IP  and destination IP\n",
    "print(\"Number of distinct source IP and destination IP: \", data_df['IPV4_SRC_ADDR'].nunique(), data_df['IPV4_DST_ADDR'].nunique())"
   ],
   "metadata": {
    "collapsed": false,
    "pycharm": {
     "name": "#%%\n"
    }
   }
  },
  {
   "cell_type": "code",
   "execution_count": null,
   "outputs": [],
   "source": [],
   "metadata": {
    "collapsed": false,
    "pycharm": {
     "name": "#%%\n"
    }
   }
  },
  {
   "cell_type": "markdown",
   "source": [
    "## Distribution of number of occurences of each source and destination IP\n",
    "-------------------------\n",
    "Note that 75% of source IP appear less than 6 times and 75% of destination IP appear less than 9 times."
   ],
   "metadata": {
    "collapsed": false,
    "pycharm": {
     "name": "#%% md\n"
    }
   }
  },
  {
   "cell_type": "code",
   "execution_count": null,
   "outputs": [],
   "source": [
    "\n",
    "display(data_df['IPV4_SRC_ADDR'].value_counts().describe())\n",
    "# Distribution of number of occurences of each destination IP\n",
    "display(data_df['IPV4_DST_ADDR'].value_counts().describe())"
   ],
   "metadata": {
    "collapsed": false,
    "pycharm": {
     "name": "#%%\n"
    }
   }
  },
  {
   "cell_type": "markdown",
   "source": [
    "## Distribution of labels\n",
    "-------------------------\n",
    "We can see that there are 96.4% of normal traffic and 3.6% of malicious traffic."
   ],
   "metadata": {
    "collapsed": false,
    "pycharm": {
     "name": "#%% md\n"
    }
   }
  },
  {
   "cell_type": "code",
   "execution_count": null,
   "outputs": [],
   "source": [
    "#Statistical description of the labels (with absolute values not Frequency)\n",
    "display(data_df['Label'].value_counts().plot(kind='bar'))\n",
    "\n",
    "plt.figure(figsize=(10,10))\n",
    "data_df['Label'].value_counts().plot.pie(autopct='%1.1f%%')"
   ],
   "metadata": {
    "collapsed": false,
    "pycharm": {
     "name": "#%%\n"
    }
   }
  },
  {
   "cell_type": "code",
   "execution_count": null,
   "outputs": [],
   "source": [
    "# distribution of attack types (large PIe chart)\n",
    "plt.figure(figsize=(10,10))\n",
    "display(data_df.query('Label != 0')['Attack'].value_counts().plot(kind='bar'))\n",
    "\n",
    "plt.figure(figsize=(10,10))\n",
    "data_df.query('Label != 0')['Attack'].value_counts().plot.pie(autopct='%1.1f%%')"
   ],
   "metadata": {
    "collapsed": false,
    "pycharm": {
     "name": "#%%\n"
    }
   }
  },
  {
   "cell_type": "markdown",
   "source": [
    "## Correlation Analyis"
   ],
   "metadata": {
    "collapsed": false,
    "pycharm": {
     "name": "#%% md\n"
    }
   }
  },
  {
   "cell_type": "code",
   "execution_count": null,
   "outputs": [],
   "source": [
    "plt.figure(figsize=(20,20))\n",
    "\n",
    "sns.heatmap(data_df.corr())"
   ],
   "metadata": {
    "collapsed": false,
    "pycharm": {
     "name": "#%%\n"
    }
   }
  },
  {
   "cell_type": "markdown",
   "source": [
    "## Top 20 most correlated features with the label"
   ],
   "metadata": {
    "collapsed": false,
    "pycharm": {
     "name": "#%% md\n"
    }
   }
  },
  {
   "cell_type": "code",
   "execution_count": null,
   "outputs": [],
   "source": [
    "data_df.corr().abs()['Label'].sort_values(ascending=False).head(20)"
   ],
   "metadata": {
    "collapsed": false,
    "pycharm": {
     "name": "#%%\n"
    }
   }
  },
  {
   "cell_type": "code",
   "execution_count": null,
   "outputs": [],
   "source": [
    "# Nombre de flux ayant la même adresse IP source et adresse IP de destination\n",
    "data_df.query('IPV4_SRC_ADDR == IPV4_DST_ADDR')"
   ],
   "metadata": {
    "collapsed": false,
    "pycharm": {
     "name": "#%%\n"
    }
   }
  },
  {
   "cell_type": "markdown",
   "source": [
    "## Protocols in the dataset"
   ],
   "metadata": {
    "collapsed": false,
    "pycharm": {
     "name": "#%% md\n"
    }
   }
  },
  {
   "cell_type": "code",
   "execution_count": null,
   "outputs": [],
   "source": [
    "plt.figure(figsize=(10,10))\n",
    "data_df['PROTOCOL'].value_counts().plot.pie(autopct='%1.1f%%')"
   ],
   "metadata": {
    "collapsed": false,
    "pycharm": {
     "name": "#%%\n"
    }
   }
  },
  {
   "cell_type": "markdown",
   "source": [
    "## Analysis of subnets ipv4"
   ],
   "metadata": {
    "collapsed": false,
    "pycharm": {
     "name": "#%% md\n"
    }
   }
  },
  {
   "cell_type": "markdown",
   "source": [
    "### Three first octets of the source and destination IP addresses"
   ],
   "metadata": {
    "collapsed": false,
    "pycharm": {
     "name": "#%% md\n"
    }
   }
  },
  {
   "cell_type": "code",
   "execution_count": null,
   "outputs": [],
   "source": [
    "data_df['IPV4_SRC_ADDR_OCTET1_3']= data_df['IPV4_SRC_ADDR'].apply(lambda x: '.'.join(x.split('.')[:3]))\n",
    "data_df['IPV4_DST_ADDR_OCTET1_3']= data_df['IPV4_DST_ADDR'].apply(lambda x: '.'.join(x.split('.')[:3]))\n",
    "\n",
    "#Statistical description of the source IP addresses\n",
    "print(\"Number of distinct source networks: \", data_df['IPV4_SRC_ADDR_OCTET1_3'].nunique())\n",
    "#Statistical description of the destination IP addresses\n",
    "print(\"Number of distinct destination networks \", data_df['IPV4_DST_ADDR_OCTET1_3'].nunique())\n",
    "\n",
    "#The source and destination networks\n",
    "print(\"Source networks: \", data_df['IPV4_SRC_ADDR_OCTET1_3'].unique())\n",
    "print(\"Destination networks: \", data_df['IPV4_DST_ADDR_OCTET1_3'].unique())"
   ],
   "metadata": {
    "collapsed": false,
    "pycharm": {
     "name": "#%%\n"
    }
   }
  },
  {
   "cell_type": "markdown",
   "source": [
    "### Host part of the source and destination IP addresses"
   ],
   "metadata": {
    "collapsed": false,
    "pycharm": {
     "name": "#%% md\n"
    }
   }
  },
  {
   "cell_type": "code",
   "execution_count": null,
   "outputs": [],
   "source": [
    "data_df['IPV4_SRC_ADDR_OCTET4']= data_df['IPV4_SRC_ADDR'].apply(lambda x: x.split('.')[-1])\n",
    "data_df['IPV4_DST_ADDR_OCTET4']= data_df['IPV4_DST_ADDR'].apply(lambda x: x.split('.')[-1])\n",
    "\n",
    "#Statistical description of the source IP addresses\n",
    "print(\"Number of distinct source hosts: \", data_df['IPV4_SRC_ADDR_OCTET4'].nunique())\n",
    "#Statistical description of the destination IP addresses\n",
    "print(\"Number of distinct destination hosts \", data_df['IPV4_DST_ADDR_OCTET4'].nunique())\n",
    "\n",
    "# The source and destination hosts\n",
    "print(\"Source hosts: \", data_df['IPV4_SRC_ADDR_OCTET4'].unique())\n",
    "print(\"Destination hosts: \", data_df['IPV4_DST_ADDR_OCTET4'].unique())"
   ],
   "metadata": {
    "collapsed": false,
    "pycharm": {
     "name": "#%%\n"
    }
   }
  },
  {
   "cell_type": "markdown",
   "source": [
    "### Source and destination ports"
   ],
   "metadata": {
    "collapsed": false,
    "pycharm": {
     "name": "#%% md\n"
    }
   }
  },
  {
   "cell_type": "code",
   "execution_count": null,
   "outputs": [],
   "source": [
    "#Statistical description of the source ports\n",
    "print(\"Number of distinct source ports: \", data_df['L4_SRC_PORT'].nunique())\n",
    "\n",
    "#Statistical description of the destination ports\n",
    "print(\"Number of distinct destination ports \", data_df['L4_DST_PORT'].nunique())"
   ],
   "metadata": {
    "collapsed": false,
    "pycharm": {
     "name": "#%%\n"
    }
   }
  },
  {
   "cell_type": "code",
   "execution_count": null,
   "outputs": [],
   "source": [
    "# historgram of the source ports\n",
    "plt.figure(figsize=(10,5))\n",
    "sns.histplot(data_df['L4_SRC_PORT'])"
   ],
   "metadata": {
    "collapsed": false,
    "pycharm": {
     "name": "#%%\n"
    }
   }
  },
  {
   "cell_type": "code",
   "execution_count": null,
   "outputs": [],
   "source": [
    "# historgram of the destination ports\n",
    "plt.figure(figsize=(10,5))\n",
    "# sns.histplot(data_df['L4_DST_PORT'])\n",
    "# Only port appearl less than 10000 times\n",
    "#TOp 20 destination ports\n",
    "sns.histplot(data_df['L4_DST_PORT'].value_counts().head(20))\n",
    "\n",
    "# sns.histplot(data_df['L4_DST_PORT'].value_counts().loc[lambda x: x < 10000])\n"
   ],
   "metadata": {
    "collapsed": false,
    "pycharm": {
     "name": "#%%\n"
    }
   }
  },
  {
   "cell_type": "markdown",
   "source": [
    "### Ports distribution"
   ],
   "metadata": {
    "collapsed": false,
    "pycharm": {
     "name": "#%% md\n"
    }
   }
  },
  {
   "cell_type": "markdown",
   "source": [
    "#### Destination ports"
   ],
   "metadata": {
    "collapsed": false,
    "pycharm": {
     "name": "#%% md\n"
    }
   }
  },
  {
   "cell_type": "code",
   "execution_count": null,
   "outputs": [],
   "source": [
    "# Standard ports : 0-1024\n",
    "print(\"Number of distinct standard ports: \", data_df.query('L4_DST_PORT <= 1024')['L4_DST_PORT'].nunique())\n",
    "\n",
    "# Regular ports : 1025-49151\n",
    "print(\"Number of distinct regular ports: \", data_df.query('L4_DST_PORT > 1024 and L4_DST_PORT <= 49151')['L4_DST_PORT'].nunique())\n",
    "\n",
    "# Dynamic ports : 49152-65535\n",
    "print(\"Number of distinct dynamic ports: \", data_df.query('L4_DST_PORT > 49151')['L4_DST_PORT'].nunique())\n"
   ],
   "metadata": {
    "collapsed": false,
    "pycharm": {
     "name": "#%%\n"
    }
   }
  },
  {
   "cell_type": "markdown",
   "source": [
    "#### Source ports"
   ],
   "metadata": {
    "collapsed": false,
    "pycharm": {
     "name": "#%% md\n"
    }
   }
  },
  {
   "cell_type": "code",
   "execution_count": null,
   "outputs": [],
   "source": [
    "# Standard ports : 0-1024\n",
    "print(\"Number of distinct standard ports: \", data_df.query('L4_SRC_PORT <= 1024')['L4_SRC_PORT'].nunique())\n",
    "\n",
    "# Regular ports : 1025-49151\n",
    "print(\"Number of distinct regular ports: \", data_df.query('L4_SRC_PORT > 1024 and L4_SRC_PORT <= 49151')['L4_SRC_PORT'].nunique())\n",
    "\n",
    "# Dynamic ports : 49152-65535\n",
    "print(\"Number of distinct dynamic ports: \", data_df.query('L4_SRC_PORT > 49151')['L4_SRC_PORT'].nunique())\n"
   ],
   "metadata": {
    "collapsed": false,
    "pycharm": {
     "name": "#%%\n"
    }
   }
  },
  {
   "cell_type": "code",
   "execution_count": null,
   "outputs": [],
   "source": [],
   "metadata": {
    "collapsed": false,
    "pycharm": {
     "name": "#%%\n"
    }
   }
  },
  {
   "cell_type": "markdown",
   "source": [],
   "metadata": {
    "collapsed": false,
    "pycharm": {
     "name": "#%% md\n"
    }
   }
  },
  {
   "cell_type": "markdown",
   "source": [
    "## Protocols in the dataset"
   ],
   "metadata": {
    "collapsed": false,
    "pycharm": {
     "name": "#%% md\n"
    }
   }
  },
  {
   "cell_type": "code",
   "execution_count": 31,
   "outputs": [
    {
     "data": {
      "text/plain": "<AxesSubplot:ylabel='PROTOCOL'>"
     },
     "execution_count": 31,
     "metadata": {},
     "output_type": "execute_result"
    },
    {
     "data": {
      "text/plain": "<Figure size 720x720 with 1 Axes>",
      "image/png": "[encoded data removed]"
     },
     "metadata": {},
     "output_type": "display_data"
    }
   ],
   "source": [
    "plt.figure(figsize=(10,10))\n",
    "data_df['PROTOCOL'].value_counts().plot.pie(autopct='%1.1f%%')"
   ],
   "metadata": {
    "collapsed": false,
    "pycharm": {
     "name": "#%%\n"
    }
   }
  },
  {
   "cell_type": "markdown",
   "source": [
    "## Analysis of subnets ipv4"
   ],
   "metadata": {
    "collapsed": false,
    "pycharm": {
     "name": "#%% md\n"
    }
   }
  },
  {
   "cell_type": "markdown",
   "source": [
    "### Three first octets of the source and destination IP addresses"
   ],
   "metadata": {
    "collapsed": false,
    "pycharm": {
     "name": "#%% md\n"
    }
   }
  },
  {
   "cell_type": "code",
   "execution_count": 41,
   "outputs": [
    {
     "name": "stdout",
     "output_type": "stream",
     "text": [
      "Number of distinct source networks:  7\n",
      "Number of distinct destination networks  8\n",
      "Source networks:  ['59.166.0' '175.45.176' '149.171.126' '10.40.85' '10.40.182'\n",
      " '192.168.241' '127.0.0']\n",
      "Destination networks:  ['149.171.126' '59.166.0' '175.45.176' '224.0.0' '192.168.241' '10.40.182'\n",
      " '10.40.198' '127.0.0']\n"
     ]
    }
   ],
   "source": [
    "data_df['IPV4_SRC_ADDR_OCTET1_3']= data_df['IPV4_SRC_ADDR'].apply(lambda x: '.'.join(x.split('.')[:3]))\n",
    "data_df['IPV4_DST_ADDR_OCTET1_3']= data_df['IPV4_DST_ADDR'].apply(lambda x: '.'.join(x.split('.')[:3]))\n",
    "\n",
    "#Statistical description of the source IP addresses\n",
    "print(\"Number of distinct source networks: \", data_df['IPV4_SRC_ADDR_OCTET1_3'].nunique())\n",
    "#Statistical description of the destination IP addresses\n",
    "print(\"Number of distinct destination networks \", data_df['IPV4_DST_ADDR_OCTET1_3'].nunique())\n",
    "\n",
    "#The source and destination networks\n",
    "print(\"Source networks: \", data_df['IPV4_SRC_ADDR_OCTET1_3'].unique())\n",
    "print(\"Destination networks: \", data_df['IPV4_DST_ADDR_OCTET1_3'].unique())"
   ],
   "metadata": {
    "collapsed": false,
    "pycharm": {
     "name": "#%%\n"
    }
   }
  },
  {
   "cell_type": "markdown",
   "source": [
    "### Host part of the source and destination IP addresses"
   ],
   "metadata": {
    "collapsed": false,
    "pycharm": {
     "name": "#%% md\n"
    }
   }
  },
  {
   "cell_type": "code",
   "execution_count": 42,
   "outputs": [
    {
     "name": "stdout",
     "output_type": "stream",
     "text": [
      "Number of distinct source hosts:  21\n",
      "Number of distinct destination hosts  23\n",
      "Source hosts:  ['5' '1' '0' '7' '3' '2' '6' '9' '4' '8' '15' '10' '19' '13' '11' '14'\n",
      " '17' '12' '18' '16' '243']\n",
      "Destination hosts:  ['8' '14' '3' '7' '5' '9' '6' '2' '1' '4' '0' '13' '16' '15' '10' '18'\n",
      " '17' '11' '12' '19' '50' '255' '243']\n"
     ]
    }
   ],
   "source": [
    "data_df['IPV4_SRC_ADDR_OCTET4']= data_df['IPV4_SRC_ADDR'].apply(lambda x: x.split('.')[-1])\n",
    "data_df['IPV4_DST_ADDR_OCTET4']= data_df['IPV4_DST_ADDR'].apply(lambda x: x.split('.')[-1])\n",
    "\n",
    "#Statistical description of the source IP addresses\n",
    "print(\"Number of distinct source hosts: \", data_df['IPV4_SRC_ADDR_OCTET4'].nunique())\n",
    "#Statistical description of the destination IP addresses\n",
    "print(\"Number of distinct destination hosts \", data_df['IPV4_DST_ADDR_OCTET4'].nunique())\n",
    "\n",
    "# The source and destination hosts\n",
    "print(\"Source hosts: \", data_df['IPV4_SRC_ADDR_OCTET4'].unique())\n",
    "print(\"Destination hosts: \", data_df['IPV4_DST_ADDR_OCTET4'].unique())"
   ],
   "metadata": {
    "collapsed": false,
    "pycharm": {
     "name": "#%%\n"
    }
   }
  },
  {
   "cell_type": "markdown",
   "source": [
    "### Source and destination ports"
   ],
   "metadata": {
    "collapsed": false,
    "pycharm": {
     "name": "#%% md\n"
    }
   }
  },
  {
   "cell_type": "code",
   "execution_count": 45,
   "outputs": [
    {
     "name": "stdout",
     "output_type": "stream",
     "text": [
      "Number of distinct source ports:  64601\n",
      "Number of distinct destination ports  64625\n"
     ]
    }
   ],
   "source": [
    "#Statistical description of the source ports\n",
    "print(\"Number of distinct source ports: \", data_df['L4_SRC_PORT'].nunique())\n",
    "\n",
    "#Statistical description of the destination ports\n",
    "print(\"Number of distinct destination ports \", data_df['L4_DST_PORT'].nunique())"
   ],
   "metadata": {
    "collapsed": false,
    "pycharm": {
     "name": "#%%\n"
    }
   }
  },
  {
   "cell_type": "code",
   "execution_count": 50,
   "outputs": [
    {
     "data": {
      "text/plain": "<AxesSubplot:xlabel='L4_SRC_PORT', ylabel='Count'>"
     },
     "execution_count": 50,
     "metadata": {},
     "output_type": "execute_result"
    },
    {
     "data": {
      "text/plain": "<Figure size 720x360 with 1 Axes>",
      "image/png": "[encoded data removed]"
     },
     "metadata": {
      "needs_background": "light"
     },
     "output_type": "display_data"
    }
   ],
   "source": [
    "# historgram of the source ports\n",
    "plt.figure(figsize=(10,5))\n",
    "sns.histplot(data_df['L4_SRC_PORT'])"
   ],
   "metadata": {
    "collapsed": false,
    "pycharm": {
     "name": "#%%\n"
    }
   }
  },
  {
   "cell_type": "code",
   "execution_count": 57,
   "outputs": [
    {
     "data": {
      "text/plain": "<AxesSubplot:xlabel='L4_DST_PORT', ylabel='Count'>"
     },
     "execution_count": 57,
     "metadata": {},
     "output_type": "execute_result"
    },
    {
     "data": {
      "text/plain": "<Figure size 720x360 with 1 Axes>",
      "image/png": "[encoded data removed]"
     },
     "metadata": {
      "needs_background": "light"
     },
     "output_type": "display_data"
    }
   ],
   "source": [
    "# historgram of the destination ports\n",
    "plt.figure(figsize=(10,5))\n",
    "# sns.histplot(data_df['L4_DST_PORT'])\n",
    "# Only port appearl less than 10000 times\n",
    "#TOp 20 destination ports\n",
    "sns.histplot(data_df['L4_DST_PORT'].value_counts().head(20))\n",
    "\n",
    "# sns.histplot(data_df['L4_DST_PORT'].value_counts().loc[lambda x: x < 10000])\n"
   ],
   "metadata": {
    "collapsed": false,
    "pycharm": {
     "name": "#%%\n"
    }
   }
  },
  {
   "cell_type": "markdown",
   "source": [
    "### Ports distribution"
   ],
   "metadata": {
    "collapsed": false,
    "pycharm": {
     "name": "#%% md\n"
    }
   }
  },
  {
   "cell_type": "markdown",
   "source": [
    "#### Destination ports"
   ],
   "metadata": {
    "collapsed": false,
    "pycharm": {
     "name": "#%% md\n"
    }
   }
  },
  {
   "cell_type": "code",
   "execution_count": 65,
   "outputs": [
    {
     "name": "stdout",
     "output_type": "stream",
     "text": [
      "Number of distinct standard ports:  116\n",
      "Number of distinct regular ports:  48127\n",
      "Number of distinct dynamic ports:  16382\n"
     ]
    }
   ],
   "source": [
    "# Standard ports : 0-1024\n",
    "print(\"Number of distinct standard ports: \", data_df.query('L4_DST_PORT <= 1024')['L4_DST_PORT'].nunique())\n",
    "\n",
    "# Regular ports : 1025-49151\n",
    "print(\"Number of distinct regular ports: \", data_df.query('L4_DST_PORT > 1024 and L4_DST_PORT <= 49151')['L4_DST_PORT'].nunique())\n",
    "\n",
    "# Dynamic ports : 49152-65535\n",
    "print(\"Number of distinct dynamic ports: \", data_df.query('L4_DST_PORT > 49151')['L4_DST_PORT'].nunique())\n"
   ],
   "metadata": {
    "collapsed": false,
    "pycharm": {
     "name": "#%%\n"
    }
   }
  },
  {
   "cell_type": "markdown",
   "source": [
    "#### Source ports"
   ],
   "metadata": {
    "collapsed": false,
    "pycharm": {
     "name": "#%% md\n"
    }
   }
  },
  {
   "cell_type": "code",
   "execution_count": 66,
   "outputs": [
    {
     "name": "stdout",
     "output_type": "stream",
     "text": [
      "Number of distinct standard ports:  90\n",
      "Number of distinct regular ports:  48127\n",
      "Number of distinct dynamic ports:  16384\n"
     ]
    }
   ],
   "source": [
    "# Standard ports : 0-1024\n",
    "print(\"Number of distinct standard ports: \", data_df.query('L4_SRC_PORT <= 1024')['L4_SRC_PORT'].nunique())\n",
    "\n",
    "# Regular ports : 1025-49151\n",
    "print(\"Number of distinct regular ports: \", data_df.query('L4_SRC_PORT > 1024 and L4_SRC_PORT <= 49151')['L4_SRC_PORT'].nunique())\n",
    "\n",
    "# Dynamic ports : 49152-65535\n",
    "print(\"Number of distinct dynamic ports: \", data_df.query('L4_SRC_PORT > 49151')['L4_SRC_PORT'].nunique())\n"
   ],
   "metadata": {
    "collapsed": false,
    "pycharm": {
     "name": "#%%\n"
    }
   }
  },
  {
   "cell_type": "code",
   "execution_count": null,
   "outputs": [],
   "source": [],
   "metadata": {
    "collapsed": false,
    "pycharm": {
     "name": "#%%\n"
    }
   }
  },
  {
   "cell_type": "markdown",
   "source": [],
   "metadata": {
    "collapsed": false,
    "pycharm": {
     "name": "#%% md\n"
    }
   }
  }
 ],
 "metadata": {
  "kernelspec": {
   "display_name": "Python 3 (ipykernel)",
   "language": "python",
   "name": "python3"
  },
  "language_info": {
   "codemirror_mode": {
    "name": "ipython",
    "version": 3
   },
   "file_extension": ".py",
   "mimetype": "text/x-python",
   "name": "python",
   "nbconvert_exporter": "python",
   "pygments_lexer": "ipython3",
   "version": "3.10.5"
  }
 },
 "nbformat": 4,
 "nbformat_minor": 4
}